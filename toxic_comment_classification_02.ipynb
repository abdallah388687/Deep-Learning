{
  "metadata": {
    "kernelspec": {
      "language": "python",
      "display_name": "Python 3",
      "name": "python3"
    },
    "language_info": {
      "pygments_lexer": "ipython3",
      "nbconvert_exporter": "python",
      "version": "3.6.4",
      "file_extension": ".py",
      "codemirror_mode": {
        "name": "ipython",
        "version": 3
      },
      "name": "python",
      "mimetype": "text/x-python"
    },
    "colab": {
      "name": "toxic-comment-classification 02.ipynb",
      "provenance": [],
      "collapsed_sections": [
        "7n4N0zTBjnI3",
        "ts3JgZkijnI3",
        "j3Vc6N-vjnI4",
        "5KekO-rxjnI4",
        "MbOYDe0sjnI5",
        "jyb-oZ6SjnI5",
        "SC2opuJvjnI6",
        "DheBUa-DjnI6",
        "WmhCwWp0jnI6",
        "aQncZZRYjnI7",
        "wHMAxpIcjnI7",
        "chViD401jnI8",
        "bxxjxK43jnI8"
      ]
    },
    "accelerator": "GPU",
    "gpuClass": "standard"
  },
  "nbformat_minor": 0,
  "nbformat": 4,
  "cells": [
    {
      "cell_type": "markdown",
      "source": [
        "### **Imports**"
      ],
      "metadata": {
        "id": "yPbrZNmajnIs"
      }
    },
    {
      "cell_type": "code",
      "source": [
        "import os\n",
        "import numpy as np\n",
        "import pandas as pd\n",
        "import matplotlib.pyplot as plt\n",
        "import seaborn as sns\n",
        "import re\n",
        "import nltk\n",
        "\n",
        "from nltk.corpus import stopwords\n",
        "nltk.download('stopwords')\n",
        "\n",
        "from nltk.stem import WordNetLemmatizer\n",
        "nltk.download('wordnet')\n",
        "\n",
        "from sklearn.model_selection import train_test_split\n",
        "from sklearn.feature_extraction.text import TfidfVectorizer\n",
        "from sklearn.svm import LinearSVC\n",
        "from sklearn.pipeline import make_pipeline\n",
        "\n",
        "from keras import models\n",
        "from keras import layers\n",
        "from tensorflow.keras import losses\n",
        "from tensorflow.keras import metrics\n",
        "from tensorflow.keras import optimizers\n",
        "from keras.preprocessing.text import one_hot\n",
        "from keras.preprocessing.sequence import pad_sequences\n",
        "from keras.preprocessing.text import Tokenizer\n",
        "from keras.utils.vis_utils import plot_model\n",
        "from tensorflow.keras.layers import LSTM, Bidirectional, GRU, Dropout\n",
        "\n",
        "import warnings\n",
        "warnings.filterwarnings('ignore')"
      ],
      "metadata": {
        "id": "bceTLSmsjnIw",
        "outputId": "67fa33ad-290b-48df-da96-cae163e15ac4",
        "execution": {
          "iopub.status.busy": "2022-07-09T19:31:07.145946Z",
          "iopub.execute_input": "2022-07-09T19:31:07.146414Z",
          "iopub.status.idle": "2022-07-09T19:31:07.158560Z",
          "shell.execute_reply.started": "2022-07-09T19:31:07.146382Z",
          "shell.execute_reply": "2022-07-09T19:31:07.157440Z"
        },
        "trusted": true,
        "colab": {
          "base_uri": "https://localhost:8080/"
        }
      },
      "execution_count": 1,
      "outputs": [
        {
          "output_type": "stream",
          "name": "stderr",
          "text": [
            "[nltk_data] Downloading package stopwords to /root/nltk_data...\n",
            "[nltk_data]   Unzipping corpora/stopwords.zip.\n",
            "[nltk_data] Downloading package wordnet to /root/nltk_data...\n"
          ]
        }
      ]
    },
    {
      "cell_type": "code",
      "source": [
        "pd.set_option('display.max_columns', None)\n",
        "pd.set_option('display.max_colwidth', None)"
      ],
      "metadata": {
        "id": "5bZtToThjnIx",
        "execution": {
          "iopub.status.busy": "2022-07-09T19:31:07.168954Z",
          "iopub.execute_input": "2022-07-09T19:31:07.169402Z",
          "iopub.status.idle": "2022-07-09T19:31:07.174046Z",
          "shell.execute_reply.started": "2022-07-09T19:31:07.169370Z",
          "shell.execute_reply": "2022-07-09T19:31:07.173127Z"
        },
        "trusted": true
      },
      "execution_count": 2,
      "outputs": []
    },
    {
      "cell_type": "markdown",
      "source": [
        "## **1. Reading Toxic Comments Dataset**"
      ],
      "metadata": {
        "id": "9zPSny9mjnIy"
      }
    },
    {
      "cell_type": "code",
      "source": [
        "raw_train = pd.read_csv('train.csv', index_col='id')\n",
        "raw_test = pd.read_csv('test.csv', index_col='id')"
      ],
      "metadata": {
        "id": "x1B7btAJjnIy",
        "execution": {
          "iopub.status.busy": "2022-07-09T19:31:07.254137Z",
          "iopub.execute_input": "2022-07-09T19:31:07.255218Z",
          "iopub.status.idle": "2022-07-09T19:31:09.292274Z",
          "shell.execute_reply.started": "2022-07-09T19:31:07.255175Z",
          "shell.execute_reply": "2022-07-09T19:31:09.291155Z"
        },
        "trusted": true
      },
      "execution_count": 3,
      "outputs": []
    },
    {
      "cell_type": "code",
      "source": [
        "raw_train.rename(columns={'comment_text': 'comment'}, inplace=True)\n",
        "raw_test.rename(columns={'comment_text': 'comment'}, inplace=True)"
      ],
      "metadata": {
        "id": "6h2vI-HOjnIy",
        "execution": {
          "iopub.status.busy": "2022-07-09T19:31:09.294353Z",
          "iopub.execute_input": "2022-07-09T19:31:09.294728Z",
          "iopub.status.idle": "2022-07-09T19:31:09.301673Z",
          "shell.execute_reply.started": "2022-07-09T19:31:09.294695Z",
          "shell.execute_reply": "2022-07-09T19:31:09.300950Z"
        },
        "trusted": true
      },
      "execution_count": 4,
      "outputs": []
    },
    {
      "cell_type": "code",
      "source": [
        "raw_train.info()"
      ],
      "metadata": {
        "id": "hHGUemF0jnIz",
        "execution": {
          "iopub.status.busy": "2022-07-09T19:31:09.302771Z",
          "iopub.execute_input": "2022-07-09T19:31:09.303625Z",
          "iopub.status.idle": "2022-07-09T19:31:09.346292Z",
          "shell.execute_reply.started": "2022-07-09T19:31:09.303592Z",
          "shell.execute_reply": "2022-07-09T19:31:09.345114Z"
        },
        "trusted": true,
        "colab": {
          "base_uri": "https://localhost:8080/"
        },
        "outputId": "2dc660e3-c35b-4f66-e874-3e619750a15c"
      },
      "execution_count": 5,
      "outputs": [
        {
          "output_type": "stream",
          "name": "stdout",
          "text": [
            "<class 'pandas.core.frame.DataFrame'>\n",
            "Index: 159571 entries, 0000997932d777bf to fff46fc426af1f9a\n",
            "Data columns (total 7 columns):\n",
            " #   Column         Non-Null Count   Dtype \n",
            "---  ------         --------------   ----- \n",
            " 0   comment        159571 non-null  object\n",
            " 1   toxic          159571 non-null  int64 \n",
            " 2   severe_toxic   159571 non-null  int64 \n",
            " 3   obscene        159571 non-null  int64 \n",
            " 4   threat         159571 non-null  int64 \n",
            " 5   insult         159571 non-null  int64 \n",
            " 6   identity_hate  159571 non-null  int64 \n",
            "dtypes: int64(6), object(1)\n",
            "memory usage: 9.7+ MB\n"
          ]
        }
      ]
    },
    {
      "cell_type": "code",
      "source": [
        "raw_test.info()"
      ],
      "metadata": {
        "id": "y-ZvBJqPjnIz",
        "execution": {
          "iopub.status.busy": "2022-07-09T19:31:09.348723Z",
          "iopub.execute_input": "2022-07-09T19:31:09.349152Z",
          "iopub.status.idle": "2022-07-09T19:31:09.383016Z",
          "shell.execute_reply.started": "2022-07-09T19:31:09.349119Z",
          "shell.execute_reply": "2022-07-09T19:31:09.381988Z"
        },
        "trusted": true,
        "colab": {
          "base_uri": "https://localhost:8080/"
        },
        "outputId": "689337e4-fda6-4d43-b5d2-3c0251e0bcc9"
      },
      "execution_count": 6,
      "outputs": [
        {
          "output_type": "stream",
          "name": "stdout",
          "text": [
            "<class 'pandas.core.frame.DataFrame'>\n",
            "Index: 153164 entries, 00001cee341fdb12 to ffffce3fb183ee80\n",
            "Data columns (total 1 columns):\n",
            " #   Column   Non-Null Count   Dtype \n",
            "---  ------   --------------   ----- \n",
            " 0   comment  153164 non-null  object\n",
            "dtypes: object(1)\n",
            "memory usage: 2.3+ MB\n"
          ]
        }
      ]
    },
    {
      "cell_type": "markdown",
      "source": [
        "## **2. EDA**"
      ],
      "metadata": {
        "id": "AxI99-hFjnI0"
      }
    },
    {
      "cell_type": "markdown",
      "source": [
        "#### **2.1 Show a sample of data**\n",
        "(to find out the required text preprocessing steps)"
      ],
      "metadata": {
        "id": "XEwhhk0RjnI0"
      }
    },
    {
      "cell_type": "code",
      "source": [
        "raw_train.head()"
      ],
      "metadata": {
        "id": "IufiWn8ijnI0",
        "execution": {
          "iopub.status.busy": "2022-07-09T19:31:09.384953Z",
          "iopub.execute_input": "2022-07-09T19:31:09.385428Z",
          "iopub.status.idle": "2022-07-09T19:31:09.400516Z",
          "shell.execute_reply.started": "2022-07-09T19:31:09.385385Z",
          "shell.execute_reply": "2022-07-09T19:31:09.399371Z"
        },
        "trusted": true,
        "colab": {
          "base_uri": "https://localhost:8080/",
          "height": 403
        },
        "outputId": "aae55477-b4b2-4c45-e08b-322deeace4b2"
      },
      "execution_count": 7,
      "outputs": [
        {
          "output_type": "execute_result",
          "data": {
            "text/plain": [
              "                                                                                                                                                                                                                                                                                                                                                                                                                                                                                                                                                                                                                                                             comment  \\\n",
              "id                                                                                                                                                                                                                                                                                                                                                                                                                                                                                                                                                                                                                                                                     \n",
              "0000997932d777bf                                                                                                                                                                                                                                                                                                                                                                           Explanation\\nWhy the edits made under my username Hardcore Metallica Fan were reverted? They weren't vandalisms, just closure on some GAs after I voted at New York Dolls FAC. And please don't remove the template from the talk page since I'm retired now.89.205.38.27   \n",
              "000103f0d9cfb60f                                                                                                                                                                                                                                                                                                                                                                                                                                                                                                                                    D'aww! He matches this background colour I'm seemingly stuck with. Thanks.  (talk) 21:51, January 11, 2016 (UTC)   \n",
              "000113f07ec002fd                                                                                                                                                                                                                                                                                                                                                                                                           Hey man, I'm really not trying to edit war. It's just that this guy is constantly removing relevant information and talking to me through edits instead of my talk page. He seems to care more about the formatting than the actual info.   \n",
              "0001b41b1c6bb37e  \"\\nMore\\nI can't make any real suggestions on improvement - I wondered if the section statistics should be later on, or a subsection of \"\"types of accidents\"\"  -I think the references may need tidying so that they are all in the exact same format ie date format etc. I can do that later on, if no-one else does first - if you have any preferences for formatting style on references or want to do it yourself please let me know.\\n\\nThere appears to be a backlog on articles for review so I guess there may be a delay until a reviewer turns up. It's listed in the relevant form eg Wikipedia:Good_article_nominations#Transport  \"   \n",
              "0001d958c54c6e35                                                                                                                                                                                                                                                                                                                                                                                                                                                                                                                                                                                 You, sir, are my hero. Any chance you remember what page that's on?   \n",
              "\n",
              "                  toxic  severe_toxic  obscene  threat  insult  identity_hate  \n",
              "id                                                                             \n",
              "0000997932d777bf      0             0        0       0       0              0  \n",
              "000103f0d9cfb60f      0             0        0       0       0              0  \n",
              "000113f07ec002fd      0             0        0       0       0              0  \n",
              "0001b41b1c6bb37e      0             0        0       0       0              0  \n",
              "0001d958c54c6e35      0             0        0       0       0              0  "
            ],
            "text/html": [
              "\n",
              "  <div id=\"df-8dc06d78-f006-412c-a0db-904ff7bd02ed\">\n",
              "    <div class=\"colab-df-container\">\n",
              "      <div>\n",
              "<style scoped>\n",
              "    .dataframe tbody tr th:only-of-type {\n",
              "        vertical-align: middle;\n",
              "    }\n",
              "\n",
              "    .dataframe tbody tr th {\n",
              "        vertical-align: top;\n",
              "    }\n",
              "\n",
              "    .dataframe thead th {\n",
              "        text-align: right;\n",
              "    }\n",
              "</style>\n",
              "<table border=\"1\" class=\"dataframe\">\n",
              "  <thead>\n",
              "    <tr style=\"text-align: right;\">\n",
              "      <th></th>\n",
              "      <th>comment</th>\n",
              "      <th>toxic</th>\n",
              "      <th>severe_toxic</th>\n",
              "      <th>obscene</th>\n",
              "      <th>threat</th>\n",
              "      <th>insult</th>\n",
              "      <th>identity_hate</th>\n",
              "    </tr>\n",
              "    <tr>\n",
              "      <th>id</th>\n",
              "      <th></th>\n",
              "      <th></th>\n",
              "      <th></th>\n",
              "      <th></th>\n",
              "      <th></th>\n",
              "      <th></th>\n",
              "      <th></th>\n",
              "    </tr>\n",
              "  </thead>\n",
              "  <tbody>\n",
              "    <tr>\n",
              "      <th>0000997932d777bf</th>\n",
              "      <td>Explanation\\nWhy the edits made under my username Hardcore Metallica Fan were reverted? They weren't vandalisms, just closure on some GAs after I voted at New York Dolls FAC. And please don't remove the template from the talk page since I'm retired now.89.205.38.27</td>\n",
              "      <td>0</td>\n",
              "      <td>0</td>\n",
              "      <td>0</td>\n",
              "      <td>0</td>\n",
              "      <td>0</td>\n",
              "      <td>0</td>\n",
              "    </tr>\n",
              "    <tr>\n",
              "      <th>000103f0d9cfb60f</th>\n",
              "      <td>D'aww! He matches this background colour I'm seemingly stuck with. Thanks.  (talk) 21:51, January 11, 2016 (UTC)</td>\n",
              "      <td>0</td>\n",
              "      <td>0</td>\n",
              "      <td>0</td>\n",
              "      <td>0</td>\n",
              "      <td>0</td>\n",
              "      <td>0</td>\n",
              "    </tr>\n",
              "    <tr>\n",
              "      <th>000113f07ec002fd</th>\n",
              "      <td>Hey man, I'm really not trying to edit war. It's just that this guy is constantly removing relevant information and talking to me through edits instead of my talk page. He seems to care more about the formatting than the actual info.</td>\n",
              "      <td>0</td>\n",
              "      <td>0</td>\n",
              "      <td>0</td>\n",
              "      <td>0</td>\n",
              "      <td>0</td>\n",
              "      <td>0</td>\n",
              "    </tr>\n",
              "    <tr>\n",
              "      <th>0001b41b1c6bb37e</th>\n",
              "      <td>\"\\nMore\\nI can't make any real suggestions on improvement - I wondered if the section statistics should be later on, or a subsection of \"\"types of accidents\"\"  -I think the references may need tidying so that they are all in the exact same format ie date format etc. I can do that later on, if no-one else does first - if you have any preferences for formatting style on references or want to do it yourself please let me know.\\n\\nThere appears to be a backlog on articles for review so I guess there may be a delay until a reviewer turns up. It's listed in the relevant form eg Wikipedia:Good_article_nominations#Transport  \"</td>\n",
              "      <td>0</td>\n",
              "      <td>0</td>\n",
              "      <td>0</td>\n",
              "      <td>0</td>\n",
              "      <td>0</td>\n",
              "      <td>0</td>\n",
              "    </tr>\n",
              "    <tr>\n",
              "      <th>0001d958c54c6e35</th>\n",
              "      <td>You, sir, are my hero. Any chance you remember what page that's on?</td>\n",
              "      <td>0</td>\n",
              "      <td>0</td>\n",
              "      <td>0</td>\n",
              "      <td>0</td>\n",
              "      <td>0</td>\n",
              "      <td>0</td>\n",
              "    </tr>\n",
              "  </tbody>\n",
              "</table>\n",
              "</div>\n",
              "      <button class=\"colab-df-convert\" onclick=\"convertToInteractive('df-8dc06d78-f006-412c-a0db-904ff7bd02ed')\"\n",
              "              title=\"Convert this dataframe to an interactive table.\"\n",
              "              style=\"display:none;\">\n",
              "        \n",
              "  <svg xmlns=\"http://www.w3.org/2000/svg\" height=\"24px\"viewBox=\"0 0 24 24\"\n",
              "       width=\"24px\">\n",
              "    <path d=\"M0 0h24v24H0V0z\" fill=\"none\"/>\n",
              "    <path d=\"M18.56 5.44l.94 2.06.94-2.06 2.06-.94-2.06-.94-.94-2.06-.94 2.06-2.06.94zm-11 1L8.5 8.5l.94-2.06 2.06-.94-2.06-.94L8.5 2.5l-.94 2.06-2.06.94zm10 10l.94 2.06.94-2.06 2.06-.94-2.06-.94-.94-2.06-.94 2.06-2.06.94z\"/><path d=\"M17.41 7.96l-1.37-1.37c-.4-.4-.92-.59-1.43-.59-.52 0-1.04.2-1.43.59L10.3 9.45l-7.72 7.72c-.78.78-.78 2.05 0 2.83L4 21.41c.39.39.9.59 1.41.59.51 0 1.02-.2 1.41-.59l7.78-7.78 2.81-2.81c.8-.78.8-2.07 0-2.86zM5.41 20L4 18.59l7.72-7.72 1.47 1.35L5.41 20z\"/>\n",
              "  </svg>\n",
              "      </button>\n",
              "      \n",
              "  <style>\n",
              "    .colab-df-container {\n",
              "      display:flex;\n",
              "      flex-wrap:wrap;\n",
              "      gap: 12px;\n",
              "    }\n",
              "\n",
              "    .colab-df-convert {\n",
              "      background-color: #E8F0FE;\n",
              "      border: none;\n",
              "      border-radius: 50%;\n",
              "      cursor: pointer;\n",
              "      display: none;\n",
              "      fill: #1967D2;\n",
              "      height: 32px;\n",
              "      padding: 0 0 0 0;\n",
              "      width: 32px;\n",
              "    }\n",
              "\n",
              "    .colab-df-convert:hover {\n",
              "      background-color: #E2EBFA;\n",
              "      box-shadow: 0px 1px 2px rgba(60, 64, 67, 0.3), 0px 1px 3px 1px rgba(60, 64, 67, 0.15);\n",
              "      fill: #174EA6;\n",
              "    }\n",
              "\n",
              "    [theme=dark] .colab-df-convert {\n",
              "      background-color: #3B4455;\n",
              "      fill: #D2E3FC;\n",
              "    }\n",
              "\n",
              "    [theme=dark] .colab-df-convert:hover {\n",
              "      background-color: #434B5C;\n",
              "      box-shadow: 0px 1px 3px 1px rgba(0, 0, 0, 0.15);\n",
              "      filter: drop-shadow(0px 1px 2px rgba(0, 0, 0, 0.3));\n",
              "      fill: #FFFFFF;\n",
              "    }\n",
              "  </style>\n",
              "\n",
              "      <script>\n",
              "        const buttonEl =\n",
              "          document.querySelector('#df-8dc06d78-f006-412c-a0db-904ff7bd02ed button.colab-df-convert');\n",
              "        buttonEl.style.display =\n",
              "          google.colab.kernel.accessAllowed ? 'block' : 'none';\n",
              "\n",
              "        async function convertToInteractive(key) {\n",
              "          const element = document.querySelector('#df-8dc06d78-f006-412c-a0db-904ff7bd02ed');\n",
              "          const dataTable =\n",
              "            await google.colab.kernel.invokeFunction('convertToInteractive',\n",
              "                                                     [key], {});\n",
              "          if (!dataTable) return;\n",
              "\n",
              "          const docLinkHtml = 'Like what you see? Visit the ' +\n",
              "            '<a target=\"_blank\" href=https://colab.research.google.com/notebooks/data_table.ipynb>data table notebook</a>'\n",
              "            + ' to learn more about interactive tables.';\n",
              "          element.innerHTML = '';\n",
              "          dataTable['output_type'] = 'display_data';\n",
              "          await google.colab.output.renderOutput(dataTable, element);\n",
              "          const docLink = document.createElement('div');\n",
              "          docLink.innerHTML = docLinkHtml;\n",
              "          element.appendChild(docLink);\n",
              "        }\n",
              "      </script>\n",
              "    </div>\n",
              "  </div>\n",
              "  "
            ]
          },
          "metadata": {},
          "execution_count": 7
        }
      ]
    },
    {
      "cell_type": "code",
      "source": [
        "raw_test.head()"
      ],
      "metadata": {
        "id": "FI5Pzf3HjnI1",
        "execution": {
          "iopub.status.busy": "2022-07-09T19:31:09.402255Z",
          "iopub.execute_input": "2022-07-09T19:31:09.402562Z",
          "iopub.status.idle": "2022-07-09T19:31:09.411888Z",
          "shell.execute_reply.started": "2022-07-09T19:31:09.402535Z",
          "shell.execute_reply": "2022-07-09T19:31:09.410621Z"
        },
        "trusted": true,
        "colab": {
          "base_uri": "https://localhost:8080/",
          "height": 316
        },
        "outputId": "7bc31eec-9ace-40c1-a88d-ba48de0f21d3"
      },
      "execution_count": 8,
      "outputs": [
        {
          "output_type": "execute_result",
          "data": {
            "text/plain": [
              "                                                                                                                                                                                                                                                                                                                                                                                          comment\n",
              "id                                                                                                                                                                                                                                                                                                                                                                                               \n",
              "00001cee341fdb12  Yo bitch Ja Rule is more succesful then you'll ever be whats up with you and hating you sad mofuckas...i should bitch slap ur pethedic white faces and get you to kiss my ass you guys sicken me. Ja rule is about pride in da music man. dont diss that shit on him. and nothin is wrong bein like tupac he was a brother too...fuckin white boys get things right next time.,\n",
              "0000247867823ef7                                                                                                                                                                                                                                                                                                                             == From RfC == \\n\\n The title is fine as it is, IMO.\n",
              "00013b17ad220c46                                                                                                                                                                                                                                                                                                                       \" \\n\\n == Sources == \\n\\n * Zawe Ashton on Lapland —  /  \"\n",
              "00017563c3f7919a                                                                                                                                                                    :If you have a look back at the source, the information I updated was the correct form. I can only guess the source hadn't updated. I shall update the information once again but thank you for your message.\n",
              "00017695ad8997eb                                                                                                                                                                                                                                                                                                                                        I don't anonymously edit articles at all."
            ],
            "text/html": [
              "\n",
              "  <div id=\"df-4c5ca039-493b-4e12-9769-53ca19766584\">\n",
              "    <div class=\"colab-df-container\">\n",
              "      <div>\n",
              "<style scoped>\n",
              "    .dataframe tbody tr th:only-of-type {\n",
              "        vertical-align: middle;\n",
              "    }\n",
              "\n",
              "    .dataframe tbody tr th {\n",
              "        vertical-align: top;\n",
              "    }\n",
              "\n",
              "    .dataframe thead th {\n",
              "        text-align: right;\n",
              "    }\n",
              "</style>\n",
              "<table border=\"1\" class=\"dataframe\">\n",
              "  <thead>\n",
              "    <tr style=\"text-align: right;\">\n",
              "      <th></th>\n",
              "      <th>comment</th>\n",
              "    </tr>\n",
              "    <tr>\n",
              "      <th>id</th>\n",
              "      <th></th>\n",
              "    </tr>\n",
              "  </thead>\n",
              "  <tbody>\n",
              "    <tr>\n",
              "      <th>00001cee341fdb12</th>\n",
              "      <td>Yo bitch Ja Rule is more succesful then you'll ever be whats up with you and hating you sad mofuckas...i should bitch slap ur pethedic white faces and get you to kiss my ass you guys sicken me. Ja rule is about pride in da music man. dont diss that shit on him. and nothin is wrong bein like tupac he was a brother too...fuckin white boys get things right next time.,</td>\n",
              "    </tr>\n",
              "    <tr>\n",
              "      <th>0000247867823ef7</th>\n",
              "      <td>== From RfC == \\n\\n The title is fine as it is, IMO.</td>\n",
              "    </tr>\n",
              "    <tr>\n",
              "      <th>00013b17ad220c46</th>\n",
              "      <td>\" \\n\\n == Sources == \\n\\n * Zawe Ashton on Lapland —  /  \"</td>\n",
              "    </tr>\n",
              "    <tr>\n",
              "      <th>00017563c3f7919a</th>\n",
              "      <td>:If you have a look back at the source, the information I updated was the correct form. I can only guess the source hadn't updated. I shall update the information once again but thank you for your message.</td>\n",
              "    </tr>\n",
              "    <tr>\n",
              "      <th>00017695ad8997eb</th>\n",
              "      <td>I don't anonymously edit articles at all.</td>\n",
              "    </tr>\n",
              "  </tbody>\n",
              "</table>\n",
              "</div>\n",
              "      <button class=\"colab-df-convert\" onclick=\"convertToInteractive('df-4c5ca039-493b-4e12-9769-53ca19766584')\"\n",
              "              title=\"Convert this dataframe to an interactive table.\"\n",
              "              style=\"display:none;\">\n",
              "        \n",
              "  <svg xmlns=\"http://www.w3.org/2000/svg\" height=\"24px\"viewBox=\"0 0 24 24\"\n",
              "       width=\"24px\">\n",
              "    <path d=\"M0 0h24v24H0V0z\" fill=\"none\"/>\n",
              "    <path d=\"M18.56 5.44l.94 2.06.94-2.06 2.06-.94-2.06-.94-.94-2.06-.94 2.06-2.06.94zm-11 1L8.5 8.5l.94-2.06 2.06-.94-2.06-.94L8.5 2.5l-.94 2.06-2.06.94zm10 10l.94 2.06.94-2.06 2.06-.94-2.06-.94-.94-2.06-.94 2.06-2.06.94z\"/><path d=\"M17.41 7.96l-1.37-1.37c-.4-.4-.92-.59-1.43-.59-.52 0-1.04.2-1.43.59L10.3 9.45l-7.72 7.72c-.78.78-.78 2.05 0 2.83L4 21.41c.39.39.9.59 1.41.59.51 0 1.02-.2 1.41-.59l7.78-7.78 2.81-2.81c.8-.78.8-2.07 0-2.86zM5.41 20L4 18.59l7.72-7.72 1.47 1.35L5.41 20z\"/>\n",
              "  </svg>\n",
              "      </button>\n",
              "      \n",
              "  <style>\n",
              "    .colab-df-container {\n",
              "      display:flex;\n",
              "      flex-wrap:wrap;\n",
              "      gap: 12px;\n",
              "    }\n",
              "\n",
              "    .colab-df-convert {\n",
              "      background-color: #E8F0FE;\n",
              "      border: none;\n",
              "      border-radius: 50%;\n",
              "      cursor: pointer;\n",
              "      display: none;\n",
              "      fill: #1967D2;\n",
              "      height: 32px;\n",
              "      padding: 0 0 0 0;\n",
              "      width: 32px;\n",
              "    }\n",
              "\n",
              "    .colab-df-convert:hover {\n",
              "      background-color: #E2EBFA;\n",
              "      box-shadow: 0px 1px 2px rgba(60, 64, 67, 0.3), 0px 1px 3px 1px rgba(60, 64, 67, 0.15);\n",
              "      fill: #174EA6;\n",
              "    }\n",
              "\n",
              "    [theme=dark] .colab-df-convert {\n",
              "      background-color: #3B4455;\n",
              "      fill: #D2E3FC;\n",
              "    }\n",
              "\n",
              "    [theme=dark] .colab-df-convert:hover {\n",
              "      background-color: #434B5C;\n",
              "      box-shadow: 0px 1px 3px 1px rgba(0, 0, 0, 0.15);\n",
              "      filter: drop-shadow(0px 1px 2px rgba(0, 0, 0, 0.3));\n",
              "      fill: #FFFFFF;\n",
              "    }\n",
              "  </style>\n",
              "\n",
              "      <script>\n",
              "        const buttonEl =\n",
              "          document.querySelector('#df-4c5ca039-493b-4e12-9769-53ca19766584 button.colab-df-convert');\n",
              "        buttonEl.style.display =\n",
              "          google.colab.kernel.accessAllowed ? 'block' : 'none';\n",
              "\n",
              "        async function convertToInteractive(key) {\n",
              "          const element = document.querySelector('#df-4c5ca039-493b-4e12-9769-53ca19766584');\n",
              "          const dataTable =\n",
              "            await google.colab.kernel.invokeFunction('convertToInteractive',\n",
              "                                                     [key], {});\n",
              "          if (!dataTable) return;\n",
              "\n",
              "          const docLinkHtml = 'Like what you see? Visit the ' +\n",
              "            '<a target=\"_blank\" href=https://colab.research.google.com/notebooks/data_table.ipynb>data table notebook</a>'\n",
              "            + ' to learn more about interactive tables.';\n",
              "          element.innerHTML = '';\n",
              "          dataTable['output_type'] = 'display_data';\n",
              "          await google.colab.output.renderOutput(dataTable, element);\n",
              "          const docLink = document.createElement('div');\n",
              "          docLink.innerHTML = docLinkHtml;\n",
              "          element.appendChild(docLink);\n",
              "        }\n",
              "      </script>\n",
              "    </div>\n",
              "  </div>\n",
              "  "
            ]
          },
          "metadata": {},
          "execution_count": 8
        }
      ]
    },
    {
      "cell_type": "code",
      "source": [
        "raw_train.comment.sample(random_state=42)"
      ],
      "metadata": {
        "id": "Zpypa0mgjnI1",
        "execution": {
          "iopub.status.busy": "2022-07-09T19:31:09.413215Z",
          "iopub.execute_input": "2022-07-09T19:31:09.414117Z",
          "iopub.status.idle": "2022-07-09T19:31:09.429480Z",
          "shell.execute_reply.started": "2022-07-09T19:31:09.414063Z",
          "shell.execute_reply": "2022-07-09T19:31:09.428318Z"
        },
        "trusted": true,
        "colab": {
          "base_uri": "https://localhost:8080/"
        },
        "outputId": "26938f99-d3bb-4071-87ca-7d8393af5bad"
      },
      "execution_count": 9,
      "outputs": [
        {
          "output_type": "execute_result",
          "data": {
            "text/plain": [
              "id\n",
              "7ca72b5b9c688e9e    Geez, are you forgetful!  We've already discussed why Marx  was  not an anarchist, i.e. he wanted to use a State to mold his 'socialist man.'  Ergo, he is a statist - the opposite of an  anarchist.  I know a guy who says that, when he gets old and his teeth fall out, he'll quit eating meat.  Would you call him a vegetarian?\n",
              "Name: comment, dtype: object"
            ]
          },
          "metadata": {},
          "execution_count": 9
        }
      ]
    },
    {
      "cell_type": "markdown",
      "source": [
        "#### **2.2 Check for duplicates**"
      ],
      "metadata": {
        "id": "1V9H0oGWjnI1"
      }
    },
    {
      "cell_type": "code",
      "source": [
        "raw_train.duplicated().sum()"
      ],
      "metadata": {
        "id": "KqQOEI8NjnI1",
        "execution": {
          "iopub.status.busy": "2022-07-09T19:31:09.430786Z",
          "iopub.execute_input": "2022-07-09T19:31:09.431753Z",
          "iopub.status.idle": "2022-07-09T19:31:09.709134Z",
          "shell.execute_reply.started": "2022-07-09T19:31:09.431710Z",
          "shell.execute_reply": "2022-07-09T19:31:09.708000Z"
        },
        "trusted": true,
        "colab": {
          "base_uri": "https://localhost:8080/"
        },
        "outputId": "213ef06b-d71a-4d16-da65-f3caa3d5e5d2"
      },
      "execution_count": 10,
      "outputs": [
        {
          "output_type": "execute_result",
          "data": {
            "text/plain": [
              "0"
            ]
          },
          "metadata": {},
          "execution_count": 10
        }
      ]
    },
    {
      "cell_type": "code",
      "source": [
        "raw_train.duplicated(subset=['comment']).sum()"
      ],
      "metadata": {
        "id": "jtAlBAwsjnI2",
        "execution": {
          "iopub.status.busy": "2022-07-09T19:31:09.710679Z",
          "iopub.execute_input": "2022-07-09T19:31:09.711362Z",
          "iopub.status.idle": "2022-07-09T19:31:09.929393Z",
          "shell.execute_reply.started": "2022-07-09T19:31:09.711312Z",
          "shell.execute_reply": "2022-07-09T19:31:09.928518Z"
        },
        "trusted": true,
        "colab": {
          "base_uri": "https://localhost:8080/"
        },
        "outputId": "8a139c0b-2913-4bdc-c629-5551d2807603"
      },
      "execution_count": 11,
      "outputs": [
        {
          "output_type": "execute_result",
          "data": {
            "text/plain": [
              "0"
            ]
          },
          "metadata": {},
          "execution_count": 11
        }
      ]
    },
    {
      "cell_type": "code",
      "source": [
        "raw_test.duplicated().sum()"
      ],
      "metadata": {
        "id": "PGAKbyNkjnI2",
        "execution": {
          "iopub.status.busy": "2022-07-09T19:31:09.932802Z",
          "iopub.execute_input": "2022-07-09T19:31:09.933414Z",
          "iopub.status.idle": "2022-07-09T19:31:10.156142Z",
          "shell.execute_reply.started": "2022-07-09T19:31:09.933375Z",
          "shell.execute_reply": "2022-07-09T19:31:10.155024Z"
        },
        "trusted": true,
        "colab": {
          "base_uri": "https://localhost:8080/"
        },
        "outputId": "e11762b6-400d-412e-b293-5ca3381cfdb7"
      },
      "execution_count": 12,
      "outputs": [
        {
          "output_type": "execute_result",
          "data": {
            "text/plain": [
              "0"
            ]
          },
          "metadata": {},
          "execution_count": 12
        }
      ]
    },
    {
      "cell_type": "markdown",
      "source": [
        "#### **2.3 Check for URLs**"
      ],
      "metadata": {
        "id": "uVFzYvlhjnI2"
      }
    },
    {
      "cell_type": "code",
      "source": [
        "raw_train.comment.str.findall(r'https?:\\/\\/\\S*').drop_duplicates(keep=False)"
      ],
      "metadata": {
        "id": "Zkp8rbPDjnI2",
        "execution": {
          "iopub.status.busy": "2022-07-09T19:31:10.157563Z",
          "iopub.execute_input": "2022-07-09T19:31:10.159536Z",
          "iopub.status.idle": "2022-07-09T19:31:11.654241Z",
          "shell.execute_reply.started": "2022-07-09T19:31:10.159493Z",
          "shell.execute_reply": "2022-07-09T19:31:11.653059Z"
        },
        "trusted": true,
        "colab": {
          "base_uri": "https://localhost:8080/"
        },
        "outputId": "ef7678a9-8884-4346-a384-65788aaf3be6"
      },
      "execution_count": 13,
      "outputs": [
        {
          "output_type": "execute_result",
          "data": {
            "text/plain": [
              "id\n",
              "000c0dfd995809fa                                                                                                                                                                                       [http://www.its.caltech.edu/~atomic/snowcrystals/myths/myths.htm#perfection]\n",
              "001363e1dbe91225                                                                                                                                                                                               [http://digg.com/music/Wikipedia_has_free_classical_music_downloads]\n",
              "002c9cccf2f1d05b                                                                                                                                        [http://www.constitution.ie/reports/ConstitutionofIreland.pdf, http://www.constitution.ie/reports/mbunreachtnaheireann.pdf]\n",
              "0038f191ffc93d75                                                                                                                                                                                                              [https://ml.wikipedia.org/wiki/സംവാദം:മോസ്കോ_മെട്രോ.]\n",
              "003fa0c68deca750                                                                                                             [http://www.iranchamber.com/personalities/farabi/farabi.php, http://www.islam.org.br/%C2%A0al_farabi.htm, http://www.superbeyin.com/sohbet/sohbet.htm]\n",
              "                                                                                                                                                 ...                                                                                                                               \n",
              "fbf8672ea3b4ddf7                                                                                                                                                                                                                               [http://www.nysun.com/article/23698]\n",
              "fca6db97dde470bc                                                                                                                                                                                                                    [http://en.wikipedia.org/wiki/Talk:Nissan_GT-R]\n",
              "fd5773ec2e4bcf3a    [http://rexcurry.net/wikipedialies.html, http://rexcurry.net/pledgesalute.html, http://rexcurry.net/pledge2.html, http://rexcurry.net/pledge_military.html, http://rexcurry.net/book1a1contents-pledge.html, http://rexcurry.net/book1a1contents-swastika.html]\n",
              "fd58d3a74b75da85                                                                                                                                                                                                                 [http://www.the-scorpions.com/english/history.asp]\n",
              "ff1fd5721a58e8c7                                                     [http://www.nvidia.com/object/IO_20021017_4141.html, http://www.amazon.com/tag/palit%20microsystems, http://www.pcuniverse.com/Palit-Microsystems/bs/h/3158, http://en.wikipedia.org/wiki/Talk:EVGA_(Company)]\n",
              "Name: comment, Length: 4337, dtype: object"
            ]
          },
          "metadata": {},
          "execution_count": 13
        }
      ]
    },
    {
      "cell_type": "markdown",
      "source": [
        "#### **2.4 Check for Emails and mentions**"
      ],
      "metadata": {
        "id": "O4MhTJE0jnI2"
      }
    },
    {
      "cell_type": "code",
      "source": [
        "raw_train.comment.str.findall(r'\\S*@\\S+').drop_duplicates(keep=False)"
      ],
      "metadata": {
        "id": "6WRo6xz0jnI3",
        "execution": {
          "iopub.status.busy": "2022-07-09T19:31:11.655572Z",
          "iopub.execute_input": "2022-07-09T19:31:11.655859Z",
          "iopub.status.idle": "2022-07-09T19:31:17.996283Z",
          "shell.execute_reply.started": "2022-07-09T19:31:11.655832Z",
          "shell.execute_reply": "2022-07-09T19:31:17.994977Z"
        },
        "trusted": true,
        "colab": {
          "base_uri": "https://localhost:8080/"
        },
        "outputId": "1daf4527-fa78-4ed1-86b1-2fbd57eb77a0"
      },
      "execution_count": 14,
      "outputs": [
        {
          "output_type": "execute_result",
          "data": {
            "text/plain": [
              "id\n",
              "0236f714de182059                      [apriljohnson6868@gmail.com]\n",
              "03585d8dd27a3653                            [animeking237@aol.com]\n",
              "055c9cafcdb359f9    [bathory@bathory.org, bathory@maltedmedia.com]\n",
              "05ee06363d9dda77                                  [jeff@fugly.com]\n",
              "0675ca47f054c2c0                                           [@Matt]\n",
              "                                         ...                      \n",
              "ea17eecb83be13ee                             [manasgarg@gmail.com]\n",
              "ee831c8c79c9984f                                         [@'''''']\n",
              "ef12914c33ab46b5                                     [@Powergate:]\n",
              "f1ac66faba2e5bae                             [@Tznkai:, @Snowman:]\n",
              "f5379a104a9276a2                                 [last@yourhouse.]\n",
              "Name: comment, Length: 621, dtype: object"
            ]
          },
          "metadata": {},
          "execution_count": 14
        }
      ]
    },
    {
      "cell_type": "markdown",
      "source": [
        "#### **2.5 Check for Hashtags**"
      ],
      "metadata": {
        "id": "jec8_AH-jnI3"
      }
    },
    {
      "cell_type": "code",
      "source": [
        "raw_train.comment.str.findall(r'#\\S+').drop_duplicates(keep=False)"
      ],
      "metadata": {
        "id": "R9LhHmgajnI3",
        "execution": {
          "iopub.status.busy": "2022-07-09T19:31:17.999066Z",
          "iopub.execute_input": "2022-07-09T19:31:17.999545Z",
          "iopub.status.idle": "2022-07-09T19:31:18.404072Z",
          "shell.execute_reply.started": "2022-07-09T19:31:17.999504Z",
          "shell.execute_reply": "2022-07-09T19:31:18.402870Z"
        },
        "trusted": true,
        "colab": {
          "base_uri": "https://localhost:8080/"
        },
        "outputId": "ef942e3f-2703-40eb-96f6-4fc7453c121c"
      },
      "execution_count": 15,
      "outputs": [
        {
          "output_type": "execute_result",
          "data": {
            "text/plain": [
              "id\n",
              "0001b41b1c6bb37e                                                                                                                                                [#Transport]\n",
              "000c0dfd995809fa                                                                                                                                               [#perfection]\n",
              "001363e1dbe91225    [#Need_help.21Wikipedia_talk:WikiProject_Music/Archive_3#I_could_use_some_helpWikipedia_talk:WikiProject_Music/Archive_2#Raulbot.2C_and_the_music_list)]\n",
              "003b9f448ee4a29d                                                                                             [#WP:V_-_comparing_Jewish_Virtual_Library_and_Dissident_Voice.]\n",
              "00585c1da10b448b                                                                                                                                                    [#5-5-5]\n",
              "                                                                                              ...                                                                           \n",
              "f71b76e3de13609a                                                                                                                                                  [#3, #4).]\n",
              "f7f582a4b0c7f860        [#Deeptrivia.2C_Al-Khwarizmi_was_an_Arab, #Deeptrivia.2C_why_did_you_remove_this_verifiable_content.3F.21, #I_find_serious_fault_with_this_phrasing]\n",
              "f9321888a2ca1c37                                                                                                                                     [##ee9000;border:solid]\n",
              "fa9626486b24f0f6                                                                                                                                         [#An, #Anachronous]\n",
              "fc8ca591ef6bc42c                                                                                                                                                 [#Non-free]\n",
              "Name: comment, Length: 2110, dtype: object"
            ]
          },
          "metadata": {},
          "execution_count": 15
        }
      ]
    },
    {
      "cell_type": "markdown",
      "source": [
        "#### **2.6 Check for HTML tags**"
      ],
      "metadata": {
        "id": "7n4N0zTBjnI3"
      }
    },
    {
      "cell_type": "code",
      "source": [
        "raw_train.comment.str.findall(r'<.*>').drop_duplicates(keep=False)"
      ],
      "metadata": {
        "id": "Z_bKKjBFjnI3",
        "execution": {
          "iopub.status.busy": "2022-07-09T19:31:18.405327Z",
          "iopub.execute_input": "2022-07-09T19:31:18.405627Z",
          "iopub.status.idle": "2022-07-09T19:31:18.825163Z",
          "shell.execute_reply.started": "2022-07-09T19:31:18.405601Z",
          "shell.execute_reply": "2022-07-09T19:31:18.824116Z"
        },
        "trusted": true,
        "colab": {
          "base_uri": "https://localhost:8080/"
        },
        "outputId": "facbf61e-8c94-4b90-dfa5-dfc7906fb665"
      },
      "execution_count": 16,
      "outputs": [
        {
          "output_type": "execute_result",
          "data": {
            "text/plain": [
              "id\n",
              "0e343b7f449df75a                                                                                                                                                                                                   [<  | ∂drini >]\n",
              "1905ca9ef49186a3                                                                          [< http://theregister.co.uk/2008/02/01/woolworths_bed_outrage >, < http://www.woolworths.co.uk/web/jsp/product/index.jsp?pid=11401556 >]\n",
              "1ae9fbf8d8bc558c                                                                                                                     [<ɰ> is a more appropriate symbol.  was useful because it was found on typewriters while <ɰ>]\n",
              "1c60ea64111132c6                                                                                                                                                                                         [<| 09.10.2007 | Monday>]\n",
              "2917d00d75fa9c1d                                                                                                              [<<... a world in which every single human being can freely share in the sum of all knowledge ...>>]\n",
              "                                                                                                                         ...                                                                                                      \n",
              "3049d085bc0f83a8    [< http://en.wikipedia.org/w/index.php?title=Wikipedia:Administrators%27_noticeboard/Wiki_editor_DonFphrnqTaub_Persina&diff;=178429228&oldid;=178383952 >, < | http://en.wikipedia.org/wiki/special:search/ >]\n",
              "799af7635b509ac5                                                                                                                                                                                                            [<<>>]\n",
              "b713a791ef0ef0c5                                                                                                                                                                                                          [<')))>]\n",
              "d484ee4c8c8aefcc                                                                                                                                                                                    [<[ freakofnurxture]|[ talk]>]\n",
              "e9e45f79d94fd41f                                                                                                                                                                                                          [< !  >]\n",
              "Name: comment, Length: 73, dtype: object"
            ]
          },
          "metadata": {},
          "execution_count": 16
        }
      ]
    },
    {
      "cell_type": "markdown",
      "source": [
        "#### **2.7 Check for dataset imbalance**"
      ],
      "metadata": {
        "id": "ts3JgZkijnI3"
      }
    },
    {
      "cell_type": "code",
      "source": [
        "target_cols = raw_train.select_dtypes(include=np.number).columns\n",
        "fig, ax = plt.subplots(2, 3, figsize=(25, 15))\n",
        "\n",
        "for col, subplot in zip(target_cols, ax.flatten()):\n",
        "    sns.countplot(x=raw_train[col], ax=subplot)\n",
        "    for p in subplot.patches:\n",
        "        x_ = p.get_bbox().get_points()[:,0]\n",
        "        y_ = p.get_bbox().get_points()[1,1]\n",
        "        subplot.annotate(p.get_height(), (x_.mean(), y_), ha='center', va='bottom')\n",
        "        \n",
        "plt.show()"
      ],
      "metadata": {
        "id": "0EovY7jxjnI4",
        "execution": {
          "iopub.status.busy": "2022-07-09T19:31:18.826619Z",
          "iopub.execute_input": "2022-07-09T19:31:18.826926Z",
          "iopub.status.idle": "2022-07-09T19:31:19.666320Z",
          "shell.execute_reply.started": "2022-07-09T19:31:18.826898Z",
          "shell.execute_reply": "2022-07-09T19:31:19.665060Z"
        },
        "trusted": true,
        "colab": {
          "base_uri": "https://localhost:8080/",
          "height": 0
        },
        "outputId": "c363e0fa-117b-4936-a355-9b6bebe3e38c"
      },
      "execution_count": 17,
      "outputs": [
        {
          "output_type": "display_data",
          "data": {
            "text/plain": [
              "<Figure size 1800x1080 with 6 Axes>"
            ],
            "image/png": "[encoded data removed]"
          },
          "metadata": {
            "needs_background": "light"
          }
        }
      ]
    },
    {
      "cell_type": "markdown",
      "source": [
        "#### **2.8 Number of comments in each category**"
      ],
      "metadata": {
        "id": "j3Vc6N-vjnI4"
      }
    },
    {
      "cell_type": "code",
      "source": [
        "ax = sns.barplot(x=target_cols, y=raw_train[target_cols].sum(axis=0))\n",
        "for p in ax.patches:\n",
        "    x_ = p.get_bbox().get_points()[:,0]\n",
        "    y_ = p.get_bbox().get_points()[1,1]\n",
        "    ax.annotate(p.get_height(), (x_.mean(), y_), ha='center', va='bottom')"
      ],
      "metadata": {
        "id": "WA7dVjOLjnI4",
        "execution": {
          "iopub.status.busy": "2022-07-09T19:31:19.667642Z",
          "iopub.execute_input": "2022-07-09T19:31:19.668057Z",
          "iopub.status.idle": "2022-07-09T19:31:19.894013Z",
          "shell.execute_reply.started": "2022-07-09T19:31:19.668025Z",
          "shell.execute_reply": "2022-07-09T19:31:19.893006Z"
        },
        "trusted": true,
        "colab": {
          "base_uri": "https://localhost:8080/",
          "height": 0
        },
        "outputId": "eee3bff7-2f10-443b-c69a-11c452bd878e"
      },
      "execution_count": 18,
      "outputs": [
        {
          "output_type": "display_data",
          "data": {
            "text/plain": [
              "<Figure size 432x288 with 1 Axes>"
            ],
            "image/png": "[encoded data removed]"
          },
          "metadata": {
            "needs_background": "light"
          }
        }
      ]
    },
    {
      "cell_type": "markdown",
      "source": [
        "#### **2.9 Comments with multi-labels**"
      ],
      "metadata": {
        "id": "5KekO-rxjnI4"
      }
    },
    {
      "cell_type": "code",
      "source": [
        "nLabels = raw_train[target_cols].sum(axis=1).value_counts()\n",
        "\n",
        "ax = sns.barplot(x=nLabels.index, y=nLabels.values)\n",
        "for p in ax.patches:\n",
        "    x_ = p.get_bbox().get_points()[:,0]\n",
        "    y_ = p.get_bbox().get_points()[1,1]\n",
        "    ax.annotate(p.get_height(), (x_.mean(), y_), ha='center', va='bottom')\n",
        "    \n",
        "plt.title(\"Multi-labels per comment\")\n",
        "plt.xlabel('No. of categories', fontsize=12)\n",
        "plt.ylabel('No. of Comments', fontsize=12)"
      ],
      "metadata": {
        "id": "TuSjA__KjnI4",
        "execution": {
          "iopub.status.busy": "2022-07-09T19:31:19.895484Z",
          "iopub.execute_input": "2022-07-09T19:31:19.895789Z",
          "iopub.status.idle": "2022-07-09T19:31:20.141993Z",
          "shell.execute_reply.started": "2022-07-09T19:31:19.895760Z",
          "shell.execute_reply": "2022-07-09T19:31:20.141170Z"
        },
        "trusted": true,
        "colab": {
          "base_uri": "https://localhost:8080/",
          "height": 0
        },
        "outputId": "22d5b765-8a7a-4617-8822-b788f8b53ee9"
      },
      "execution_count": 19,
      "outputs": [
        {
          "output_type": "execute_result",
          "data": {
            "text/plain": [
              "Text(0, 0.5, 'No. of Comments')"
            ]
          },
          "metadata": {},
          "execution_count": 19
        },
        {
          "output_type": "display_data",
          "data": {
            "text/plain": [
              "<Figure size 432x288 with 1 Axes>"
            ],
            "image/png": "[encoded data removed]"
          },
          "metadata": {
            "needs_background": "light"
          }
        }
      ]
    },
    {
      "cell_type": "markdown",
      "source": [
        "## **3. Text Preprocessing**"
      ],
      "metadata": {
        "id": "FjF2_qaIjnI5"
      }
    },
    {
      "cell_type": "markdown",
      "source": [
        "#### **3.1 Remove URLs**"
      ],
      "metadata": {
        "id": "MbOYDe0sjnI5"
      }
    },
    {
      "cell_type": "code",
      "source": [
        "def remove_urls(text):\n",
        "    return re.sub(r'https?:\\/\\/\\S*', '', text, flags=re.MULTILINE)"
      ],
      "metadata": {
        "id": "ww8rHWgZjnI5",
        "execution": {
          "iopub.status.busy": "2022-07-09T19:31:20.143447Z",
          "iopub.execute_input": "2022-07-09T19:31:20.143753Z",
          "iopub.status.idle": "2022-07-09T19:31:20.149643Z",
          "shell.execute_reply.started": "2022-07-09T19:31:20.143726Z",
          "shell.execute_reply": "2022-07-09T19:31:20.148448Z"
        },
        "trusted": true
      },
      "execution_count": 20,
      "outputs": []
    },
    {
      "cell_type": "markdown",
      "source": [
        "#### **3.2 Remove Emails and Mentions**"
      ],
      "metadata": {
        "id": "jyb-oZ6SjnI5"
      }
    },
    {
      "cell_type": "code",
      "source": [
        "def remove_emails_and_mentions(text):\n",
        "    return re.sub(r'\\S*@\\S+', '', text, flags=re.MULTILINE)"
      ],
      "metadata": {
        "id": "8q2RU89SjnI5",
        "execution": {
          "iopub.status.busy": "2022-07-09T19:31:20.151370Z",
          "iopub.execute_input": "2022-07-09T19:31:20.152012Z",
          "iopub.status.idle": "2022-07-09T19:31:20.161635Z",
          "shell.execute_reply.started": "2022-07-09T19:31:20.151975Z",
          "shell.execute_reply": "2022-07-09T19:31:20.160542Z"
        },
        "trusted": true
      },
      "execution_count": 21,
      "outputs": []
    },
    {
      "cell_type": "markdown",
      "source": [
        "#### **3.3 Remove Hashtags**"
      ],
      "metadata": {
        "id": "SC2opuJvjnI6"
      }
    },
    {
      "cell_type": "code",
      "source": [
        "def remove_hashtags(text):\n",
        "    return re.sub(r'#\\S+', '', text, flags=re.MULTILINE)"
      ],
      "metadata": {
        "id": "Ed15b-iSjnI6",
        "execution": {
          "iopub.status.busy": "2022-07-09T19:31:20.163244Z",
          "iopub.execute_input": "2022-07-09T19:31:20.163847Z",
          "iopub.status.idle": "2022-07-09T19:31:20.173983Z",
          "shell.execute_reply.started": "2022-07-09T19:31:20.163815Z",
          "shell.execute_reply": "2022-07-09T19:31:20.172930Z"
        },
        "trusted": true
      },
      "execution_count": 22,
      "outputs": []
    },
    {
      "cell_type": "markdown",
      "source": [
        "#### **3.4 Remove HTML tags**"
      ],
      "metadata": {
        "id": "DheBUa-DjnI6"
      }
    },
    {
      "cell_type": "code",
      "source": [
        "def remove_html_tags(text):\n",
        "    return re.sub(r'<+.*>+', '', text, flags=re.MULTILINE)"
      ],
      "metadata": {
        "id": "rS51TafNjnI6",
        "execution": {
          "iopub.status.busy": "2022-07-09T19:31:20.175374Z",
          "iopub.execute_input": "2022-07-09T19:31:20.175775Z",
          "iopub.status.idle": "2022-07-09T19:31:20.184123Z",
          "shell.execute_reply.started": "2022-07-09T19:31:20.175746Z",
          "shell.execute_reply": "2022-07-09T19:31:20.183169Z"
        },
        "trusted": true
      },
      "execution_count": 23,
      "outputs": []
    },
    {
      "cell_type": "markdown",
      "source": [
        "#### **3.5 Remove whitespaces**"
      ],
      "metadata": {
        "id": "WmhCwWp0jnI6"
      }
    },
    {
      "cell_type": "code",
      "source": [
        "def remove_whitespaces(text):\n",
        "    text = re.sub(r'\\s+', ' ', text, flags=re.MULTILINE)\n",
        "    return text.strip()"
      ],
      "metadata": {
        "id": "l6UQ_LqwjnI6",
        "execution": {
          "iopub.status.busy": "2022-07-09T19:31:20.188130Z",
          "iopub.execute_input": "2022-07-09T19:31:20.189149Z",
          "iopub.status.idle": "2022-07-09T19:31:20.197703Z",
          "shell.execute_reply.started": "2022-07-09T19:31:20.189091Z",
          "shell.execute_reply": "2022-07-09T19:31:20.196505Z"
        },
        "trusted": true
      },
      "execution_count": 24,
      "outputs": []
    },
    {
      "cell_type": "markdown",
      "source": [
        "#### **3.6 Convert text to lower case**"
      ],
      "metadata": {
        "id": "aQncZZRYjnI7"
      }
    },
    {
      "cell_type": "code",
      "source": [
        "def to_lowercase(text):\n",
        "    return text.lower()"
      ],
      "metadata": {
        "id": "SpapVBScjnI7",
        "execution": {
          "iopub.status.busy": "2022-07-09T19:31:20.198975Z",
          "iopub.execute_input": "2022-07-09T19:31:20.199570Z",
          "iopub.status.idle": "2022-07-09T19:31:20.213734Z",
          "shell.execute_reply.started": "2022-07-09T19:31:20.199535Z",
          "shell.execute_reply": "2022-07-09T19:31:20.212843Z"
        },
        "trusted": true
      },
      "execution_count": 25,
      "outputs": []
    },
    {
      "cell_type": "markdown",
      "source": [
        "#### **3.7 Remove all special characters**"
      ],
      "metadata": {
        "id": "6oNS4tyCjnI7"
      }
    },
    {
      "cell_type": "code",
      "source": [
        "def remove_special_chars(text):\n",
        "    return re.findall(r'[a-z]{3,}', text)"
      ],
      "metadata": {
        "id": "N4i-O0fyjnI7",
        "execution": {
          "iopub.status.busy": "2022-07-09T19:31:20.214776Z",
          "iopub.execute_input": "2022-07-09T19:31:20.215552Z",
          "iopub.status.idle": "2022-07-09T19:31:20.225798Z",
          "shell.execute_reply.started": "2022-07-09T19:31:20.215516Z",
          "shell.execute_reply": "2022-07-09T19:31:20.224909Z"
        },
        "trusted": true
      },
      "execution_count": 26,
      "outputs": []
    },
    {
      "cell_type": "markdown",
      "source": [
        "#### **3.8 Remove stopwords**"
      ],
      "metadata": {
        "id": "wHMAxpIcjnI7"
      }
    },
    {
      "cell_type": "code",
      "source": [
        "def remove_stopwords(words):\n",
        "    stop_words = set(stopwords.words('english'))\n",
        "    return [word for word in words if word not in stop_words]"
      ],
      "metadata": {
        "id": "Vt5IYEcljnI7",
        "execution": {
          "iopub.status.busy": "2022-07-09T19:31:20.227135Z",
          "iopub.execute_input": "2022-07-09T19:31:20.227627Z",
          "iopub.status.idle": "2022-07-09T19:31:20.236860Z",
          "shell.execute_reply.started": "2022-07-09T19:31:20.227595Z",
          "shell.execute_reply": "2022-07-09T19:31:20.236009Z"
        },
        "trusted": true
      },
      "execution_count": 27,
      "outputs": []
    },
    {
      "cell_type": "markdown",
      "source": [
        "#### **3.9 Lemmatization**"
      ],
      "metadata": {
        "id": "chViD401jnI8"
      }
    },
    {
      "cell_type": "code",
      "source": [
        "def lemmatization(words):\n",
        "    lemmatizer = WordNetLemmatizer()\n",
        "    return ' '.join(lemmatizer.lemmatize(word) for word in words)"
      ],
      "metadata": {
        "id": "TSev0HROjnI8",
        "execution": {
          "iopub.status.busy": "2022-07-09T19:31:20.238187Z",
          "iopub.execute_input": "2022-07-09T19:31:20.239146Z",
          "iopub.status.idle": "2022-07-09T19:31:20.248342Z",
          "shell.execute_reply.started": "2022-07-09T19:31:20.239082Z",
          "shell.execute_reply": "2022-07-09T19:31:20.247538Z"
        },
        "trusted": true
      },
      "execution_count": 28,
      "outputs": []
    },
    {
      "cell_type": "markdown",
      "source": [
        "#### **Putting all the pipeline together**"
      ],
      "metadata": {
        "id": "bxxjxK43jnI8"
      }
    },
    {
      "cell_type": "code",
      "source": [
        "def text_preprocessing(text):\n",
        "    text = remove_urls(text)\n",
        "    text = remove_emails_and_mentions(text)\n",
        "    text = remove_hashtags(text)\n",
        "    text = remove_html_tags(text)\n",
        "    text = remove_whitespaces(text)\n",
        "    text = to_lowercase(text)\n",
        "    words = remove_special_chars(text)\n",
        "    words = remove_stopwords(words)\n",
        "    text = lemmatization(words)\n",
        "    return text"
      ],
      "metadata": {
        "id": "g6zWSHFWjnI8",
        "execution": {
          "iopub.status.busy": "2022-07-09T19:31:20.249642Z",
          "iopub.execute_input": "2022-07-09T19:31:20.250657Z",
          "iopub.status.idle": "2022-07-09T19:31:20.262025Z",
          "shell.execute_reply.started": "2022-07-09T19:31:20.250605Z",
          "shell.execute_reply": "2022-07-09T19:31:20.261158Z"
        },
        "trusted": true
      },
      "execution_count": 29,
      "outputs": []
    },
    {
      "cell_type": "markdown",
      "source": [
        "#### **Applying text preprocessing on train and test sets**"
      ],
      "metadata": {
        "id": "PJ7GLWKejnI8"
      }
    },
    {
      "cell_type": "code",
      "source": [
        "train = raw_train.copy()\n",
        "test = raw_test.copy()"
      ],
      "metadata": {
        "id": "lnhG3T3sjnI8",
        "execution": {
          "iopub.status.busy": "2022-07-09T19:31:20.270770Z",
          "iopub.execute_input": "2022-07-09T19:31:20.271471Z",
          "iopub.status.idle": "2022-07-09T19:31:20.283967Z",
          "shell.execute_reply.started": "2022-07-09T19:31:20.271433Z",
          "shell.execute_reply": "2022-07-09T19:31:20.283136Z"
        },
        "trusted": true
      },
      "execution_count": 30,
      "outputs": []
    },
    {
      "cell_type": "code",
      "source": [
        "nltk.download('omw-1.4')"
      ],
      "metadata": {
        "id": "QGeEIFYEnnTY",
        "execution": {
          "iopub.status.busy": "2022-07-09T19:31:20.286552Z",
          "iopub.execute_input": "2022-07-09T19:31:20.287175Z",
          "iopub.status.idle": "2022-07-09T19:31:20.534840Z",
          "shell.execute_reply.started": "2022-07-09T19:31:20.287124Z",
          "shell.execute_reply": "2022-07-09T19:31:20.533500Z"
        },
        "trusted": true,
        "colab": {
          "base_uri": "https://localhost:8080/"
        },
        "outputId": "d3721e4a-03be-4a09-92de-3002eccdfe94"
      },
      "execution_count": 31,
      "outputs": [
        {
          "output_type": "stream",
          "name": "stderr",
          "text": [
            "[nltk_data] Downloading package omw-1.4 to /root/nltk_data...\n"
          ]
        },
        {
          "output_type": "execute_result",
          "data": {
            "text/plain": [
              "True"
            ]
          },
          "metadata": {},
          "execution_count": 31
        }
      ]
    },
    {
      "cell_type": "code",
      "source": [
        "train.comment = train.comment.apply(text_preprocessing)"
      ],
      "metadata": {
        "id": "tE-bXwwLjnI8",
        "execution": {
          "iopub.status.busy": "2022-07-09T19:31:20.536502Z",
          "iopub.execute_input": "2022-07-09T19:31:20.536848Z",
          "iopub.status.idle": "2022-07-09T19:32:38.395082Z",
          "shell.execute_reply.started": "2022-07-09T19:31:20.536816Z",
          "shell.execute_reply": "2022-07-09T19:32:38.394068Z"
        },
        "trusted": true
      },
      "execution_count": 32,
      "outputs": []
    },
    {
      "cell_type": "code",
      "source": [
        "test.comment = test.comment.apply(text_preprocessing)"
      ],
      "metadata": {
        "id": "sRbqMx6djnI8",
        "execution": {
          "iopub.status.busy": "2022-07-09T19:32:38.396409Z",
          "iopub.execute_input": "2022-07-09T19:32:38.401023Z",
          "iopub.status.idle": "2022-07-09T19:33:49.707588Z",
          "shell.execute_reply.started": "2022-07-09T19:32:38.400984Z",
          "shell.execute_reply": "2022-07-09T19:33:49.706765Z"
        },
        "trusted": true
      },
      "execution_count": 33,
      "outputs": []
    },
    {
      "cell_type": "markdown",
      "source": [
        "#### **Showing a sample of data before and after cleaning**"
      ],
      "metadata": {
        "id": "SqtGIqNDjnI9"
      }
    },
    {
      "cell_type": "code",
      "source": [
        "raw_train.comment.sample(random_state=42)"
      ],
      "metadata": {
        "id": "CD-GRMbEjnI9",
        "execution": {
          "iopub.status.busy": "2022-07-09T19:33:49.708952Z",
          "iopub.execute_input": "2022-07-09T19:33:49.709458Z",
          "iopub.status.idle": "2022-07-09T19:33:49.724484Z",
          "shell.execute_reply.started": "2022-07-09T19:33:49.709421Z",
          "shell.execute_reply": "2022-07-09T19:33:49.723256Z"
        },
        "trusted": true,
        "colab": {
          "base_uri": "https://localhost:8080/"
        },
        "outputId": "ab8d42bc-a587-491d-f565-85e5dfc6c39b"
      },
      "execution_count": 34,
      "outputs": [
        {
          "output_type": "execute_result",
          "data": {
            "text/plain": [
              "id\n",
              "7ca72b5b9c688e9e    Geez, are you forgetful!  We've already discussed why Marx  was  not an anarchist, i.e. he wanted to use a State to mold his 'socialist man.'  Ergo, he is a statist - the opposite of an  anarchist.  I know a guy who says that, when he gets old and his teeth fall out, he'll quit eating meat.  Would you call him a vegetarian?\n",
              "Name: comment, dtype: object"
            ]
          },
          "metadata": {},
          "execution_count": 34
        }
      ]
    },
    {
      "cell_type": "code",
      "source": [
        "train.comment.sample(random_state=42)"
      ],
      "metadata": {
        "id": "Fl73GIsxjnI9",
        "execution": {
          "iopub.status.busy": "2022-07-09T19:33:49.726986Z",
          "iopub.execute_input": "2022-07-09T19:33:49.727353Z",
          "iopub.status.idle": "2022-07-09T19:33:49.743724Z",
          "shell.execute_reply.started": "2022-07-09T19:33:49.727322Z",
          "shell.execute_reply": "2022-07-09T19:33:49.742645Z"
        },
        "trusted": true,
        "colab": {
          "base_uri": "https://localhost:8080/"
        },
        "outputId": "3f80e886-0520-4828-a67b-f535014d3151"
      },
      "execution_count": 35,
      "outputs": [
        {
          "output_type": "execute_result",
          "data": {
            "text/plain": [
              "id\n",
              "7ca72b5b9c688e9e    geez forgetful already discussed marx anarchist wanted use state mold socialist man ergo statist opposite anarchist know guy say get old teeth fall quit eating meat would call vegetarian\n",
              "Name: comment, dtype: object"
            ]
          },
          "metadata": {},
          "execution_count": 35
        }
      ]
    },
    {
      "cell_type": "markdown",
      "source": [
        "#### **Splitting data**"
      ],
      "metadata": {
        "id": "zyAeWcyUjnI9"
      }
    },
    {
      "cell_type": "code",
      "source": [
        "x_train_df, x_val_df, y_train_df, y_val_df = train_test_split(train.comment, train[target_cols], test_size=0.2, random_state=42)"
      ],
      "metadata": {
        "id": "2BzwcdIWjnI9",
        "execution": {
          "iopub.status.busy": "2022-07-09T19:33:49.744837Z",
          "iopub.execute_input": "2022-07-09T19:33:49.745948Z",
          "iopub.status.idle": "2022-07-09T19:33:49.823317Z",
          "shell.execute_reply.started": "2022-07-09T19:33:49.745913Z",
          "shell.execute_reply": "2022-07-09T19:33:49.822340Z"
        },
        "trusted": true
      },
      "execution_count": 36,
      "outputs": []
    },
    {
      "cell_type": "code",
      "source": [
        "x_test_df = test.comment"
      ],
      "metadata": {
        "id": "4Tp11f8JjnI9",
        "execution": {
          "iopub.status.busy": "2022-07-09T19:33:49.824700Z",
          "iopub.execute_input": "2022-07-09T19:33:49.825773Z",
          "iopub.status.idle": "2022-07-09T19:33:49.831409Z",
          "shell.execute_reply.started": "2022-07-09T19:33:49.825725Z",
          "shell.execute_reply": "2022-07-09T19:33:49.830290Z"
        },
        "trusted": true
      },
      "execution_count": 37,
      "outputs": []
    },
    {
      "cell_type": "code",
      "source": [
        "print('x_train shape: {}'.format(x_train_df.shape))\n",
        "print('y_train shape: {}'.format(y_train_df.shape))\n",
        "print('x_valid shape: {}'.format(x_val_df.shape))\n",
        "print('y_valid shape: {}'.format(y_val_df.shape))\n",
        "print('x_test shape:  {}'.format(x_test_df.shape))"
      ],
      "metadata": {
        "id": "F4sgKRFcjnI9",
        "execution": {
          "iopub.status.busy": "2022-07-09T19:33:49.832890Z",
          "iopub.execute_input": "2022-07-09T19:33:49.833388Z",
          "iopub.status.idle": "2022-07-09T19:33:49.845633Z",
          "shell.execute_reply.started": "2022-07-09T19:33:49.833357Z",
          "shell.execute_reply": "2022-07-09T19:33:49.844406Z"
        },
        "trusted": true,
        "colab": {
          "base_uri": "https://localhost:8080/"
        },
        "outputId": "080e4556-9f50-4f16-c52e-3998d2426e43"
      },
      "execution_count": 38,
      "outputs": [
        {
          "output_type": "stream",
          "name": "stdout",
          "text": [
            "x_train shape: (127656,)\n",
            "y_train shape: (127656, 6)\n",
            "x_valid shape: (31915,)\n",
            "y_valid shape: (31915, 6)\n",
            "x_test shape:  (153164,)\n"
          ]
        }
      ]
    },
    {
      "cell_type": "markdown",
      "source": [
        "## **4. Model**"
      ],
      "metadata": {
        "id": "rK55ZxANjnI9"
      }
    },
    {
      "cell_type": "markdown",
      "source": [
        "### **4.1 FFNN Model with BoW (TF-IDF) Text Representation**"
      ],
      "metadata": {
        "id": "tzTja-4EjnI-"
      }
    },
    {
      "cell_type": "markdown",
      "source": [
        "#### **4.1.1 BoW**"
      ],
      "metadata": {
        "id": "6EDsDwtRjnI-"
      }
    },
    {
      "cell_type": "code",
      "source": [
        "vocab_size = 1000\n",
        "vectorizer = TfidfVectorizer(max_features=vocab_size)\n",
        "vectorizer.fit(pd.concat([train.comment, test.comment], axis=0))"
      ],
      "metadata": {
        "id": "Bd_UReXMjnI-",
        "execution": {
          "iopub.status.busy": "2022-07-09T19:33:49.847157Z",
          "iopub.execute_input": "2022-07-09T19:33:49.847465Z",
          "iopub.status.idle": "2022-07-09T19:34:03.730563Z",
          "shell.execute_reply.started": "2022-07-09T19:33:49.847438Z",
          "shell.execute_reply": "2022-07-09T19:34:03.729416Z"
        },
        "trusted": true,
        "colab": {
          "base_uri": "https://localhost:8080/"
        },
        "outputId": "e95ee7f2-4ad5-4b76-a012-68fb008ad8a0"
      },
      "execution_count": 39,
      "outputs": [
        {
          "output_type": "execute_result",
          "data": {
            "text/plain": [
              "TfidfVectorizer(max_features=1000)"
            ]
          },
          "metadata": {},
          "execution_count": 39
        }
      ]
    },
    {
      "cell_type": "code",
      "source": [
        "x_train = vectorizer.transform(x_train_df).toarray()\n",
        "x_val = vectorizer.transform(x_val_df).toarray()\n",
        "x_test = vectorizer.transform(x_test_df).toarray()"
      ],
      "metadata": {
        "id": "O1aAs00MjnI-",
        "execution": {
          "iopub.status.busy": "2022-07-09T19:34:03.732031Z",
          "iopub.execute_input": "2022-07-09T19:34:03.732918Z",
          "iopub.status.idle": "2022-07-09T19:34:19.883637Z",
          "shell.execute_reply.started": "2022-07-09T19:34:03.732877Z",
          "shell.execute_reply": "2022-07-09T19:34:19.882528Z"
        },
        "trusted": true
      },
      "execution_count": 40,
      "outputs": []
    },
    {
      "cell_type": "code",
      "source": [
        "y_train = np.asarray(y_train_df).astype('float32')\n",
        "y_val = np.asarray(y_val_df).astype('float32')"
      ],
      "metadata": {
        "id": "vDjvbI1_jnI-",
        "execution": {
          "iopub.status.busy": "2022-07-09T19:34:19.885255Z",
          "iopub.execute_input": "2022-07-09T19:34:19.885686Z",
          "iopub.status.idle": "2022-07-09T19:34:19.892675Z",
          "shell.execute_reply.started": "2022-07-09T19:34:19.885646Z",
          "shell.execute_reply": "2022-07-09T19:34:19.891478Z"
        },
        "trusted": true
      },
      "execution_count": 41,
      "outputs": []
    },
    {
      "cell_type": "code",
      "source": [
        "print('x_train shape: {}'.format(x_train.shape))\n",
        "print('y_train shape: {}'.format(y_train.shape))\n",
        "print('x_valid shape: {}'.format(x_val.shape))\n",
        "print('y_valid shape: {}'.format(y_val.shape))\n",
        "print('x_test shape:  {}'.format(x_test.shape))"
      ],
      "metadata": {
        "id": "RUFcln9EjnI-",
        "execution": {
          "iopub.status.busy": "2022-07-09T19:34:19.894022Z",
          "iopub.execute_input": "2022-07-09T19:34:19.894668Z",
          "iopub.status.idle": "2022-07-09T19:34:19.906316Z",
          "shell.execute_reply.started": "2022-07-09T19:34:19.894635Z",
          "shell.execute_reply": "2022-07-09T19:34:19.905143Z"
        },
        "trusted": true,
        "colab": {
          "base_uri": "https://localhost:8080/"
        },
        "outputId": "2e8852db-e9d0-4c0f-a4ef-ece060a518fd"
      },
      "execution_count": 42,
      "outputs": [
        {
          "output_type": "stream",
          "name": "stdout",
          "text": [
            "x_train shape: (127656, 1000)\n",
            "y_train shape: (127656, 6)\n",
            "x_valid shape: (31915, 1000)\n",
            "y_valid shape: (31915, 6)\n",
            "x_test shape:  (153164, 1000)\n"
          ]
        }
      ]
    },
    {
      "cell_type": "markdown",
      "source": [
        "#### **4.1.2 FFNN Model**"
      ],
      "metadata": {
        "id": "tqlI6nG8jnI-"
      }
    },
    {
      "cell_type": "code",
      "source": [
        "nn_model = models.Sequential()\n",
        "nn_model.add(layers.Dense(16, activation='relu', input_shape=(vocab_size,)))\n",
        "nn_model.add(layers.Dense(32, activation='relu'))\n",
        "nn_model.add(layers.Dense(6, activation='sigmoid'))\n",
        "nn_model.summary()"
      ],
      "metadata": {
        "id": "FvcXfpNKjnI_",
        "execution": {
          "iopub.status.busy": "2022-07-09T19:34:19.908040Z",
          "iopub.execute_input": "2022-07-09T19:34:19.908482Z",
          "iopub.status.idle": "2022-07-09T19:34:19.995284Z",
          "shell.execute_reply.started": "2022-07-09T19:34:19.908441Z",
          "shell.execute_reply": "2022-07-09T19:34:19.994272Z"
        },
        "trusted": true,
        "colab": {
          "base_uri": "https://localhost:8080/"
        },
        "outputId": "72e05e2f-6817-4f1f-ab01-4e9d6ae6a368"
      },
      "execution_count": 43,
      "outputs": [
        {
          "output_type": "stream",
          "name": "stdout",
          "text": [
            "Model: \"sequential\"\n",
            "_________________________________________________________________\n",
            " Layer (type)                Output Shape              Param #   \n",
            "=================================================================\n",
            " dense (Dense)               (None, 16)                16016     \n",
            "                                                                 \n",
            " dense_1 (Dense)             (None, 32)                544       \n",
            "                                                                 \n",
            " dense_2 (Dense)             (None, 6)                 198       \n",
            "                                                                 \n",
            "=================================================================\n",
            "Total params: 16,758\n",
            "Trainable params: 16,758\n",
            "Non-trainable params: 0\n",
            "_________________________________________________________________\n"
          ]
        }
      ]
    },
    {
      "cell_type": "code",
      "source": [
        "plot_model(nn_model, to_file='nn_model.png', show_shapes=True)"
      ],
      "metadata": {
        "id": "aD52oZsKjnI_",
        "execution": {
          "iopub.status.busy": "2022-07-09T19:34:19.996435Z",
          "iopub.execute_input": "2022-07-09T19:34:19.996714Z",
          "iopub.status.idle": "2022-07-09T19:34:21.256920Z",
          "shell.execute_reply.started": "2022-07-09T19:34:19.996688Z",
          "shell.execute_reply": "2022-07-09T19:34:21.255439Z"
        },
        "trusted": true,
        "colab": {
          "base_uri": "https://localhost:8080/",
          "height": 422
        },
        "outputId": "a8be3f10-336e-4df6-f995-a86e46d22580"
      },
      "execution_count": 44,
      "outputs": [
        {
          "output_type": "execute_result",
          "data": {
            "text/plain": [
              "<IPython.core.display.Image object>"
            ],
            "image/png": "[encoded data removed]"
          },
          "metadata": {},
          "execution_count": 44
        }
      ]
    },
    {
      "cell_type": "code",
      "source": [
        "nn_model.compile(optimizer=optimizers.Adam(),\n",
        "              loss=losses.binary_crossentropy,\n",
        "              metrics=[metrics.binary_accuracy])"
      ],
      "metadata": {
        "id": "_x48B1yfjnI_",
        "execution": {
          "iopub.status.busy": "2022-07-09T19:34:21.259025Z",
          "iopub.execute_input": "2022-07-09T19:34:21.259911Z",
          "iopub.status.idle": "2022-07-09T19:34:21.280415Z",
          "shell.execute_reply.started": "2022-07-09T19:34:21.259868Z",
          "shell.execute_reply": "2022-07-09T19:34:21.279305Z"
        },
        "trusted": true
      },
      "execution_count": 45,
      "outputs": []
    },
    {
      "cell_type": "code",
      "source": [
        "history = nn_model.fit(x_train,\n",
        "                    y_train,\n",
        "                    epochs=10,\n",
        "                    batch_size=512,\n",
        "                    validation_data=(x_val, y_val))"
      ],
      "metadata": {
        "id": "2OvnB3DYjnI_",
        "execution": {
          "iopub.status.busy": "2022-07-09T19:34:21.282656Z",
          "iopub.execute_input": "2022-07-09T19:34:21.283135Z",
          "iopub.status.idle": "2022-07-09T19:34:38.591874Z",
          "shell.execute_reply.started": "2022-07-09T19:34:21.283069Z",
          "shell.execute_reply": "2022-07-09T19:34:38.590261Z"
        },
        "trusted": true,
        "colab": {
          "base_uri": "https://localhost:8080/"
        },
        "outputId": "06a506c6-630c-4683-d85e-2d15e3412432"
      },
      "execution_count": 46,
      "outputs": [
        {
          "output_type": "stream",
          "name": "stdout",
          "text": [
            "Epoch 1/10\n",
            "250/250 [==============================] - 5s 6ms/step - loss: 0.2458 - binary_accuracy: 0.9553 - val_loss: 0.0915 - val_binary_accuracy: 0.9699\n",
            "Epoch 2/10\n",
            "250/250 [==============================] - 1s 5ms/step - loss: 0.0732 - binary_accuracy: 0.9767 - val_loss: 0.0658 - val_binary_accuracy: 0.9788\n",
            "Epoch 3/10\n",
            "250/250 [==============================] - 1s 5ms/step - loss: 0.0621 - binary_accuracy: 0.9797 - val_loss: 0.0627 - val_binary_accuracy: 0.9796\n",
            "Epoch 4/10\n",
            "250/250 [==============================] - 1s 4ms/step - loss: 0.0602 - binary_accuracy: 0.9801 - val_loss: 0.0616 - val_binary_accuracy: 0.9798\n",
            "Epoch 5/10\n",
            "250/250 [==============================] - 1s 5ms/step - loss: 0.0592 - binary_accuracy: 0.9803 - val_loss: 0.0610 - val_binary_accuracy: 0.9801\n",
            "Epoch 6/10\n",
            "250/250 [==============================] - 1s 5ms/step - loss: 0.0585 - binary_accuracy: 0.9804 - val_loss: 0.0606 - val_binary_accuracy: 0.9803\n",
            "Epoch 7/10\n",
            "250/250 [==============================] - 1s 5ms/step - loss: 0.0579 - binary_accuracy: 0.9805 - val_loss: 0.0601 - val_binary_accuracy: 0.9804\n",
            "Epoch 8/10\n",
            "250/250 [==============================] - 1s 5ms/step - loss: 0.0574 - binary_accuracy: 0.9806 - val_loss: 0.0599 - val_binary_accuracy: 0.9804\n",
            "Epoch 9/10\n",
            "250/250 [==============================] - 1s 4ms/step - loss: 0.0569 - binary_accuracy: 0.9807 - val_loss: 0.0598 - val_binary_accuracy: 0.9805\n",
            "Epoch 10/10\n",
            "250/250 [==============================] - 1s 5ms/step - loss: 0.0565 - binary_accuracy: 0.9807 - val_loss: 0.0595 - val_binary_accuracy: 0.9806\n"
          ]
        }
      ]
    },
    {
      "cell_type": "code",
      "source": [
        "loss = history.history['loss']\n",
        "val_loss = history.history['val_loss']\n",
        "\n",
        "epochs = range(1, len(loss) + 1)\n",
        "\n",
        "plt.plot(epochs, loss, 'bo', label='Training loss')\n",
        "plt.plot(epochs, val_loss, 'b', label='Validation loss')\n",
        "plt.title('Training and validation loss')\n",
        "plt.xlabel('Epochs')\n",
        "plt.ylabel('Loss')\n",
        "plt.legend()\n",
        "\n",
        "plt.show()"
      ],
      "metadata": {
        "id": "Kzqgbww9jnI_",
        "execution": {
          "iopub.status.busy": "2022-07-09T19:34:38.594381Z",
          "iopub.execute_input": "2022-07-09T19:34:38.594768Z",
          "iopub.status.idle": "2022-07-09T19:34:38.884446Z",
          "shell.execute_reply.started": "2022-07-09T19:34:38.594729Z",
          "shell.execute_reply": "2022-07-09T19:34:38.883191Z"
        },
        "trusted": true,
        "colab": {
          "base_uri": "https://localhost:8080/",
          "height": 295
        },
        "outputId": "984b572c-885c-45ed-e927-9655ead81369"
      },
      "execution_count": 47,
      "outputs": [
        {
          "output_type": "display_data",
          "data": {
            "text/plain": [
              "<Figure size 432x288 with 1 Axes>"
            ],
            "image/png": "[encoded data removed]"
          },
          "metadata": {
            "needs_background": "light"
          }
        }
      ]
    },
    {
      "cell_type": "code",
      "source": [
        "plt.clf()\n",
        "\n",
        "acc = history.history['binary_accuracy']\n",
        "val_acc = history.history['val_binary_accuracy']\n",
        "\n",
        "plt.plot(epochs, acc, 'bo', label='Training acc')\n",
        "plt.plot(epochs, val_acc, 'b', label='Validation acc')\n",
        "plt.title('Training and validation accuracy')\n",
        "plt.xlabel('Epochs')\n",
        "plt.ylabel('Accuracy')\n",
        "plt.legend()\n",
        "\n",
        "plt.show()"
      ],
      "metadata": {
        "id": "yQtWGoQwjnI_",
        "execution": {
          "iopub.status.busy": "2022-07-09T19:34:38.886460Z",
          "iopub.execute_input": "2022-07-09T19:34:38.886921Z",
          "iopub.status.idle": "2022-07-09T19:34:39.098285Z",
          "shell.execute_reply.started": "2022-07-09T19:34:38.886874Z",
          "shell.execute_reply": "2022-07-09T19:34:39.097000Z"
        },
        "trusted": true,
        "colab": {
          "base_uri": "https://localhost:8080/",
          "height": 295
        },
        "outputId": "f3f4dd84-dee9-4296-88cf-b699da75b908"
      },
      "execution_count": 48,
      "outputs": [
        {
          "output_type": "display_data",
          "data": {
            "text/plain": [
              "<Figure size 432x288 with 1 Axes>"
            ],
            "image/png": "[encoded data removed]"
          },
          "metadata": {
            "needs_background": "light"
          }
        }
      ]
    },
    {
      "cell_type": "code",
      "source": [
        "preds = pd.DataFrame(nn_model.predict(x_test), index=test.index, columns=target_cols)"
      ],
      "metadata": {
        "id": "eWsNdzF_jnI_",
        "execution": {
          "iopub.status.busy": "2022-07-09T19:34:39.099684Z",
          "iopub.execute_input": "2022-07-09T19:34:39.100159Z",
          "iopub.status.idle": "2022-07-09T19:34:45.821670Z",
          "shell.execute_reply.started": "2022-07-09T19:34:39.100060Z",
          "shell.execute_reply": "2022-07-09T19:34:45.820657Z"
        },
        "trusted": true
      },
      "execution_count": 49,
      "outputs": []
    },
    {
      "cell_type": "code",
      "source": [
        "preds"
      ],
      "metadata": {
        "id": "QThVTl1_jnJA",
        "execution": {
          "iopub.status.busy": "2022-07-09T19:34:45.823424Z",
          "iopub.execute_input": "2022-07-09T19:34:45.824533Z",
          "iopub.status.idle": "2022-07-09T19:34:45.846207Z",
          "shell.execute_reply.started": "2022-07-09T19:34:45.824487Z",
          "shell.execute_reply": "2022-07-09T19:34:45.845041Z"
        },
        "trusted": true,
        "colab": {
          "base_uri": "https://localhost:8080/",
          "height": 455
        },
        "outputId": "eec1c35f-ab50-4e7e-92a4-50a2d4076240"
      },
      "execution_count": 50,
      "outputs": [
        {
          "output_type": "execute_result",
          "data": {
            "text/plain": [
              "                     toxic  severe_toxic   obscene    threat    insult  \\\n",
              "id                                                                       \n",
              "00001cee341fdb12  0.993854      0.412271  0.976239  0.064731  0.852009   \n",
              "0000247867823ef7  0.003010      0.000100  0.000744  0.000238  0.001209   \n",
              "00013b17ad220c46  0.017186      0.000204  0.002884  0.000312  0.004686   \n",
              "00017563c3f7919a  0.005229      0.000066  0.001333  0.000114  0.001733   \n",
              "00017695ad8997eb  0.013465      0.000193  0.002263  0.000314  0.003477   \n",
              "...                    ...           ...       ...       ...       ...   \n",
              "fffcd0960ee309b5  0.633888      0.001530  0.086270  0.000810  0.151552   \n",
              "fffd7a9a6eb32c16  0.062052      0.001009  0.010990  0.001266  0.017731   \n",
              "fffda9e8d6fafa9e  0.001925      0.000036  0.000408  0.000084  0.000704   \n",
              "fffe8f1340a79fc2  0.049672      0.003918  0.013113  0.005965  0.025500   \n",
              "ffffce3fb183ee80  0.872729      0.002609  0.480592  0.000812  0.300483   \n",
              "\n",
              "                  identity_hate  \n",
              "id                               \n",
              "00001cee341fdb12       0.219612  \n",
              "0000247867823ef7       0.000352  \n",
              "00013b17ad220c46       0.000724  \n",
              "00017563c3f7919a       0.000255  \n",
              "00017695ad8997eb       0.000641  \n",
              "...                         ...  \n",
              "fffcd0960ee309b5       0.005559  \n",
              "fffd7a9a6eb32c16       0.002927  \n",
              "fffda9e8d6fafa9e       0.000143  \n",
              "fffe8f1340a79fc2       0.008574  \n",
              "ffffce3fb183ee80       0.006483  \n",
              "\n",
              "[153164 rows x 6 columns]"
            ],
            "text/html": [
              "\n",
              "  <div id=\"df-c859ebbb-9b1d-4e84-a81a-8b03da0dc1be\">\n",
              "    <div class=\"colab-df-container\">\n",
              "      <div>\n",
              "<style scoped>\n",
              "    .dataframe tbody tr th:only-of-type {\n",
              "        vertical-align: middle;\n",
              "    }\n",
              "\n",
              "    .dataframe tbody tr th {\n",
              "        vertical-align: top;\n",
              "    }\n",
              "\n",
              "    .dataframe thead th {\n",
              "        text-align: right;\n",
              "    }\n",
              "</style>\n",
              "<table border=\"1\" class=\"dataframe\">\n",
              "  <thead>\n",
              "    <tr style=\"text-align: right;\">\n",
              "      <th></th>\n",
              "      <th>toxic</th>\n",
              "      <th>severe_toxic</th>\n",
              "      <th>obscene</th>\n",
              "      <th>threat</th>\n",
              "      <th>insult</th>\n",
              "      <th>identity_hate</th>\n",
              "    </tr>\n",
              "    <tr>\n",
              "      <th>id</th>\n",
              "      <th></th>\n",
              "      <th></th>\n",
              "      <th></th>\n",
              "      <th></th>\n",
              "      <th></th>\n",
              "      <th></th>\n",
              "    </tr>\n",
              "  </thead>\n",
              "  <tbody>\n",
              "    <tr>\n",
              "      <th>00001cee341fdb12</th>\n",
              "      <td>0.993854</td>\n",
              "      <td>0.412271</td>\n",
              "      <td>0.976239</td>\n",
              "      <td>0.064731</td>\n",
              "      <td>0.852009</td>\n",
              "      <td>0.219612</td>\n",
              "    </tr>\n",
              "    <tr>\n",
              "      <th>0000247867823ef7</th>\n",
              "      <td>0.003010</td>\n",
              "      <td>0.000100</td>\n",
              "      <td>0.000744</td>\n",
              "      <td>0.000238</td>\n",
              "      <td>0.001209</td>\n",
              "      <td>0.000352</td>\n",
              "    </tr>\n",
              "    <tr>\n",
              "      <th>00013b17ad220c46</th>\n",
              "      <td>0.017186</td>\n",
              "      <td>0.000204</td>\n",
              "      <td>0.002884</td>\n",
              "      <td>0.000312</td>\n",
              "      <td>0.004686</td>\n",
              "      <td>0.000724</td>\n",
              "    </tr>\n",
              "    <tr>\n",
              "      <th>00017563c3f7919a</th>\n",
              "      <td>0.005229</td>\n",
              "      <td>0.000066</td>\n",
              "      <td>0.001333</td>\n",
              "      <td>0.000114</td>\n",
              "      <td>0.001733</td>\n",
              "      <td>0.000255</td>\n",
              "    </tr>\n",
              "    <tr>\n",
              "      <th>00017695ad8997eb</th>\n",
              "      <td>0.013465</td>\n",
              "      <td>0.000193</td>\n",
              "      <td>0.002263</td>\n",
              "      <td>0.000314</td>\n",
              "      <td>0.003477</td>\n",
              "      <td>0.000641</td>\n",
              "    </tr>\n",
              "    <tr>\n",
              "      <th>...</th>\n",
              "      <td>...</td>\n",
              "      <td>...</td>\n",
              "      <td>...</td>\n",
              "      <td>...</td>\n",
              "      <td>...</td>\n",
              "      <td>...</td>\n",
              "    </tr>\n",
              "    <tr>\n",
              "      <th>fffcd0960ee309b5</th>\n",
              "      <td>0.633888</td>\n",
              "      <td>0.001530</td>\n",
              "      <td>0.086270</td>\n",
              "      <td>0.000810</td>\n",
              "      <td>0.151552</td>\n",
              "      <td>0.005559</td>\n",
              "    </tr>\n",
              "    <tr>\n",
              "      <th>fffd7a9a6eb32c16</th>\n",
              "      <td>0.062052</td>\n",
              "      <td>0.001009</td>\n",
              "      <td>0.010990</td>\n",
              "      <td>0.001266</td>\n",
              "      <td>0.017731</td>\n",
              "      <td>0.002927</td>\n",
              "    </tr>\n",
              "    <tr>\n",
              "      <th>fffda9e8d6fafa9e</th>\n",
              "      <td>0.001925</td>\n",
              "      <td>0.000036</td>\n",
              "      <td>0.000408</td>\n",
              "      <td>0.000084</td>\n",
              "      <td>0.000704</td>\n",
              "      <td>0.000143</td>\n",
              "    </tr>\n",
              "    <tr>\n",
              "      <th>fffe8f1340a79fc2</th>\n",
              "      <td>0.049672</td>\n",
              "      <td>0.003918</td>\n",
              "      <td>0.013113</td>\n",
              "      <td>0.005965</td>\n",
              "      <td>0.025500</td>\n",
              "      <td>0.008574</td>\n",
              "    </tr>\n",
              "    <tr>\n",
              "      <th>ffffce3fb183ee80</th>\n",
              "      <td>0.872729</td>\n",
              "      <td>0.002609</td>\n",
              "      <td>0.480592</td>\n",
              "      <td>0.000812</td>\n",
              "      <td>0.300483</td>\n",
              "      <td>0.006483</td>\n",
              "    </tr>\n",
              "  </tbody>\n",
              "</table>\n",
              "<p>153164 rows × 6 columns</p>\n",
              "</div>\n",
              "      <button class=\"colab-df-convert\" onclick=\"convertToInteractive('df-c859ebbb-9b1d-4e84-a81a-8b03da0dc1be')\"\n",
              "              title=\"Convert this dataframe to an interactive table.\"\n",
              "              style=\"display:none;\">\n",
              "        \n",
              "  <svg xmlns=\"http://www.w3.org/2000/svg\" height=\"24px\"viewBox=\"0 0 24 24\"\n",
              "       width=\"24px\">\n",
              "    <path d=\"M0 0h24v24H0V0z\" fill=\"none\"/>\n",
              "    <path d=\"M18.56 5.44l.94 2.06.94-2.06 2.06-.94-2.06-.94-.94-2.06-.94 2.06-2.06.94zm-11 1L8.5 8.5l.94-2.06 2.06-.94-2.06-.94L8.5 2.5l-.94 2.06-2.06.94zm10 10l.94 2.06.94-2.06 2.06-.94-2.06-.94-.94-2.06-.94 2.06-2.06.94z\"/><path d=\"M17.41 7.96l-1.37-1.37c-.4-.4-.92-.59-1.43-.59-.52 0-1.04.2-1.43.59L10.3 9.45l-7.72 7.72c-.78.78-.78 2.05 0 2.83L4 21.41c.39.39.9.59 1.41.59.51 0 1.02-.2 1.41-.59l7.78-7.78 2.81-2.81c.8-.78.8-2.07 0-2.86zM5.41 20L4 18.59l7.72-7.72 1.47 1.35L5.41 20z\"/>\n",
              "  </svg>\n",
              "      </button>\n",
              "      \n",
              "  <style>\n",
              "    .colab-df-container {\n",
              "      display:flex;\n",
              "      flex-wrap:wrap;\n",
              "      gap: 12px;\n",
              "    }\n",
              "\n",
              "    .colab-df-convert {\n",
              "      background-color: #E8F0FE;\n",
              "      border: none;\n",
              "      border-radius: 50%;\n",
              "      cursor: pointer;\n",
              "      display: none;\n",
              "      fill: #1967D2;\n",
              "      height: 32px;\n",
              "      padding: 0 0 0 0;\n",
              "      width: 32px;\n",
              "    }\n",
              "\n",
              "    .colab-df-convert:hover {\n",
              "      background-color: #E2EBFA;\n",
              "      box-shadow: 0px 1px 2px rgba(60, 64, 67, 0.3), 0px 1px 3px 1px rgba(60, 64, 67, 0.15);\n",
              "      fill: #174EA6;\n",
              "    }\n",
              "\n",
              "    [theme=dark] .colab-df-convert {\n",
              "      background-color: #3B4455;\n",
              "      fill: #D2E3FC;\n",
              "    }\n",
              "\n",
              "    [theme=dark] .colab-df-convert:hover {\n",
              "      background-color: #434B5C;\n",
              "      box-shadow: 0px 1px 3px 1px rgba(0, 0, 0, 0.15);\n",
              "      filter: drop-shadow(0px 1px 2px rgba(0, 0, 0, 0.3));\n",
              "      fill: #FFFFFF;\n",
              "    }\n",
              "  </style>\n",
              "\n",
              "      <script>\n",
              "        const buttonEl =\n",
              "          document.querySelector('#df-c859ebbb-9b1d-4e84-a81a-8b03da0dc1be button.colab-df-convert');\n",
              "        buttonEl.style.display =\n",
              "          google.colab.kernel.accessAllowed ? 'block' : 'none';\n",
              "\n",
              "        async function convertToInteractive(key) {\n",
              "          const element = document.querySelector('#df-c859ebbb-9b1d-4e84-a81a-8b03da0dc1be');\n",
              "          const dataTable =\n",
              "            await google.colab.kernel.invokeFunction('convertToInteractive',\n",
              "                                                     [key], {});\n",
              "          if (!dataTable) return;\n",
              "\n",
              "          const docLinkHtml = 'Like what you see? Visit the ' +\n",
              "            '<a target=\"_blank\" href=https://colab.research.google.com/notebooks/data_table.ipynb>data table notebook</a>'\n",
              "            + ' to learn more about interactive tables.';\n",
              "          element.innerHTML = '';\n",
              "          dataTable['output_type'] = 'display_data';\n",
              "          await google.colab.output.renderOutput(dataTable, element);\n",
              "          const docLink = document.createElement('div');\n",
              "          docLink.innerHTML = docLinkHtml;\n",
              "          element.appendChild(docLink);\n",
              "        }\n",
              "      </script>\n",
              "    </div>\n",
              "  </div>\n",
              "  "
            ]
          },
          "metadata": {},
          "execution_count": 50
        }
      ]
    },
    {
      "cell_type": "code",
      "source": [
        "preds.to_csv('FFNN2_submission.csv')"
      ],
      "metadata": {
        "id": "UZjJ06nujnJA",
        "execution": {
          "iopub.status.busy": "2022-07-09T19:34:45.847763Z",
          "iopub.execute_input": "2022-07-09T19:34:45.849436Z",
          "iopub.status.idle": "2022-07-09T19:34:47.298585Z",
          "shell.execute_reply.started": "2022-07-09T19:34:45.849384Z",
          "shell.execute_reply": "2022-07-09T19:34:47.297539Z"
        },
        "trusted": true
      },
      "execution_count": 51,
      "outputs": []
    },
    {
      "cell_type": "markdown",
      "source": [
        "### **4.2 Sequential Models with Word Embeddings Text Representation**"
      ],
      "metadata": {
        "id": "ZUD_o2tgV4V_"
      }
    },
    {
      "cell_type": "code",
      "source": [
        "tokenizer = Tokenizer()\n",
        "tokenizer.fit_on_texts(pd.concat([train.comment, test.comment], axis=0))\n",
        "vocab_size = len(tokenizer.word_index) + 1\n",
        "vocab_size"
      ],
      "metadata": {
        "id": "svwwO4x3V4WA",
        "execution": {
          "iopub.status.busy": "2022-07-09T19:34:47.300009Z",
          "iopub.execute_input": "2022-07-09T19:34:47.300488Z",
          "iopub.status.idle": "2022-07-09T19:35:00.252398Z",
          "shell.execute_reply.started": "2022-07-09T19:34:47.300444Z",
          "shell.execute_reply": "2022-07-09T19:35:00.251020Z"
        },
        "trusted": true,
        "colab": {
          "base_uri": "https://localhost:8080/"
        },
        "outputId": "fe54a258-190e-4352-fdcc-87d31b799a9a"
      },
      "execution_count": 52,
      "outputs": [
        {
          "output_type": "execute_result",
          "data": {
            "text/plain": [
              "262565"
            ]
          },
          "metadata": {},
          "execution_count": 52
        }
      ]
    },
    {
      "cell_type": "code",
      "source": [
        "x_train = tokenizer.texts_to_sequences(x_train_df)\n",
        "x_val = tokenizer.texts_to_sequences(x_val_df)\n",
        "x_test = tokenizer.texts_to_sequences(x_test_df)"
      ],
      "metadata": {
        "id": "TgBA7oXWV4WB",
        "execution": {
          "iopub.status.busy": "2022-07-09T19:35:00.255057Z",
          "iopub.execute_input": "2022-07-09T19:35:00.255471Z",
          "iopub.status.idle": "2022-07-09T19:35:09.886884Z",
          "shell.execute_reply.started": "2022-07-09T19:35:00.255439Z",
          "shell.execute_reply": "2022-07-09T19:35:09.885472Z"
        },
        "trusted": true
      },
      "execution_count": 53,
      "outputs": []
    },
    {
      "cell_type": "code",
      "source": [
        "max_length = len(max(x_train, key=len))\n",
        "max_length"
      ],
      "metadata": {
        "id": "m4xsXPBDV4WB",
        "execution": {
          "iopub.status.busy": "2022-07-09T19:35:09.888586Z",
          "iopub.execute_input": "2022-07-09T19:35:09.888945Z",
          "iopub.status.idle": "2022-07-09T19:35:09.905476Z",
          "shell.execute_reply.started": "2022-07-09T19:35:09.888914Z",
          "shell.execute_reply": "2022-07-09T19:35:09.904256Z"
        },
        "trusted": true,
        "colab": {
          "base_uri": "https://localhost:8080/"
        },
        "outputId": "7d35ba60-20fc-4030-829c-ce506eefc9a0"
      },
      "execution_count": 54,
      "outputs": [
        {
          "output_type": "execute_result",
          "data": {
            "text/plain": [
              "1250"
            ]
          },
          "metadata": {},
          "execution_count": 54
        }
      ]
    },
    {
      "cell_type": "code",
      "source": [
        "max_length = 200\n",
        "x_train = pad_sequences(x_train, maxlen=max_length, padding='post', truncating='post')\n",
        "x_val = pad_sequences(x_val, maxlen=max_length, padding='post', truncating='post')\n",
        "x_test = pad_sequences(x_test, maxlen=max_length, padding='post', truncating='post')"
      ],
      "metadata": {
        "id": "tcCByxsyV4WC",
        "execution": {
          "iopub.status.busy": "2022-07-09T19:35:09.907389Z",
          "iopub.execute_input": "2022-07-09T19:35:09.908640Z",
          "iopub.status.idle": "2022-07-09T19:35:12.120119Z",
          "shell.execute_reply.started": "2022-07-09T19:35:09.908591Z",
          "shell.execute_reply": "2022-07-09T19:35:12.118929Z"
        },
        "trusted": true
      },
      "execution_count": 55,
      "outputs": []
    },
    {
      "cell_type": "markdown",
      "source": [
        "#### **4.2.1 Simple RNN Model**"
      ],
      "metadata": {
        "id": "NxJquI2KV4WD"
      }
    },
    {
      "cell_type": "code",
      "source": [
        "rnn_model = models.Sequential()\n",
        "rnn_model.add(layers.Embedding(vocab_size, 8, input_length=max_length))\n",
        "rnn_model.add(layers.SimpleRNN(8))\n",
        "rnn_model.add(layers.Dense(16, activation='relu'))\n",
        "rnn_model.add(layers.Dense(6, activation='sigmoid'))\n",
        "rnn_model.summary()"
      ],
      "metadata": {
        "id": "PRzIUTlaV4WE",
        "execution": {
          "iopub.status.busy": "2022-07-09T19:35:12.121377Z",
          "iopub.execute_input": "2022-07-09T19:35:12.121700Z",
          "iopub.status.idle": "2022-07-09T19:35:12.251503Z",
          "shell.execute_reply.started": "2022-07-09T19:35:12.121670Z",
          "shell.execute_reply": "2022-07-09T19:35:12.250313Z"
        },
        "trusted": true,
        "colab": {
          "base_uri": "https://localhost:8080/"
        },
        "outputId": "f8779d54-021d-4d88-e77d-b44598a399ed"
      },
      "execution_count": 56,
      "outputs": [
        {
          "output_type": "stream",
          "name": "stdout",
          "text": [
            "Model: \"sequential_1\"\n",
            "_________________________________________________________________\n",
            " Layer (type)                Output Shape              Param #   \n",
            "=================================================================\n",
            " embedding (Embedding)       (None, 200, 8)            2100520   \n",
            "                                                                 \n",
            " simple_rnn (SimpleRNN)      (None, 8)                 136       \n",
            "                                                                 \n",
            " dense_3 (Dense)             (None, 16)                144       \n",
            "                                                                 \n",
            " dense_4 (Dense)             (None, 6)                 102       \n",
            "                                                                 \n",
            "=================================================================\n",
            "Total params: 2,100,902\n",
            "Trainable params: 2,100,902\n",
            "Non-trainable params: 0\n",
            "_________________________________________________________________\n"
          ]
        }
      ]
    },
    {
      "cell_type": "code",
      "source": [
        "plot_model(rnn_model, to_file='rnn_model.png', show_shapes=True)"
      ],
      "metadata": {
        "id": "o1OA4D4LV4WF",
        "execution": {
          "iopub.status.busy": "2022-07-09T19:35:12.252932Z",
          "iopub.execute_input": "2022-07-09T19:35:12.253280Z",
          "iopub.status.idle": "2022-07-09T19:35:12.843194Z",
          "shell.execute_reply.started": "2022-07-09T19:35:12.253249Z",
          "shell.execute_reply": "2022-07-09T19:35:12.841860Z"
        },
        "trusted": true,
        "colab": {
          "base_uri": "https://localhost:8080/",
          "height": 533
        },
        "outputId": "6d052f82-1cf1-4642-ea24-bcf9e09323b3"
      },
      "execution_count": 57,
      "outputs": [
        {
          "output_type": "execute_result",
          "data": {
            "text/plain": [
              "<IPython.core.display.Image object>"
            ],
            "image/png": "[encoded data removed]"
          },
          "metadata": {},
          "execution_count": 57
        }
      ]
    },
    {
      "cell_type": "code",
      "source": [
        "rnn_model.compile(optimizer=optimizers.Adam(),\n",
        "              loss=losses.binary_crossentropy,\n",
        "              metrics=[metrics.binary_accuracy])"
      ],
      "metadata": {
        "id": "sYWa5mvOV4WG",
        "execution": {
          "iopub.status.busy": "2022-07-09T19:35:12.845371Z",
          "iopub.execute_input": "2022-07-09T19:35:12.845737Z",
          "iopub.status.idle": "2022-07-09T19:35:12.860564Z",
          "shell.execute_reply.started": "2022-07-09T19:35:12.845701Z",
          "shell.execute_reply": "2022-07-09T19:35:12.859342Z"
        },
        "trusted": true
      },
      "execution_count": 58,
      "outputs": []
    },
    {
      "cell_type": "code",
      "source": [
        "history = rnn_model.fit(x_train,\n",
        "                    y_train,\n",
        "                    epochs=10,\n",
        "                    batch_size=512,\n",
        "                    validation_data=(x_val, y_val))"
      ],
      "metadata": {
        "id": "QjrYqyOMV4WH",
        "execution": {
          "iopub.status.busy": "2022-07-09T19:35:12.862246Z",
          "iopub.execute_input": "2022-07-09T19:35:12.862750Z",
          "iopub.status.idle": "2022-07-09T19:39:00.905212Z",
          "shell.execute_reply.started": "2022-07-09T19:35:12.862720Z",
          "shell.execute_reply": "2022-07-09T19:39:00.904190Z"
        },
        "trusted": true,
        "colab": {
          "base_uri": "https://localhost:8080/"
        },
        "outputId": "928183ca-7e03-4aab-e37e-e09321d31705"
      },
      "execution_count": 59,
      "outputs": [
        {
          "output_type": "stream",
          "name": "stdout",
          "text": [
            "Epoch 1/10\n",
            "250/250 [==============================] - 47s 183ms/step - loss: 0.3138 - binary_accuracy: 0.8808 - val_loss: 0.1448 - val_binary_accuracy: 0.9631\n",
            "Epoch 2/10\n",
            "250/250 [==============================] - 47s 188ms/step - loss: 0.1418 - binary_accuracy: 0.9634 - val_loss: 0.1419 - val_binary_accuracy: 0.9631\n",
            "Epoch 3/10\n",
            "250/250 [==============================] - 46s 182ms/step - loss: 0.1380 - binary_accuracy: 0.9643 - val_loss: 0.1376 - val_binary_accuracy: 0.9643\n",
            "Epoch 4/10\n",
            "250/250 [==============================] - 45s 181ms/step - loss: 0.1348 - binary_accuracy: 0.9651 - val_loss: 0.1344 - val_binary_accuracy: 0.9651\n",
            "Epoch 5/10\n",
            "250/250 [==============================] - 46s 184ms/step - loss: 0.1316 - binary_accuracy: 0.9660 - val_loss: 0.1320 - val_binary_accuracy: 0.9658\n",
            "Epoch 6/10\n",
            "250/250 [==============================] - 46s 186ms/step - loss: 0.1294 - binary_accuracy: 0.9666 - val_loss: 0.1300 - val_binary_accuracy: 0.9664\n",
            "Epoch 7/10\n",
            "250/250 [==============================] - 45s 181ms/step - loss: 0.1266 - binary_accuracy: 0.9674 - val_loss: 0.1279 - val_binary_accuracy: 0.9670\n",
            "Epoch 8/10\n",
            "250/250 [==============================] - 46s 183ms/step - loss: 0.1252 - binary_accuracy: 0.9677 - val_loss: 0.1268 - val_binary_accuracy: 0.9670\n",
            "Epoch 9/10\n",
            "250/250 [==============================] - 45s 181ms/step - loss: 0.1231 - binary_accuracy: 0.9680 - val_loss: 0.1261 - val_binary_accuracy: 0.9669\n",
            "Epoch 10/10\n",
            "250/250 [==============================] - 46s 184ms/step - loss: 0.1220 - binary_accuracy: 0.9678 - val_loss: 0.1250 - val_binary_accuracy: 0.9662\n"
          ]
        }
      ]
    },
    {
      "cell_type": "code",
      "source": [
        "loss = history.history['loss']\n",
        "val_loss = history.history['val_loss']\n",
        "\n",
        "epochs = range(1, len(loss) + 1)\n",
        "\n",
        "plt.plot(epochs, loss, 'bo', label='Training loss')\n",
        "plt.plot(epochs, val_loss, 'b', label='Validation loss')\n",
        "plt.title('Training and validation loss')\n",
        "plt.xlabel('Epochs')\n",
        "plt.ylabel('Loss')\n",
        "plt.legend()\n",
        "\n",
        "plt.show()"
      ],
      "metadata": {
        "id": "Q4nrPfAPV4WI",
        "execution": {
          "iopub.status.busy": "2022-07-09T19:39:00.908818Z",
          "iopub.execute_input": "2022-07-09T19:39:00.909376Z",
          "iopub.status.idle": "2022-07-09T19:39:01.140461Z",
          "shell.execute_reply.started": "2022-07-09T19:39:00.909325Z",
          "shell.execute_reply": "2022-07-09T19:39:01.139120Z"
        },
        "trusted": true,
        "colab": {
          "base_uri": "https://localhost:8080/",
          "height": 295
        },
        "outputId": "87d6552f-63a5-4e66-d85d-1cb1064d6dba"
      },
      "execution_count": 60,
      "outputs": [
        {
          "output_type": "display_data",
          "data": {
            "text/plain": [
              "<Figure size 432x288 with 1 Axes>"
            ],
            "image/png": "[encoded data removed]"
          },
          "metadata": {
            "needs_background": "light"
          }
        }
      ]
    },
    {
      "cell_type": "code",
      "source": [
        "plt.clf()\n",
        "\n",
        "acc = history.history['binary_accuracy']\n",
        "val_acc = history.history['val_binary_accuracy']\n",
        "\n",
        "plt.plot(epochs, acc, 'bo', label='Training acc')\n",
        "plt.plot(epochs, val_acc, 'b', label='Validation acc')\n",
        "plt.title('Training and validation accuracy')\n",
        "plt.xlabel('Epochs')\n",
        "plt.ylabel('Accuracy')\n",
        "plt.legend()\n",
        "\n",
        "plt.show()"
      ],
      "metadata": {
        "id": "AYlOQDc7V4WI",
        "execution": {
          "iopub.status.busy": "2022-07-09T19:39:01.142214Z",
          "iopub.execute_input": "2022-07-09T19:39:01.142602Z",
          "iopub.status.idle": "2022-07-09T19:39:01.364501Z",
          "shell.execute_reply.started": "2022-07-09T19:39:01.142571Z",
          "shell.execute_reply": "2022-07-09T19:39:01.363349Z"
        },
        "trusted": true,
        "colab": {
          "base_uri": "https://localhost:8080/",
          "height": 295
        },
        "outputId": "089276db-7138-4e9f-885b-c262bb742c57"
      },
      "execution_count": 61,
      "outputs": [
        {
          "output_type": "display_data",
          "data": {
            "text/plain": [
              "<Figure size 432x288 with 1 Axes>"
            ],
            "image/png": "[encoded data removed]"
          },
          "metadata": {
            "needs_background": "light"
          }
        }
      ]
    },
    {
      "cell_type": "markdown",
      "source": [
        "#### **4.2.2 LSTM Model**"
      ],
      "metadata": {
        "id": "dyx0Zgbl4lLg"
      }
    },
    {
      "cell_type": "code",
      "source": [
        "from tensorflow.keras.layers import Embedding\n",
        "from tensorflow.keras.layers import LSTM\n",
        "\n",
        "lstm_model = models.Sequential()\n",
        "lstm_model.add(Embedding(vocab_size, 128, input_length=max_length, mask_zero=True))\n",
        "lstm_model.add(LSTM(100, return_sequences=True))\n",
        "lstm_model.add(LSTM(50))\n",
        "\n",
        "# lstm_model.add(layers.Dense(16, activation='relu'))\n",
        "# lstm_model.add(layers.Dense(32, activation='relu'))\n",
        "\n",
        "\n",
        "lstm_model.add(layers.Dense(6, activation='sigmoid'))\n",
        "lstm_model.summary()"
      ],
      "metadata": {
        "id": "KXb7Xx3Bjsni",
        "execution": {
          "iopub.status.busy": "2022-07-09T19:39:01.365897Z",
          "iopub.execute_input": "2022-07-09T19:39:01.366229Z",
          "iopub.status.idle": "2022-07-09T19:39:03.306023Z",
          "shell.execute_reply.started": "2022-07-09T19:39:01.366199Z",
          "shell.execute_reply": "2022-07-09T19:39:03.304872Z"
        },
        "trusted": true,
        "colab": {
          "base_uri": "https://localhost:8080/"
        },
        "outputId": "b18639d0-7a83-4947-8abd-8f519411cb65"
      },
      "execution_count": 62,
      "outputs": [
        {
          "output_type": "stream",
          "name": "stdout",
          "text": [
            "Model: \"sequential_2\"\n",
            "_________________________________________________________________\n",
            " Layer (type)                Output Shape              Param #   \n",
            "=================================================================\n",
            " embedding_1 (Embedding)     (None, 200, 128)          33608320  \n",
            "                                                                 \n",
            " lstm (LSTM)                 (None, 200, 100)          91600     \n",
            "                                                                 \n",
            " lstm_1 (LSTM)               (None, 50)                30200     \n",
            "                                                                 \n",
            " dense_5 (Dense)             (None, 6)                 306       \n",
            "                                                                 \n",
            "=================================================================\n",
            "Total params: 33,730,426\n",
            "Trainable params: 33,730,426\n",
            "Non-trainable params: 0\n",
            "_________________________________________________________________\n"
          ]
        }
      ]
    },
    {
      "cell_type": "code",
      "source": [
        "plot_model(lstm_model, to_file='LSTM_model.png', show_shapes=True)"
      ],
      "metadata": {
        "id": "T8e1qN6ipOxa",
        "execution": {
          "iopub.status.busy": "2022-07-09T19:39:03.307759Z",
          "iopub.execute_input": "2022-07-09T19:39:03.308055Z",
          "iopub.status.idle": "2022-07-09T19:39:03.532461Z",
          "shell.execute_reply.started": "2022-07-09T19:39:03.308027Z",
          "shell.execute_reply": "2022-07-09T19:39:03.530924Z"
        },
        "trusted": true,
        "colab": {
          "base_uri": "https://localhost:8080/",
          "height": 533
        },
        "outputId": "1fef8622-bc9c-44b9-b704-992bcf82a6ec"
      },
      "execution_count": 63,
      "outputs": [
        {
          "output_type": "execute_result",
          "data": {
            "text/plain": [
              "<IPython.core.display.Image object>"
            ],
            "image/png": "[encoded data removed]"
          },
          "metadata": {},
          "execution_count": 63
        }
      ]
    },
    {
      "cell_type": "code",
      "source": [
        "lstm_model.compile(optimizer=optimizers.Adam(),\n",
        "              loss=losses.binary_crossentropy,\n",
        "              metrics=[metrics.binary_accuracy])"
      ],
      "metadata": {
        "id": "DFZUryTupTes",
        "execution": {
          "iopub.status.busy": "2022-07-09T19:39:03.534586Z",
          "iopub.execute_input": "2022-07-09T19:39:03.535048Z",
          "iopub.status.idle": "2022-07-09T19:39:03.549498Z",
          "shell.execute_reply.started": "2022-07-09T19:39:03.534996Z",
          "shell.execute_reply": "2022-07-09T19:39:03.548354Z"
        },
        "trusted": true
      },
      "execution_count": 64,
      "outputs": []
    },
    {
      "cell_type": "code",
      "source": [
        "history = lstm_model.fit(x_train,\n",
        "                    y_train,\n",
        "                    epochs=10,\n",
        "                    batch_size=512,\n",
        "                    validation_data=(x_val, y_val))"
      ],
      "metadata": {
        "id": "uyht4tGWpVYq",
        "execution": {
          "iopub.status.busy": "2022-07-09T19:39:03.550975Z",
          "iopub.execute_input": "2022-07-09T19:39:03.551768Z",
          "iopub.status.idle": "2022-07-09T21:27:53.000858Z",
          "shell.execute_reply.started": "2022-07-09T19:39:03.551733Z",
          "shell.execute_reply": "2022-07-09T21:27:52.999710Z"
        },
        "trusted": true,
        "colab": {
          "base_uri": "https://localhost:8080/"
        },
        "outputId": "017653a9-0ca1-452c-ff0b-e22927d19b1e"
      },
      "execution_count": 65,
      "outputs": [
        {
          "output_type": "stream",
          "name": "stdout",
          "text": [
            "Epoch 1/10\n",
            "250/250 [==============================] - 96s 348ms/step - loss: 0.1569 - binary_accuracy: 0.9641 - val_loss: 0.0992 - val_binary_accuracy: 0.9703\n",
            "Epoch 2/10\n",
            "250/250 [==============================] - 85s 335ms/step - loss: 0.0696 - binary_accuracy: 0.9769 - val_loss: 0.0612 - val_binary_accuracy: 0.9784\n",
            "Epoch 3/10\n",
            "250/250 [==============================] - 82s 329ms/step - loss: 0.0487 - binary_accuracy: 0.9825 - val_loss: 0.0585 - val_binary_accuracy: 0.9807\n",
            "Epoch 4/10\n",
            "250/250 [==============================] - 83s 334ms/step - loss: 0.0417 - binary_accuracy: 0.9847 - val_loss: 0.0547 - val_binary_accuracy: 0.9808\n",
            "Epoch 5/10\n",
            "250/250 [==============================] - 89s 353ms/step - loss: 0.0377 - binary_accuracy: 0.9859 - val_loss: 0.0559 - val_binary_accuracy: 0.9801\n",
            "Epoch 6/10\n",
            "250/250 [==============================] - 85s 343ms/step - loss: 0.0350 - binary_accuracy: 0.9870 - val_loss: 0.0614 - val_binary_accuracy: 0.9758\n",
            "Epoch 7/10\n",
            "250/250 [==============================] - 91s 366ms/step - loss: 0.0349 - binary_accuracy: 0.9870 - val_loss: 0.0591 - val_binary_accuracy: 0.9795\n",
            "Epoch 8/10\n",
            "250/250 [==============================] - 84s 337ms/step - loss: 0.0331 - binary_accuracy: 0.9876 - val_loss: 0.0611 - val_binary_accuracy: 0.9793\n",
            "Epoch 9/10\n",
            "250/250 [==============================] - 83s 334ms/step - loss: 0.0305 - binary_accuracy: 0.9887 - val_loss: 0.0617 - val_binary_accuracy: 0.9792\n",
            "Epoch 10/10\n",
            "250/250 [==============================] - 83s 333ms/step - loss: 0.0288 - binary_accuracy: 0.9893 - val_loss: 0.0658 - val_binary_accuracy: 0.9788\n"
          ]
        }
      ]
    },
    {
      "cell_type": "code",
      "source": [
        "loss = history.history['loss']\n",
        "val_loss = history.history['val_loss']\n",
        "\n",
        "epochs = range(1, len(loss) + 1)\n",
        "\n",
        "plt.plot(epochs, loss, 'bo', label='Training loss')\n",
        "plt.plot(epochs, val_loss, 'b', label='Validation loss')\n",
        "plt.title('Training and validation loss')\n",
        "plt.xlabel('Epochs')\n",
        "plt.ylabel('Loss')\n",
        "plt.legend()\n",
        "\n",
        "plt.show()"
      ],
      "metadata": {
        "id": "KfNQQyVG3P5C",
        "execution": {
          "iopub.status.busy": "2022-07-09T21:27:53.004501Z",
          "iopub.execute_input": "2022-07-09T21:27:53.004874Z",
          "iopub.status.idle": "2022-07-09T21:27:53.229182Z",
          "shell.execute_reply.started": "2022-07-09T21:27:53.004843Z",
          "shell.execute_reply": "2022-07-09T21:27:53.228019Z"
        },
        "trusted": true,
        "colab": {
          "base_uri": "https://localhost:8080/",
          "height": 295
        },
        "outputId": "2e518fa3-09ca-48c7-b64c-45ebdcd84aa2"
      },
      "execution_count": 66,
      "outputs": [
        {
          "output_type": "display_data",
          "data": {
            "text/plain": [
              "<Figure size 432x288 with 1 Axes>"
            ],
            "image/png": "[encoded data removed]"
          },
          "metadata": {
            "needs_background": "light"
          }
        }
      ]
    },
    {
      "cell_type": "code",
      "source": [
        "plt.clf()\n",
        "\n",
        "acc = history.history['binary_accuracy']\n",
        "val_acc = history.history['val_binary_accuracy']\n",
        "\n",
        "plt.plot(epochs, acc, 'bo', label='Training acc')\n",
        "plt.plot(epochs, val_acc, 'b', label='Validation acc')\n",
        "plt.title('Training and validation accuracy')\n",
        "plt.xlabel('Epochs')\n",
        "plt.ylabel('Accuracy')\n",
        "plt.legend()\n",
        "\n",
        "plt.show()"
      ],
      "metadata": {
        "id": "bwqvKLHB3U9N",
        "execution": {
          "iopub.status.busy": "2022-07-09T21:27:53.232137Z",
          "iopub.execute_input": "2022-07-09T21:27:53.233313Z",
          "iopub.status.idle": "2022-07-09T21:27:53.438078Z",
          "shell.execute_reply.started": "2022-07-09T21:27:53.233274Z",
          "shell.execute_reply": "2022-07-09T21:27:53.437242Z"
        },
        "trusted": true,
        "colab": {
          "base_uri": "https://localhost:8080/",
          "height": 295
        },
        "outputId": "860f073f-3f02-41ae-a39f-3689f8e7438a"
      },
      "execution_count": 67,
      "outputs": [
        {
          "output_type": "display_data",
          "data": {
            "text/plain": [
              "<Figure size 432x288 with 1 Axes>"
            ],
            "image/png": "[encoded data removed]"
          },
          "metadata": {
            "needs_background": "light"
          }
        }
      ]
    },
    {
      "cell_type": "markdown",
      "source": [
        "#### **4.2.3 Bi-LSTM Model**"
      ],
      "metadata": {
        "id": "cysIJrR14piA"
      }
    },
    {
      "cell_type": "code",
      "source": [
        "Bilstm_model = models.Sequential()\n",
        "Bilstm_model.add(Embedding(vocab_size, 128, input_length=200, mask_zero=True))\n",
        "Bilstm_model.add(Bidirectional(LSTM(100)))\n",
        "Bilstm_model.add(Dropout(0.5))\n",
        "\n",
        "Bilstm_model.summary()"
      ],
      "metadata": {
        "id": "QGPqziHr3YKx",
        "execution": {
          "iopub.status.busy": "2022-07-09T21:27:53.439313Z",
          "iopub.execute_input": "2022-07-09T21:27:53.439793Z",
          "iopub.status.idle": "2022-07-09T21:27:55.815513Z",
          "shell.execute_reply.started": "2022-07-09T21:27:53.439761Z",
          "shell.execute_reply": "2022-07-09T21:27:55.814091Z"
        },
        "trusted": true,
        "colab": {
          "base_uri": "https://localhost:8080/"
        },
        "outputId": "1fd64352-bb86-4e7e-9145-006d23918326"
      },
      "execution_count": 68,
      "outputs": [
        {
          "output_type": "stream",
          "name": "stdout",
          "text": [
            "Model: \"sequential_3\"\n",
            "_________________________________________________________________\n",
            " Layer (type)                Output Shape              Param #   \n",
            "=================================================================\n",
            " embedding_2 (Embedding)     (None, 200, 128)          33608320  \n",
            "                                                                 \n",
            " bidirectional (Bidirectiona  (None, 200)              183200    \n",
            " l)                                                              \n",
            "                                                                 \n",
            " dropout (Dropout)           (None, 200)               0         \n",
            "                                                                 \n",
            " dense_6 (Dense)             (None, 6)                 1206      \n",
            "                                                                 \n",
            "=================================================================\n",
            "Total params: 33,792,726\n",
            "Trainable params: 33,792,726\n",
            "Non-trainable params: 0\n",
            "_________________________________________________________________\n"
          ]
        }
      ]
    },
    {
      "cell_type": "code",
      "source": [
        "plot_model(Bilstm_model, to_file='BiLSTM_model.png', show_shapes=True)"
      ],
      "metadata": {
        "id": "3AfCY9n34uHC",
        "execution": {
          "iopub.status.busy": "2022-07-09T21:27:55.817598Z",
          "iopub.execute_input": "2022-07-09T21:27:55.818071Z",
          "iopub.status.idle": "2022-07-09T21:27:56.089356Z",
          "shell.execute_reply.started": "2022-07-09T21:27:55.818023Z",
          "shell.execute_reply": "2022-07-09T21:27:56.087948Z"
        },
        "trusted": true,
        "colab": {
          "base_uri": "https://localhost:8080/",
          "height": 533
        },
        "outputId": "220be5ff-f2e3-4fd5-d487-97e66e909200"
      },
      "execution_count": 69,
      "outputs": [
        {
          "output_type": "execute_result",
          "data": {
            "text/plain": [
              "<IPython.core.display.Image object>"
            ],
            "image/png": "[encoded data removed]"
          },
          "metadata": {},
          "execution_count": 69
        }
      ]
    },
    {
      "cell_type": "code",
      "source": [
        "Bilstm_model.compile(optimizer=optimizers.Adam(),\n",
        "              loss=losses.binary_crossentropy,\n",
        "              metrics=[metrics.binary_accuracy])"
      ],
      "metadata": {
        "id": "Li_1ch5h4wS8",
        "execution": {
          "iopub.status.busy": "2022-07-09T21:27:56.091226Z",
          "iopub.execute_input": "2022-07-09T21:27:56.091616Z",
          "iopub.status.idle": "2022-07-09T21:27:56.106742Z",
          "shell.execute_reply.started": "2022-07-09T21:27:56.091574Z",
          "shell.execute_reply": "2022-07-09T21:27:56.105523Z"
        },
        "trusted": true
      },
      "execution_count": 70,
      "outputs": []
    },
    {
      "cell_type": "code",
      "source": [
        "history = Bilstm_model.fit(x_train,\n",
        "                    y_train,\n",
        "                    epochs=5,\n",
        "                    batch_size=512,\n",
        "                    validation_data=(x_val, y_val))"
      ],
      "metadata": {
        "id": "9aV8knwQ4x9X",
        "execution": {
          "iopub.status.busy": "2022-07-09T21:27:56.108195Z",
          "iopub.execute_input": "2022-07-09T21:27:56.109354Z",
          "iopub.status.idle": "2022-07-09T21:43:09.999726Z",
          "shell.execute_reply.started": "2022-07-09T21:27:56.109309Z",
          "shell.execute_reply": "2022-07-09T21:43:09.997765Z"
        },
        "trusted": true,
        "colab": {
          "base_uri": "https://localhost:8080/"
        },
        "outputId": "62259666-2476-4911-d7a6-7f0aeeab646b"
      },
      "execution_count": 71,
      "outputs": [
        {
          "output_type": "stream",
          "name": "stdout",
          "text": [
            "Epoch 1/5\n",
            "250/250 [==============================] - 96s 357ms/step - loss: 0.1439 - binary_accuracy: 0.9640 - val_loss: 0.0768 - val_binary_accuracy: 0.9727\n",
            "Epoch 2/5\n",
            "250/250 [==============================] - 86s 345ms/step - loss: 0.0618 - binary_accuracy: 0.9786 - val_loss: 0.0576 - val_binary_accuracy: 0.9796\n",
            "Epoch 3/5\n",
            "250/250 [==============================] - 85s 338ms/step - loss: 0.0471 - binary_accuracy: 0.9828 - val_loss: 0.0557 - val_binary_accuracy: 0.9802\n",
            "Epoch 4/5\n",
            "250/250 [==============================] - 87s 348ms/step - loss: 0.0410 - binary_accuracy: 0.9848 - val_loss: 0.0557 - val_binary_accuracy: 0.9798\n",
            "Epoch 5/5\n",
            "250/250 [==============================] - 79s 318ms/step - loss: 0.0377 - binary_accuracy: 0.9858 - val_loss: 0.0581 - val_binary_accuracy: 0.9799\n"
          ]
        }
      ]
    },
    {
      "cell_type": "code",
      "source": [
        "loss = history.history['loss']\n",
        "val_loss = history.history['val_loss']\n",
        "\n",
        "epochs = range(1, len(loss) + 1)\n",
        "\n",
        "plt.plot(epochs, loss, 'bo', label='Training loss')\n",
        "plt.plot(epochs, val_loss, 'b', label='Validation loss')\n",
        "plt.title('Training and validation loss')\n",
        "plt.xlabel('Epochs')\n",
        "plt.ylabel('Loss')\n",
        "plt.legend()\n",
        "\n",
        "plt.show()"
      ],
      "metadata": {
        "id": "OjWXqEW94zkY",
        "execution": {
          "iopub.status.busy": "2022-07-09T21:43:10.000947Z",
          "iopub.status.idle": "2022-07-09T21:43:10.001652Z",
          "shell.execute_reply.started": "2022-07-09T21:43:10.001420Z",
          "shell.execute_reply": "2022-07-09T21:43:10.001443Z"
        },
        "trusted": true,
        "colab": {
          "base_uri": "https://localhost:8080/",
          "height": 295
        },
        "outputId": "2d045f15-1db8-4900-f87a-b9bef3f3a93d"
      },
      "execution_count": 72,
      "outputs": [
        {
          "output_type": "display_data",
          "data": {
            "text/plain": [
              "<Figure size 432x288 with 1 Axes>"
            ],
            "image/png": "[encoded data removed]"
          },
          "metadata": {
            "needs_background": "light"
          }
        }
      ]
    },
    {
      "cell_type": "code",
      "source": [
        "plt.clf()\n",
        "\n",
        "acc = history.history['binary_accuracy']\n",
        "val_acc = history.history['val_binary_accuracy']\n",
        "\n",
        "plt.plot(epochs, acc, 'bo', label='Training acc')\n",
        "plt.plot(epochs, val_acc, 'b', label='Validation acc')\n",
        "plt.title('Training and validation accuracy')\n",
        "plt.xlabel('Epochs')\n",
        "plt.ylabel('Accuracy')\n",
        "plt.legend()\n",
        "\n",
        "plt.show()"
      ],
      "metadata": {
        "id": "D0sAYp-d62Za",
        "execution": {
          "iopub.status.busy": "2022-07-09T21:43:10.003566Z",
          "iopub.status.idle": "2022-07-09T21:43:10.003982Z",
          "shell.execute_reply.started": "2022-07-09T21:43:10.003782Z",
          "shell.execute_reply": "2022-07-09T21:43:10.003802Z"
        },
        "trusted": true,
        "colab": {
          "base_uri": "https://localhost:8080/",
          "height": 295
        },
        "outputId": "85a63012-715c-4c26-a1db-5e6977f23eed"
      },
      "execution_count": 73,
      "outputs": [
        {
          "output_type": "display_data",
          "data": {
            "text/plain": [
              "<Figure size 432x288 with 1 Axes>"
            ],
            "image/png": "[encoded data removed]"
          },
          "metadata": {
            "needs_background": "light"
          }
        }
      ]
    },
    {
      "cell_type": "markdown",
      "source": [
        "#### **4.2.4 GRU Model**"
      ],
      "metadata": {
        "id": "mKxsb1Hh_0jC"
      }
    },
    {
      "cell_type": "code",
      "source": [
        "GRUmodel = models.Sequential()\n",
        "GRUmodel.add(Embedding(vocab_size, 128, input_length=max_length))\n",
        "GRUmodel.add(GRU(64))\n",
        "GRUmodel.add(Dropout(0.5))\n",
        "GRUmodel.add(layers.Dense(32, activation='relu'))\n",
        "GRUmodel.add(layers.Dense(16, activation='relu'))\n",
        "GRUmodel.add(layers.Dense(6, activation='sigmoid'))\n",
        "GRUmodel.summary()"
      ],
      "metadata": {
        "id": "BqxIKOV1645l",
        "execution": {
          "iopub.status.busy": "2022-07-09T21:43:24.052438Z",
          "iopub.execute_input": "2022-07-09T21:43:24.052851Z",
          "iopub.status.idle": "2022-07-09T21:43:24.403260Z",
          "shell.execute_reply.started": "2022-07-09T21:43:24.052815Z",
          "shell.execute_reply": "2022-07-09T21:43:24.401989Z"
        },
        "trusted": true,
        "colab": {
          "base_uri": "https://localhost:8080/"
        },
        "outputId": "ffff61df-050d-4b55-c59b-03b5dd857807"
      },
      "execution_count": 87,
      "outputs": [
        {
          "output_type": "stream",
          "name": "stdout",
          "text": [
            "Model: \"sequential_6\"\n",
            "_________________________________________________________________\n",
            " Layer (type)                Output Shape              Param #   \n",
            "=================================================================\n",
            " embedding_5 (Embedding)     (None, 200, 128)          33608320  \n",
            "                                                                 \n",
            " gru_2 (GRU)                 (None, 64)                37248     \n",
            "                                                                 \n",
            " dropout_3 (Dropout)         (None, 64)                0         \n",
            "                                                                 \n",
            " dense_9 (Dense)             (None, 32)                2080      \n",
            "                                                                 \n",
            " dense_10 (Dense)            (None, 16)                528       \n",
            "                                                                 \n",
            " dense_11 (Dense)            (None, 6)                 102       \n",
            "                                                                 \n",
            "=================================================================\n",
            "Total params: 33,648,278\n",
            "Trainable params: 33,648,278\n",
            "Non-trainable params: 0\n",
            "_________________________________________________________________\n"
          ]
        }
      ]
    },
    {
      "cell_type": "code",
      "source": [
        "# try using different optimizers and different optimizer configs\n",
        "GRUmodel.compile(loss='binary_crossentropy',\n",
        "              optimizer='adam',\n",
        "              metrics=['accuracy'])"
      ],
      "metadata": {
        "id": "rEU2xA3r_9Lm",
        "execution": {
          "iopub.status.busy": "2022-07-09T21:43:28.022229Z",
          "iopub.execute_input": "2022-07-09T21:43:28.022637Z",
          "iopub.status.idle": "2022-07-09T21:43:28.034281Z",
          "shell.execute_reply.started": "2022-07-09T21:43:28.022602Z",
          "shell.execute_reply": "2022-07-09T21:43:28.032848Z"
        },
        "trusted": true
      },
      "execution_count": 88,
      "outputs": []
    },
    {
      "cell_type": "code",
      "source": [
        "history = GRUmodel.fit(x_train,\n",
        "                    y_train,\n",
        "                    epochs=10,\n",
        "                    batch_size=512,\n",
        "                    validation_data=(x_val, y_val))"
      ],
      "metadata": {
        "id": "Di_wi0cq_9Vj",
        "execution": {
          "iopub.status.busy": "2022-07-09T21:43:29.726151Z",
          "iopub.execute_input": "2022-07-09T21:43:29.726516Z",
          "iopub.status.idle": "2022-07-09T21:44:14.399053Z",
          "shell.execute_reply.started": "2022-07-09T21:43:29.726487Z",
          "shell.execute_reply": "2022-07-09T21:44:14.397180Z"
        },
        "trusted": true,
        "colab": {
          "base_uri": "https://localhost:8080/"
        },
        "outputId": "50931d63-24fd-49de-da2f-e55a0f0e8e83"
      },
      "execution_count": 89,
      "outputs": [
        {
          "output_type": "stream",
          "name": "stdout",
          "text": [
            "Epoch 1/10\n",
            "250/250 [==============================] - 12s 41ms/step - loss: 0.1990 - accuracy: 0.9281 - val_loss: 0.1412 - val_accuracy: 0.9938\n",
            "Epoch 2/10\n",
            "250/250 [==============================] - 10s 40ms/step - loss: 0.1428 - accuracy: 0.9861 - val_loss: 0.1408 - val_accuracy: 0.9936\n",
            "Epoch 3/10\n",
            "250/250 [==============================] - 10s 40ms/step - loss: 0.1420 - accuracy: 0.9936 - val_loss: 0.1407 - val_accuracy: 0.9941\n",
            "Epoch 4/10\n",
            "250/250 [==============================] - 10s 40ms/step - loss: 0.0979 - accuracy: 0.9940 - val_loss: 0.0604 - val_accuracy: 0.9941\n",
            "Epoch 5/10\n",
            "250/250 [==============================] - 10s 40ms/step - loss: 0.0541 - accuracy: 0.9942 - val_loss: 0.0517 - val_accuracy: 0.9941\n",
            "Epoch 6/10\n",
            "250/250 [==============================] - 10s 40ms/step - loss: 0.0428 - accuracy: 0.9942 - val_loss: 0.0521 - val_accuracy: 0.9941\n",
            "Epoch 7/10\n",
            "250/250 [==============================] - 10s 39ms/step - loss: 0.0368 - accuracy: 0.9942 - val_loss: 0.0556 - val_accuracy: 0.9941\n",
            "Epoch 8/10\n",
            "250/250 [==============================] - 10s 39ms/step - loss: 0.0330 - accuracy: 0.9942 - val_loss: 0.0599 - val_accuracy: 0.9941\n",
            "Epoch 9/10\n",
            "250/250 [==============================] - 10s 39ms/step - loss: 0.0307 - accuracy: 0.9942 - val_loss: 0.0629 - val_accuracy: 0.9941\n",
            "Epoch 10/10\n",
            "250/250 [==============================] - 10s 40ms/step - loss: 0.0291 - accuracy: 0.9932 - val_loss: 0.0627 - val_accuracy: 0.9859\n"
          ]
        }
      ]
    },
    {
      "cell_type": "code",
      "source": [
        "loss = history.history['loss']\n",
        "val_loss = history.history['val_loss']\n",
        "\n",
        "epochs = range(1, len(loss) + 1)\n",
        "\n",
        "plt.plot(epochs, loss, 'bo', label='Training loss')\n",
        "plt.plot(epochs, val_loss, 'b', label='Validation loss')\n",
        "plt.title('Training and validation loss')\n",
        "plt.xlabel('Epochs')\n",
        "plt.ylabel('Loss')\n",
        "plt.legend()\n",
        "\n",
        "plt.show()"
      ],
      "metadata": {
        "id": "N0ruYZMIAAeF",
        "execution": {
          "iopub.status.busy": "2022-07-09T21:43:10.013499Z",
          "iopub.status.idle": "2022-07-09T21:43:10.013997Z",
          "shell.execute_reply.started": "2022-07-09T21:43:10.013709Z",
          "shell.execute_reply": "2022-07-09T21:43:10.013728Z"
        },
        "trusted": true,
        "colab": {
          "base_uri": "https://localhost:8080/",
          "height": 295
        },
        "outputId": "ccfe9b6d-96b9-4c0f-c0d3-8c8f8f8b31dd"
      },
      "execution_count": 90,
      "outputs": [
        {
          "output_type": "display_data",
          "data": {
            "text/plain": [
              "<Figure size 432x288 with 1 Axes>"
            ],
            "image/png": "[encoded data removed]"
          },
          "metadata": {
            "needs_background": "light"
          }
        }
      ]
    },
    {
      "cell_type": "code",
      "source": [
        "plt.clf()\n",
        "\n",
        "acc = history.history['accuracy']\n",
        "val_acc = history.history['val_accuracy']\n",
        "\n",
        "plt.plot(epochs, acc, 'bo', label='Training acc')\n",
        "plt.plot(epochs, val_acc, 'b', label='Validation acc')\n",
        "plt.title('Training and validation accuracy')\n",
        "plt.xlabel('Epochs')\n",
        "plt.ylabel('Accuracy')\n",
        "plt.legend()\n",
        "\n",
        "plt.show()"
      ],
      "metadata": {
        "id": "P_WRZJW4AwRE",
        "execution": {
          "iopub.status.busy": "2022-07-09T21:43:10.015503Z",
          "iopub.status.idle": "2022-07-09T21:43:10.015885Z",
          "shell.execute_reply.started": "2022-07-09T21:43:10.015700Z",
          "shell.execute_reply": "2022-07-09T21:43:10.015718Z"
        },
        "trusted": true,
        "colab": {
          "base_uri": "https://localhost:8080/",
          "height": 295
        },
        "outputId": "8fd7752a-b88c-44c6-abb6-8872b2eb8aa0"
      },
      "execution_count": 91,
      "outputs": [
        {
          "output_type": "display_data",
          "data": {
            "text/plain": [
              "<Figure size 432x288 with 1 Axes>"
            ],
            "image/png": "[encoded data removed]"
          },
          "metadata": {
            "needs_background": "light"
          }
        }
      ]
    },
    {
      "cell_type": "code",
      "source": [
        "preds = pd.DataFrame(GRUmodel.predict(x_test), index=test.index, columns=target_cols)"
      ],
      "metadata": {
        "id": "T55oGHZyEa8x",
        "execution": {
          "iopub.status.busy": "2022-07-09T21:43:10.018295Z",
          "iopub.status.idle": "2022-07-09T21:43:10.018781Z",
          "shell.execute_reply.started": "2022-07-09T21:43:10.018516Z",
          "shell.execute_reply": "2022-07-09T21:43:10.018535Z"
        },
        "trusted": true
      },
      "execution_count": 92,
      "outputs": []
    },
    {
      "cell_type": "code",
      "source": [
        "preds.to_csv('GRU_submission.csv')"
      ],
      "metadata": {
        "id": "0fAbzN4BEuo1",
        "execution": {
          "iopub.status.busy": "2022-07-09T21:43:10.020766Z",
          "iopub.status.idle": "2022-07-09T21:43:10.021238Z",
          "shell.execute_reply.started": "2022-07-09T21:43:10.021011Z",
          "shell.execute_reply": "2022-07-09T21:43:10.021030Z"
        },
        "trusted": true
      },
      "execution_count": 93,
      "outputs": []
    },
    {
      "cell_type": "code",
      "source": [
        "preds"
      ],
      "metadata": {
        "id": "lJxWk3oJGArl",
        "execution": {
          "iopub.status.busy": "2022-07-09T21:43:10.023440Z",
          "iopub.status.idle": "2022-07-09T21:43:10.023846Z",
          "shell.execute_reply.started": "2022-07-09T21:43:10.023656Z",
          "shell.execute_reply": "2022-07-09T21:43:10.023674Z"
        },
        "trusted": true,
        "colab": {
          "base_uri": "https://localhost:8080/",
          "height": 455
        },
        "outputId": "a8bb25c8-2a0f-4a98-de47-aa0b2e5887ca"
      },
      "execution_count": 94,
      "outputs": [
        {
          "output_type": "execute_result",
          "data": {
            "text/plain": [
              "                     toxic  severe_toxic   obscene    threat    insult  \\\n",
              "id                                                                       \n",
              "00001cee341fdb12  0.991095  1.375292e-01  0.975640  0.049853  0.826647   \n",
              "0000247867823ef7  0.000476  1.647007e-09  0.000005  0.000039  0.000016   \n",
              "00013b17ad220c46  0.004799  3.675682e-07  0.000165  0.000497  0.000334   \n",
              "00017563c3f7919a  0.000180  1.838669e-10  0.000001  0.000014  0.000005   \n",
              "00017695ad8997eb  0.000209  2.493262e-10  0.000001  0.000016  0.000005   \n",
              "...                    ...           ...       ...       ...       ...   \n",
              "fffcd0960ee309b5  0.681581  8.019430e-04  0.050860  0.011767  0.091059   \n",
              "fffd7a9a6eb32c16  0.000436  1.355546e-09  0.000004  0.000036  0.000014   \n",
              "fffda9e8d6fafa9e  0.000199  2.357756e-10  0.000001  0.000015  0.000005   \n",
              "fffe8f1340a79fc2  0.000582  2.594370e-09  0.000007  0.000049  0.000020   \n",
              "ffffce3fb183ee80  0.975364  3.633094e-02  0.871167  0.030689  0.671005   \n",
              "\n",
              "                  identity_hate  \n",
              "id                               \n",
              "00001cee341fdb12       0.153601  \n",
              "0000247867823ef7       0.000007  \n",
              "00013b17ad220c46       0.000163  \n",
              "00017563c3f7919a       0.000002  \n",
              "00017695ad8997eb       0.000002  \n",
              "...                         ...  \n",
              "fffcd0960ee309b5       0.019907  \n",
              "fffd7a9a6eb32c16       0.000006  \n",
              "fffda9e8d6fafa9e       0.000002  \n",
              "fffe8f1340a79fc2       0.000009  \n",
              "ffffce3fb183ee80       0.100643  \n",
              "\n",
              "[153164 rows x 6 columns]"
            ],
            "text/html": [
              "\n",
              "  <div id=\"df-48a8cd1a-cbcc-496b-899f-e1d8843d49df\">\n",
              "    <div class=\"colab-df-container\">\n",
              "      <div>\n",
              "<style scoped>\n",
              "    .dataframe tbody tr th:only-of-type {\n",
              "        vertical-align: middle;\n",
              "    }\n",
              "\n",
              "    .dataframe tbody tr th {\n",
              "        vertical-align: top;\n",
              "    }\n",
              "\n",
              "    .dataframe thead th {\n",
              "        text-align: right;\n",
              "    }\n",
              "</style>\n",
              "<table border=\"1\" class=\"dataframe\">\n",
              "  <thead>\n",
              "    <tr style=\"text-align: right;\">\n",
              "      <th></th>\n",
              "      <th>toxic</th>\n",
              "      <th>severe_toxic</th>\n",
              "      <th>obscene</th>\n",
              "      <th>threat</th>\n",
              "      <th>insult</th>\n",
              "      <th>identity_hate</th>\n",
              "    </tr>\n",
              "    <tr>\n",
              "      <th>id</th>\n",
              "      <th></th>\n",
              "      <th></th>\n",
              "      <th></th>\n",
              "      <th></th>\n",
              "      <th></th>\n",
              "      <th></th>\n",
              "    </tr>\n",
              "  </thead>\n",
              "  <tbody>\n",
              "    <tr>\n",
              "      <th>00001cee341fdb12</th>\n",
              "      <td>0.991095</td>\n",
              "      <td>1.375292e-01</td>\n",
              "      <td>0.975640</td>\n",
              "      <td>0.049853</td>\n",
              "      <td>0.826647</td>\n",
              "      <td>0.153601</td>\n",
              "    </tr>\n",
              "    <tr>\n",
              "      <th>0000247867823ef7</th>\n",
              "      <td>0.000476</td>\n",
              "      <td>1.647007e-09</td>\n",
              "      <td>0.000005</td>\n",
              "      <td>0.000039</td>\n",
              "      <td>0.000016</td>\n",
              "      <td>0.000007</td>\n",
              "    </tr>\n",
              "    <tr>\n",
              "      <th>00013b17ad220c46</th>\n",
              "      <td>0.004799</td>\n",
              "      <td>3.675682e-07</td>\n",
              "      <td>0.000165</td>\n",
              "      <td>0.000497</td>\n",
              "      <td>0.000334</td>\n",
              "      <td>0.000163</td>\n",
              "    </tr>\n",
              "    <tr>\n",
              "      <th>00017563c3f7919a</th>\n",
              "      <td>0.000180</td>\n",
              "      <td>1.838669e-10</td>\n",
              "      <td>0.000001</td>\n",
              "      <td>0.000014</td>\n",
              "      <td>0.000005</td>\n",
              "      <td>0.000002</td>\n",
              "    </tr>\n",
              "    <tr>\n",
              "      <th>00017695ad8997eb</th>\n",
              "      <td>0.000209</td>\n",
              "      <td>2.493262e-10</td>\n",
              "      <td>0.000001</td>\n",
              "      <td>0.000016</td>\n",
              "      <td>0.000005</td>\n",
              "      <td>0.000002</td>\n",
              "    </tr>\n",
              "    <tr>\n",
              "      <th>...</th>\n",
              "      <td>...</td>\n",
              "      <td>...</td>\n",
              "      <td>...</td>\n",
              "      <td>...</td>\n",
              "      <td>...</td>\n",
              "      <td>...</td>\n",
              "    </tr>\n",
              "    <tr>\n",
              "      <th>fffcd0960ee309b5</th>\n",
              "      <td>0.681581</td>\n",
              "      <td>8.019430e-04</td>\n",
              "      <td>0.050860</td>\n",
              "      <td>0.011767</td>\n",
              "      <td>0.091059</td>\n",
              "      <td>0.019907</td>\n",
              "    </tr>\n",
              "    <tr>\n",
              "      <th>fffd7a9a6eb32c16</th>\n",
              "      <td>0.000436</td>\n",
              "      <td>1.355546e-09</td>\n",
              "      <td>0.000004</td>\n",
              "      <td>0.000036</td>\n",
              "      <td>0.000014</td>\n",
              "      <td>0.000006</td>\n",
              "    </tr>\n",
              "    <tr>\n",
              "      <th>fffda9e8d6fafa9e</th>\n",
              "      <td>0.000199</td>\n",
              "      <td>2.357756e-10</td>\n",
              "      <td>0.000001</td>\n",
              "      <td>0.000015</td>\n",
              "      <td>0.000005</td>\n",
              "      <td>0.000002</td>\n",
              "    </tr>\n",
              "    <tr>\n",
              "      <th>fffe8f1340a79fc2</th>\n",
              "      <td>0.000582</td>\n",
              "      <td>2.594370e-09</td>\n",
              "      <td>0.000007</td>\n",
              "      <td>0.000049</td>\n",
              "      <td>0.000020</td>\n",
              "      <td>0.000009</td>\n",
              "    </tr>\n",
              "    <tr>\n",
              "      <th>ffffce3fb183ee80</th>\n",
              "      <td>0.975364</td>\n",
              "      <td>3.633094e-02</td>\n",
              "      <td>0.871167</td>\n",
              "      <td>0.030689</td>\n",
              "      <td>0.671005</td>\n",
              "      <td>0.100643</td>\n",
              "    </tr>\n",
              "  </tbody>\n",
              "</table>\n",
              "<p>153164 rows × 6 columns</p>\n",
              "</div>\n",
              "      <button class=\"colab-df-convert\" onclick=\"convertToInteractive('df-48a8cd1a-cbcc-496b-899f-e1d8843d49df')\"\n",
              "              title=\"Convert this dataframe to an interactive table.\"\n",
              "              style=\"display:none;\">\n",
              "        \n",
              "  <svg xmlns=\"http://www.w3.org/2000/svg\" height=\"24px\"viewBox=\"0 0 24 24\"\n",
              "       width=\"24px\">\n",
              "    <path d=\"M0 0h24v24H0V0z\" fill=\"none\"/>\n",
              "    <path d=\"M18.56 5.44l.94 2.06.94-2.06 2.06-.94-2.06-.94-.94-2.06-.94 2.06-2.06.94zm-11 1L8.5 8.5l.94-2.06 2.06-.94-2.06-.94L8.5 2.5l-.94 2.06-2.06.94zm10 10l.94 2.06.94-2.06 2.06-.94-2.06-.94-.94-2.06-.94 2.06-2.06.94z\"/><path d=\"M17.41 7.96l-1.37-1.37c-.4-.4-.92-.59-1.43-.59-.52 0-1.04.2-1.43.59L10.3 9.45l-7.72 7.72c-.78.78-.78 2.05 0 2.83L4 21.41c.39.39.9.59 1.41.59.51 0 1.02-.2 1.41-.59l7.78-7.78 2.81-2.81c.8-.78.8-2.07 0-2.86zM5.41 20L4 18.59l7.72-7.72 1.47 1.35L5.41 20z\"/>\n",
              "  </svg>\n",
              "      </button>\n",
              "      \n",
              "  <style>\n",
              "    .colab-df-container {\n",
              "      display:flex;\n",
              "      flex-wrap:wrap;\n",
              "      gap: 12px;\n",
              "    }\n",
              "\n",
              "    .colab-df-convert {\n",
              "      background-color: #E8F0FE;\n",
              "      border: none;\n",
              "      border-radius: 50%;\n",
              "      cursor: pointer;\n",
              "      display: none;\n",
              "      fill: #1967D2;\n",
              "      height: 32px;\n",
              "      padding: 0 0 0 0;\n",
              "      width: 32px;\n",
              "    }\n",
              "\n",
              "    .colab-df-convert:hover {\n",
              "      background-color: #E2EBFA;\n",
              "      box-shadow: 0px 1px 2px rgba(60, 64, 67, 0.3), 0px 1px 3px 1px rgba(60, 64, 67, 0.15);\n",
              "      fill: #174EA6;\n",
              "    }\n",
              "\n",
              "    [theme=dark] .colab-df-convert {\n",
              "      background-color: #3B4455;\n",
              "      fill: #D2E3FC;\n",
              "    }\n",
              "\n",
              "    [theme=dark] .colab-df-convert:hover {\n",
              "      background-color: #434B5C;\n",
              "      box-shadow: 0px 1px 3px 1px rgba(0, 0, 0, 0.15);\n",
              "      filter: drop-shadow(0px 1px 2px rgba(0, 0, 0, 0.3));\n",
              "      fill: #FFFFFF;\n",
              "    }\n",
              "  </style>\n",
              "\n",
              "      <script>\n",
              "        const buttonEl =\n",
              "          document.querySelector('#df-48a8cd1a-cbcc-496b-899f-e1d8843d49df button.colab-df-convert');\n",
              "        buttonEl.style.display =\n",
              "          google.colab.kernel.accessAllowed ? 'block' : 'none';\n",
              "\n",
              "        async function convertToInteractive(key) {\n",
              "          const element = document.querySelector('#df-48a8cd1a-cbcc-496b-899f-e1d8843d49df');\n",
              "          const dataTable =\n",
              "            await google.colab.kernel.invokeFunction('convertToInteractive',\n",
              "                                                     [key], {});\n",
              "          if (!dataTable) return;\n",
              "\n",
              "          const docLinkHtml = 'Like what you see? Visit the ' +\n",
              "            '<a target=\"_blank\" href=https://colab.research.google.com/notebooks/data_table.ipynb>data table notebook</a>'\n",
              "            + ' to learn more about interactive tables.';\n",
              "          element.innerHTML = '';\n",
              "          dataTable['output_type'] = 'display_data';\n",
              "          await google.colab.output.renderOutput(dataTable, element);\n",
              "          const docLink = document.createElement('div');\n",
              "          docLink.innerHTML = docLinkHtml;\n",
              "          element.appendChild(docLink);\n",
              "        }\n",
              "      </script>\n",
              "    </div>\n",
              "  </div>\n",
              "  "
            ]
          },
          "metadata": {},
          "execution_count": 94
        }
      ]
    },
    {
      "cell_type": "markdown",
      "source": [
        "#### **4.2.5 Bi-GRU Model**"
      ],
      "metadata": {
        "id": "7jppjihQCJJu"
      }
    },
    {
      "cell_type": "code",
      "source": [
        "BiGRUmodel = models.Sequential()\n",
        "BiGRUmodel.add(Embedding(vocab_size, 128, input_length=max_length))\n",
        "BiGRUmodel.add(Bidirectional(GRU(75)))\n",
        "BiGRUmodel.add(Dropout(0.2))\n",
        "BiGRUmodel.add(layers.Dense(32, activation='relu'))\n",
        "BiGRUmodel.add(layers.Dense(16, activation='relu'))\n",
        "BiGRUmodel.add(layers.Dense(6, activation='sigmoid'))\n",
        "BiGRUmodel.summary()"
      ],
      "metadata": {
        "id": "vDNo9ao0CWr3",
        "execution": {
          "iopub.status.busy": "2022-07-09T21:43:10.025462Z",
          "iopub.status.idle": "2022-07-09T21:43:10.025870Z",
          "shell.execute_reply.started": "2022-07-09T21:43:10.025659Z",
          "shell.execute_reply": "2022-07-09T21:43:10.025677Z"
        },
        "trusted": true,
        "colab": {
          "base_uri": "https://localhost:8080/"
        },
        "outputId": "44b79a03-ce04-4006-8565-24247263ab65"
      },
      "execution_count": 114,
      "outputs": [
        {
          "output_type": "stream",
          "name": "stdout",
          "text": [
            "Model: \"sequential_14\"\n",
            "_________________________________________________________________\n",
            " Layer (type)                Output Shape              Param #   \n",
            "=================================================================\n",
            " embedding_13 (Embedding)    (None, 200, 128)          33608320  \n",
            "                                                                 \n",
            " bidirectional_6 (Bidirectio  (None, 150)              92250     \n",
            " nal)                                                            \n",
            "                                                                 \n",
            " dropout_6 (Dropout)         (None, 150)               0         \n",
            "                                                                 \n",
            " dense_27 (Dense)            (None, 32)                4832      \n",
            "                                                                 \n",
            " dense_28 (Dense)            (None, 16)                528       \n",
            "                                                                 \n",
            " dense_29 (Dense)            (None, 6)                 102       \n",
            "                                                                 \n",
            "=================================================================\n",
            "Total params: 33,706,032\n",
            "Trainable params: 33,706,032\n",
            "Non-trainable params: 0\n",
            "_________________________________________________________________\n"
          ]
        }
      ]
    },
    {
      "cell_type": "code",
      "source": [
        "# try using different optimizers and different optimizer configs\n",
        "BiGRUmodel.compile(loss='binary_crossentropy',\n",
        "              optimizer='adam',\n",
        "              metrics=['accuracy'])"
      ],
      "metadata": {
        "id": "BQW-P3svCNjm",
        "execution": {
          "iopub.status.busy": "2022-07-09T21:43:10.029310Z",
          "iopub.status.idle": "2022-07-09T21:43:10.029910Z",
          "shell.execute_reply.started": "2022-07-09T21:43:10.029679Z",
          "shell.execute_reply": "2022-07-09T21:43:10.029701Z"
        },
        "trusted": true
      },
      "execution_count": 115,
      "outputs": []
    },
    {
      "cell_type": "code",
      "source": [
        "history = BiGRUmodel.fit(x_train,\n",
        "                    y_train,\n",
        "                    epochs=10,\n",
        "                    batch_size=512,\n",
        "                    validation_data=(x_val, y_val))"
      ],
      "metadata": {
        "id": "TAKyaKIeCom-",
        "execution": {
          "iopub.status.busy": "2022-07-09T21:43:10.032389Z",
          "iopub.status.idle": "2022-07-09T21:43:10.032998Z",
          "shell.execute_reply.started": "2022-07-09T21:43:10.032682Z",
          "shell.execute_reply": "2022-07-09T21:43:10.032709Z"
        },
        "trusted": true,
        "colab": {
          "base_uri": "https://localhost:8080/"
        },
        "outputId": "2f1452a3-b4db-4fba-930e-b360fdc7827c"
      },
      "execution_count": 116,
      "outputs": [
        {
          "output_type": "stream",
          "name": "stdout",
          "text": [
            "Epoch 1/10\n",
            "250/250 [==============================] - 21s 71ms/step - loss: 0.1647 - accuracy: 0.6838 - val_loss: 0.0540 - val_accuracy: 0.9901\n",
            "Epoch 2/10\n",
            "250/250 [==============================] - 17s 70ms/step - loss: 0.0494 - accuracy: 0.9836 - val_loss: 0.0505 - val_accuracy: 0.9936\n",
            "Epoch 3/10\n",
            "250/250 [==============================] - 17s 70ms/step - loss: 0.0416 - accuracy: 0.9796 - val_loss: 0.0496 - val_accuracy: 0.9936\n",
            "Epoch 4/10\n",
            "250/250 [==============================] - 17s 69ms/step - loss: 0.0371 - accuracy: 0.9857 - val_loss: 0.0513 - val_accuracy: 0.9935\n",
            "Epoch 5/10\n",
            "250/250 [==============================] - 17s 69ms/step - loss: 0.0334 - accuracy: 0.9782 - val_loss: 0.0547 - val_accuracy: 0.9906\n",
            "Epoch 6/10\n",
            "250/250 [==============================] - 17s 69ms/step - loss: 0.0299 - accuracy: 0.9642 - val_loss: 0.0573 - val_accuracy: 0.9699\n",
            "Epoch 7/10\n",
            "250/250 [==============================] - 17s 70ms/step - loss: 0.0271 - accuracy: 0.9067 - val_loss: 0.0601 - val_accuracy: 0.9867\n",
            "Epoch 8/10\n",
            "250/250 [==============================] - 17s 70ms/step - loss: 0.0244 - accuracy: 0.9253 - val_loss: 0.0649 - val_accuracy: 0.9745\n",
            "Epoch 9/10\n",
            "250/250 [==============================] - 17s 70ms/step - loss: 0.0223 - accuracy: 0.9018 - val_loss: 0.0684 - val_accuracy: 0.9867\n",
            "Epoch 10/10\n",
            "250/250 [==============================] - 17s 70ms/step - loss: 0.0200 - accuracy: 0.9428 - val_loss: 0.0721 - val_accuracy: 0.9163\n"
          ]
        }
      ]
    },
    {
      "cell_type": "code",
      "source": [
        "loss = history.history['loss']\n",
        "val_loss = history.history['val_loss']\n",
        "\n",
        "epochs = range(1, len(loss) + 1)\n",
        "\n",
        "plt.plot(epochs, loss, 'bo', label='Training loss')\n",
        "plt.plot(epochs, val_loss, 'b', label='Validation loss')\n",
        "plt.title('Training and validation loss')\n",
        "plt.xlabel('Epochs')\n",
        "plt.ylabel('Loss')\n",
        "plt.legend()\n",
        "\n",
        "plt.show()"
      ],
      "metadata": {
        "id": "u2frqZRFCvJw",
        "execution": {
          "iopub.status.busy": "2022-07-09T21:43:10.035410Z",
          "iopub.status.idle": "2022-07-09T21:43:10.036653Z",
          "shell.execute_reply.started": "2022-07-09T21:43:10.036081Z",
          "shell.execute_reply": "2022-07-09T21:43:10.036134Z"
        },
        "trusted": true,
        "colab": {
          "base_uri": "https://localhost:8080/",
          "height": 295
        },
        "outputId": "da2b4722-27d0-4fa7-ac57-4e8c5cd92cbc"
      },
      "execution_count": 117,
      "outputs": [
        {
          "output_type": "display_data",
          "data": {
            "text/plain": [
              "<Figure size 432x288 with 1 Axes>"
            ],
            "image/png": "[encoded data removed]"
          },
          "metadata": {
            "needs_background": "light"
          }
        }
      ]
    },
    {
      "cell_type": "code",
      "source": [
        "plt.clf()\n",
        "\n",
        "acc = history.history['accuracy']\n",
        "val_acc = history.history['val_accuracy']\n",
        "\n",
        "plt.plot(epochs, acc, 'bo', label='Training acc')\n",
        "plt.plot(epochs, val_acc, 'b', label='Validation acc')\n",
        "plt.title('Training and validation accuracy')\n",
        "plt.xlabel('Epochs')\n",
        "plt.ylabel('Accuracy')\n",
        "plt.legend()\n",
        "\n",
        "plt.show()"
      ],
      "metadata": {
        "id": "Yx863944C7i9",
        "execution": {
          "iopub.status.busy": "2022-07-09T21:43:10.038299Z",
          "iopub.status.idle": "2022-07-09T21:43:10.039584Z",
          "shell.execute_reply.started": "2022-07-09T21:43:10.039265Z",
          "shell.execute_reply": "2022-07-09T21:43:10.039294Z"
        },
        "trusted": true,
        "colab": {
          "base_uri": "https://localhost:8080/",
          "height": 295
        },
        "outputId": "9dc78699-4bda-42b7-a957-e7869fc806d8"
      },
      "execution_count": 118,
      "outputs": [
        {
          "output_type": "display_data",
          "data": {
            "text/plain": [
              "<Figure size 432x288 with 1 Axes>"
            ],
            "image/png": "[encoded data removed]"
          },
          "metadata": {
            "needs_background": "light"
          }
        }
      ]
    },
    {
      "cell_type": "code",
      "source": [
        "preds = pd.DataFrame(GRUmodel.predict(x_test), index=test.index, columns=target_cols)"
      ],
      "metadata": {
        "id": "BuKZn--Vz3DI"
      },
      "execution_count": 119,
      "outputs": []
    },
    {
      "cell_type": "code",
      "source": [
        "preds"
      ],
      "metadata": {
        "colab": {
          "base_uri": "https://localhost:8080/",
          "height": 455
        },
        "id": "rvrMbVNHz56s",
        "outputId": "ade833f1-ae93-413f-e91b-6324dc0504ac"
      },
      "execution_count": 120,
      "outputs": [
        {
          "output_type": "execute_result",
          "data": {
            "text/plain": [
              "                     toxic  severe_toxic   obscene    threat    insult  \\\n",
              "id                                                                       \n",
              "00001cee341fdb12  0.991095  1.375292e-01  0.975640  0.049853  0.826647   \n",
              "0000247867823ef7  0.000476  1.647007e-09  0.000005  0.000039  0.000016   \n",
              "00013b17ad220c46  0.004799  3.675682e-07  0.000165  0.000497  0.000334   \n",
              "00017563c3f7919a  0.000180  1.838669e-10  0.000001  0.000014  0.000005   \n",
              "00017695ad8997eb  0.000209  2.493262e-10  0.000001  0.000016  0.000005   \n",
              "...                    ...           ...       ...       ...       ...   \n",
              "fffcd0960ee309b5  0.681581  8.019430e-04  0.050860  0.011767  0.091059   \n",
              "fffd7a9a6eb32c16  0.000436  1.355546e-09  0.000004  0.000036  0.000014   \n",
              "fffda9e8d6fafa9e  0.000199  2.357756e-10  0.000001  0.000015  0.000005   \n",
              "fffe8f1340a79fc2  0.000582  2.594370e-09  0.000007  0.000049  0.000020   \n",
              "ffffce3fb183ee80  0.975364  3.633094e-02  0.871167  0.030689  0.671005   \n",
              "\n",
              "                  identity_hate  \n",
              "id                               \n",
              "00001cee341fdb12       0.153601  \n",
              "0000247867823ef7       0.000007  \n",
              "00013b17ad220c46       0.000163  \n",
              "00017563c3f7919a       0.000002  \n",
              "00017695ad8997eb       0.000002  \n",
              "...                         ...  \n",
              "fffcd0960ee309b5       0.019907  \n",
              "fffd7a9a6eb32c16       0.000006  \n",
              "fffda9e8d6fafa9e       0.000002  \n",
              "fffe8f1340a79fc2       0.000009  \n",
              "ffffce3fb183ee80       0.100643  \n",
              "\n",
              "[153164 rows x 6 columns]"
            ],
            "text/html": [
              "\n",
              "  <div id=\"df-b798f45c-da1c-4b7d-92be-416198291c7b\">\n",
              "    <div class=\"colab-df-container\">\n",
              "      <div>\n",
              "<style scoped>\n",
              "    .dataframe tbody tr th:only-of-type {\n",
              "        vertical-align: middle;\n",
              "    }\n",
              "\n",
              "    .dataframe tbody tr th {\n",
              "        vertical-align: top;\n",
              "    }\n",
              "\n",
              "    .dataframe thead th {\n",
              "        text-align: right;\n",
              "    }\n",
              "</style>\n",
              "<table border=\"1\" class=\"dataframe\">\n",
              "  <thead>\n",
              "    <tr style=\"text-align: right;\">\n",
              "      <th></th>\n",
              "      <th>toxic</th>\n",
              "      <th>severe_toxic</th>\n",
              "      <th>obscene</th>\n",
              "      <th>threat</th>\n",
              "      <th>insult</th>\n",
              "      <th>identity_hate</th>\n",
              "    </tr>\n",
              "    <tr>\n",
              "      <th>id</th>\n",
              "      <th></th>\n",
              "      <th></th>\n",
              "      <th></th>\n",
              "      <th></th>\n",
              "      <th></th>\n",
              "      <th></th>\n",
              "    </tr>\n",
              "  </thead>\n",
              "  <tbody>\n",
              "    <tr>\n",
              "      <th>00001cee341fdb12</th>\n",
              "      <td>0.991095</td>\n",
              "      <td>1.375292e-01</td>\n",
              "      <td>0.975640</td>\n",
              "      <td>0.049853</td>\n",
              "      <td>0.826647</td>\n",
              "      <td>0.153601</td>\n",
              "    </tr>\n",
              "    <tr>\n",
              "      <th>0000247867823ef7</th>\n",
              "      <td>0.000476</td>\n",
              "      <td>1.647007e-09</td>\n",
              "      <td>0.000005</td>\n",
              "      <td>0.000039</td>\n",
              "      <td>0.000016</td>\n",
              "      <td>0.000007</td>\n",
              "    </tr>\n",
              "    <tr>\n",
              "      <th>00013b17ad220c46</th>\n",
              "      <td>0.004799</td>\n",
              "      <td>3.675682e-07</td>\n",
              "      <td>0.000165</td>\n",
              "      <td>0.000497</td>\n",
              "      <td>0.000334</td>\n",
              "      <td>0.000163</td>\n",
              "    </tr>\n",
              "    <tr>\n",
              "      <th>00017563c3f7919a</th>\n",
              "      <td>0.000180</td>\n",
              "      <td>1.838669e-10</td>\n",
              "      <td>0.000001</td>\n",
              "      <td>0.000014</td>\n",
              "      <td>0.000005</td>\n",
              "      <td>0.000002</td>\n",
              "    </tr>\n",
              "    <tr>\n",
              "      <th>00017695ad8997eb</th>\n",
              "      <td>0.000209</td>\n",
              "      <td>2.493262e-10</td>\n",
              "      <td>0.000001</td>\n",
              "      <td>0.000016</td>\n",
              "      <td>0.000005</td>\n",
              "      <td>0.000002</td>\n",
              "    </tr>\n",
              "    <tr>\n",
              "      <th>...</th>\n",
              "      <td>...</td>\n",
              "      <td>...</td>\n",
              "      <td>...</td>\n",
              "      <td>...</td>\n",
              "      <td>...</td>\n",
              "      <td>...</td>\n",
              "    </tr>\n",
              "    <tr>\n",
              "      <th>fffcd0960ee309b5</th>\n",
              "      <td>0.681581</td>\n",
              "      <td>8.019430e-04</td>\n",
              "      <td>0.050860</td>\n",
              "      <td>0.011767</td>\n",
              "      <td>0.091059</td>\n",
              "      <td>0.019907</td>\n",
              "    </tr>\n",
              "    <tr>\n",
              "      <th>fffd7a9a6eb32c16</th>\n",
              "      <td>0.000436</td>\n",
              "      <td>1.355546e-09</td>\n",
              "      <td>0.000004</td>\n",
              "      <td>0.000036</td>\n",
              "      <td>0.000014</td>\n",
              "      <td>0.000006</td>\n",
              "    </tr>\n",
              "    <tr>\n",
              "      <th>fffda9e8d6fafa9e</th>\n",
              "      <td>0.000199</td>\n",
              "      <td>2.357756e-10</td>\n",
              "      <td>0.000001</td>\n",
              "      <td>0.000015</td>\n",
              "      <td>0.000005</td>\n",
              "      <td>0.000002</td>\n",
              "    </tr>\n",
              "    <tr>\n",
              "      <th>fffe8f1340a79fc2</th>\n",
              "      <td>0.000582</td>\n",
              "      <td>2.594370e-09</td>\n",
              "      <td>0.000007</td>\n",
              "      <td>0.000049</td>\n",
              "      <td>0.000020</td>\n",
              "      <td>0.000009</td>\n",
              "    </tr>\n",
              "    <tr>\n",
              "      <th>ffffce3fb183ee80</th>\n",
              "      <td>0.975364</td>\n",
              "      <td>3.633094e-02</td>\n",
              "      <td>0.871167</td>\n",
              "      <td>0.030689</td>\n",
              "      <td>0.671005</td>\n",
              "      <td>0.100643</td>\n",
              "    </tr>\n",
              "  </tbody>\n",
              "</table>\n",
              "<p>153164 rows × 6 columns</p>\n",
              "</div>\n",
              "      <button class=\"colab-df-convert\" onclick=\"convertToInteractive('df-b798f45c-da1c-4b7d-92be-416198291c7b')\"\n",
              "              title=\"Convert this dataframe to an interactive table.\"\n",
              "              style=\"display:none;\">\n",
              "        \n",
              "  <svg xmlns=\"http://www.w3.org/2000/svg\" height=\"24px\"viewBox=\"0 0 24 24\"\n",
              "       width=\"24px\">\n",
              "    <path d=\"M0 0h24v24H0V0z\" fill=\"none\"/>\n",
              "    <path d=\"M18.56 5.44l.94 2.06.94-2.06 2.06-.94-2.06-.94-.94-2.06-.94 2.06-2.06.94zm-11 1L8.5 8.5l.94-2.06 2.06-.94-2.06-.94L8.5 2.5l-.94 2.06-2.06.94zm10 10l.94 2.06.94-2.06 2.06-.94-2.06-.94-.94-2.06-.94 2.06-2.06.94z\"/><path d=\"M17.41 7.96l-1.37-1.37c-.4-.4-.92-.59-1.43-.59-.52 0-1.04.2-1.43.59L10.3 9.45l-7.72 7.72c-.78.78-.78 2.05 0 2.83L4 21.41c.39.39.9.59 1.41.59.51 0 1.02-.2 1.41-.59l7.78-7.78 2.81-2.81c.8-.78.8-2.07 0-2.86zM5.41 20L4 18.59l7.72-7.72 1.47 1.35L5.41 20z\"/>\n",
              "  </svg>\n",
              "      </button>\n",
              "      \n",
              "  <style>\n",
              "    .colab-df-container {\n",
              "      display:flex;\n",
              "      flex-wrap:wrap;\n",
              "      gap: 12px;\n",
              "    }\n",
              "\n",
              "    .colab-df-convert {\n",
              "      background-color: #E8F0FE;\n",
              "      border: none;\n",
              "      border-radius: 50%;\n",
              "      cursor: pointer;\n",
              "      display: none;\n",
              "      fill: #1967D2;\n",
              "      height: 32px;\n",
              "      padding: 0 0 0 0;\n",
              "      width: 32px;\n",
              "    }\n",
              "\n",
              "    .colab-df-convert:hover {\n",
              "      background-color: #E2EBFA;\n",
              "      box-shadow: 0px 1px 2px rgba(60, 64, 67, 0.3), 0px 1px 3px 1px rgba(60, 64, 67, 0.15);\n",
              "      fill: #174EA6;\n",
              "    }\n",
              "\n",
              "    [theme=dark] .colab-df-convert {\n",
              "      background-color: #3B4455;\n",
              "      fill: #D2E3FC;\n",
              "    }\n",
              "\n",
              "    [theme=dark] .colab-df-convert:hover {\n",
              "      background-color: #434B5C;\n",
              "      box-shadow: 0px 1px 3px 1px rgba(0, 0, 0, 0.15);\n",
              "      filter: drop-shadow(0px 1px 2px rgba(0, 0, 0, 0.3));\n",
              "      fill: #FFFFFF;\n",
              "    }\n",
              "  </style>\n",
              "\n",
              "      <script>\n",
              "        const buttonEl =\n",
              "          document.querySelector('#df-b798f45c-da1c-4b7d-92be-416198291c7b button.colab-df-convert');\n",
              "        buttonEl.style.display =\n",
              "          google.colab.kernel.accessAllowed ? 'block' : 'none';\n",
              "\n",
              "        async function convertToInteractive(key) {\n",
              "          const element = document.querySelector('#df-b798f45c-da1c-4b7d-92be-416198291c7b');\n",
              "          const dataTable =\n",
              "            await google.colab.kernel.invokeFunction('convertToInteractive',\n",
              "                                                     [key], {});\n",
              "          if (!dataTable) return;\n",
              "\n",
              "          const docLinkHtml = 'Like what you see? Visit the ' +\n",
              "            '<a target=\"_blank\" href=https://colab.research.google.com/notebooks/data_table.ipynb>data table notebook</a>'\n",
              "            + ' to learn more about interactive tables.';\n",
              "          element.innerHTML = '';\n",
              "          dataTable['output_type'] = 'display_data';\n",
              "          await google.colab.output.renderOutput(dataTable, element);\n",
              "          const docLink = document.createElement('div');\n",
              "          docLink.innerHTML = docLinkHtml;\n",
              "          element.appendChild(docLink);\n",
              "        }\n",
              "      </script>\n",
              "    </div>\n",
              "  </div>\n",
              "  "
            ]
          },
          "metadata": {},
          "execution_count": 120
        }
      ]
    },
    {
      "cell_type": "code",
      "source": [
        ""
      ],
      "metadata": {
        "id": "VbuZ3HmX0h3p"
      },
      "execution_count": null,
      "outputs": []
    }
  ]
}