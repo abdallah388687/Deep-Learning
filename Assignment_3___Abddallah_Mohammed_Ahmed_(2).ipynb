{
  "cells": [
    {
      "cell_type": "markdown",
      "metadata": {
        "id": "view-in-github",
        "colab_type": "text"
      },
      "source": [
        "<a href=\"https://colab.research.google.com/github/abdallah388687/Deep-Learning/blob/main/Assignment_3___Abddallah_Mohammed_Ahmed_(2).ipynb\" target=\"_parent\"><img src=\"https://colab.research.google.com/assets/colab-badge.svg\" alt=\"Open In Colab\"/></a>"
      ]
    },
    {
      "cell_type": "code",
      "execution_count": null,
      "metadata": {
        "id": "uaziVlHDitGc"
      },
      "outputs": [],
      "source": [
        "from keras.preprocessing.image import ImageDataGenerator\n",
        "from sklearn.model_selection import train_test_split\n",
        "from tensorflow.keras.utils import to_categorical\n",
        "from tensorflow.keras.applications import VGG16\n",
        "from tensorflow.keras.datasets import cifar10\n",
        "from tensorflow.keras import optimizers\n",
        "import matplotlib.pyplot as plt\n",
        "from keras import layers\n",
        "from keras import models\n",
        "import numpy as np"
      ]
    },
    {
      "cell_type": "markdown",
      "metadata": {
        "id": "tQKQlLn-i1Cf"
      },
      "source": [
        "Load cifar10 dataset and check the shape of train and test sets"
      ]
    },
    {
      "cell_type": "code",
      "execution_count": null,
      "metadata": {
        "colab": {
          "base_uri": "https://localhost:8080/"
        },
        "id": "83QcFT7WixzL",
        "outputId": "ca58639a-4ecc-4ab0-cc22-0f4305aaafe6"
      },
      "outputs": [
        {
          "output_type": "stream",
          "name": "stdout",
          "text": [
            "(50000, 32, 32, 3) (50000, 1) (10000, 32, 32, 3) (10000, 1)\n"
          ]
        }
      ],
      "source": [
        "(x_train,y_train),(x_test,y_test) = cifar10.load_data()\n",
        "print(x_train.shape, y_train.shape, x_test.shape, y_test.shape)"
      ]
    },
    {
      "cell_type": "markdown",
      "metadata": {
        "id": "ksrX94TT_D_U"
      },
      "source": [
        "Now we divide the train dataset into train and validation"
      ]
    },
    {
      "cell_type": "code",
      "execution_count": null,
      "metadata": {
        "id": "J2pVRNr-UVJ7"
      },
      "outputs": [],
      "source": [
        "x_train, x_valid, y_train, y_valid = train_test_split(x_train, y_train, test_size=0.2, stratify = y_train, random_state=42)"
      ]
    },
    {
      "cell_type": "code",
      "execution_count": null,
      "metadata": {
        "colab": {
          "base_uri": "https://localhost:8080/"
        },
        "id": "BGOTnEnb-Awk",
        "outputId": "090af486-a3c0-480b-c5a7-63815d4536b1"
      },
      "outputs": [
        {
          "output_type": "stream",
          "name": "stdout",
          "text": [
            "x_Train set shape:  (40000, 32, 32, 3)\n",
            "x_Valid set shape:  (10000, 32, 32, 3)\n",
            "y_Train set shape:  (40000, 1)\n",
            "y_Valid set shape:  (10000, 1)\n"
          ]
        }
      ],
      "source": [
        "print(\"x_Train set shape: \", x_train.shape)\n",
        "print(\"x_Valid set shape: \", x_valid.shape)\n",
        "print(\"y_Train set shape: \", y_train.shape)\n",
        "print(\"y_Valid set shape: \", y_valid.shape)"
      ]
    },
    {
      "cell_type": "code",
      "execution_count": null,
      "metadata": {
        "id": "FguiqKfcNSm8"
      },
      "outputs": [],
      "source": [
        "y_train = to_categorical(y_train)\n",
        "y_valid = to_categorical(y_valid)"
      ]
    },
    {
      "cell_type": "code",
      "execution_count": null,
      "metadata": {
        "id": "anBPzEfkUULF"
      },
      "outputs": [],
      "source": [
        "model = models.Sequential()\n",
        "model.add(layers.Conv2D(32, (3, 3), activation='relu',\n",
        "                        input_shape=(32, 32, 3)))\n",
        "model.add(layers.MaxPooling2D((2, 2)))\n",
        "model.add(layers.Conv2D(64, (3, 3), activation='relu'))\n",
        "model.add(layers.MaxPooling2D((2, 2)))\n",
        "model.add(layers.Conv2D(64, (3, 3), activation='relu'))\n",
        "model.add(layers.MaxPooling2D((2, 2)))\n",
        "\n",
        "model.add(layers.Flatten())\n",
        "model.add(layers.Dense(512, activation='relu'))\n",
        "model.add(layers.Dense(256, activation='relu'))\n",
        "model.add(layers.Dense(128, activation='relu'))\n",
        "model.add(layers.Dense(64, activation='relu'))\n",
        "model.add(layers.Dense(10, activation='softmax'))"
      ]
    },
    {
      "cell_type": "code",
      "execution_count": null,
      "metadata": {
        "id": "FEwMHPFHVK63"
      },
      "outputs": [],
      "source": [
        "model.compile(loss='categorical_crossentropy',\n",
        "              optimizer=optimizers.Adam(learning_rate=1e-3),\n",
        "              metrics=['acc'])"
      ]
    },
    {
      "cell_type": "code",
      "execution_count": null,
      "metadata": {
        "id": "H12DPZFyVRt1"
      },
      "outputs": [],
      "source": [
        "from keras.preprocessing.image import ImageDataGenerator\n",
        "\n",
        "# All images will be rescaled by 1./255\n",
        "train_datagen = ImageDataGenerator(rescale=1./255)\n",
        "valid_datagen = ImageDataGenerator(rescale=1./255)\n",
        "\n",
        "train_datagen.fit(x_train)\n",
        "\n",
        "valid_datagen.fit(x_valid)\n",
        "\n",
        "train_generator = train_datagen.flow(\n",
        "        x = x_train,\n",
        "        y = y_train,\n",
        "        batch_size=128)\n",
        "\n",
        "validation_generator = valid_datagen.flow(x = x_valid, y = y_valid, batch_size=128)"
      ]
    },
    {
      "cell_type": "code",
      "execution_count": null,
      "metadata": {
        "colab": {
          "base_uri": "https://localhost:8080/"
        },
        "id": "vcvhXYhIVcZs",
        "outputId": "4b5f5a17-a72d-415a-ff4f-4b8955c04582"
      },
      "outputs": [
        {
          "output_type": "stream",
          "name": "stdout",
          "text": [
            "Epoch 1/30\n",
            "312/312 [==============================] - 4s 12ms/step - loss: 1.7444 - acc: 0.3411 - val_loss: 1.4819 - val_acc: 0.4493\n",
            "Epoch 2/30\n",
            "312/312 [==============================] - 3s 11ms/step - loss: 1.3688 - acc: 0.4972 - val_loss: 1.2735 - val_acc: 0.5333\n",
            "Epoch 3/30\n",
            "312/312 [==============================] - 3s 11ms/step - loss: 1.2027 - acc: 0.5662 - val_loss: 1.1501 - val_acc: 0.5851\n",
            "Epoch 4/30\n",
            "312/312 [==============================] - 3s 11ms/step - loss: 1.0782 - acc: 0.6137 - val_loss: 1.0766 - val_acc: 0.6195\n",
            "Epoch 5/30\n",
            "312/312 [==============================] - 3s 11ms/step - loss: 0.9742 - acc: 0.6556 - val_loss: 1.0644 - val_acc: 0.6247\n",
            "Epoch 6/30\n",
            "312/312 [==============================] - 4s 13ms/step - loss: 0.8914 - acc: 0.6848 - val_loss: 0.9624 - val_acc: 0.6643\n",
            "Epoch 7/30\n",
            "312/312 [==============================] - 3s 11ms/step - loss: 0.8292 - acc: 0.7075 - val_loss: 0.9758 - val_acc: 0.6559\n",
            "Epoch 8/30\n",
            "312/312 [==============================] - 3s 11ms/step - loss: 0.7695 - acc: 0.7302 - val_loss: 0.9482 - val_acc: 0.6730\n",
            "Epoch 9/30\n",
            "312/312 [==============================] - 3s 11ms/step - loss: 0.7065 - acc: 0.7510 - val_loss: 0.9299 - val_acc: 0.6878\n",
            "Epoch 10/30\n",
            "312/312 [==============================] - 4s 11ms/step - loss: 0.6583 - acc: 0.7693 - val_loss: 0.9195 - val_acc: 0.6871\n",
            "Epoch 11/30\n",
            "312/312 [==============================] - 4s 13ms/step - loss: 0.6155 - acc: 0.7833 - val_loss: 0.9097 - val_acc: 0.6971\n",
            "Epoch 12/30\n",
            "312/312 [==============================] - 3s 11ms/step - loss: 0.5546 - acc: 0.8075 - val_loss: 0.9167 - val_acc: 0.6975\n",
            "Epoch 13/30\n",
            "312/312 [==============================] - 3s 11ms/step - loss: 0.5218 - acc: 0.8166 - val_loss: 0.9816 - val_acc: 0.6944\n",
            "Epoch 14/30\n",
            "312/312 [==============================] - 3s 11ms/step - loss: 0.4915 - acc: 0.8259 - val_loss: 0.9442 - val_acc: 0.7025\n",
            "Epoch 15/30\n",
            "312/312 [==============================] - 3s 11ms/step - loss: 0.4414 - acc: 0.8444 - val_loss: 1.0499 - val_acc: 0.6890\n",
            "Epoch 16/30\n",
            "312/312 [==============================] - 3s 11ms/step - loss: 0.4009 - acc: 0.8573 - val_loss: 1.0295 - val_acc: 0.6918\n",
            "Epoch 17/30\n",
            "312/312 [==============================] - 3s 11ms/step - loss: 0.3549 - acc: 0.8741 - val_loss: 1.1336 - val_acc: 0.6926\n",
            "Epoch 18/30\n",
            "312/312 [==============================] - 3s 11ms/step - loss: 0.3284 - acc: 0.8834 - val_loss: 1.1748 - val_acc: 0.6972\n",
            "Epoch 19/30\n",
            "312/312 [==============================] - 3s 11ms/step - loss: 0.3126 - acc: 0.8902 - val_loss: 1.1989 - val_acc: 0.6921\n",
            "Epoch 20/30\n",
            "312/312 [==============================] - 4s 11ms/step - loss: 0.2736 - acc: 0.9036 - val_loss: 1.2020 - val_acc: 0.6920\n",
            "Epoch 21/30\n",
            "312/312 [==============================] - 4s 11ms/step - loss: 0.2488 - acc: 0.9119 - val_loss: 1.2314 - val_acc: 0.6920\n",
            "Epoch 22/30\n",
            "312/312 [==============================] - 4s 12ms/step - loss: 0.2303 - acc: 0.9193 - val_loss: 1.3333 - val_acc: 0.6859\n",
            "Epoch 23/30\n",
            "312/312 [==============================] - 3s 11ms/step - loss: 0.2045 - acc: 0.9263 - val_loss: 1.3347 - val_acc: 0.6913\n",
            "Epoch 24/30\n",
            "312/312 [==============================] - 3s 11ms/step - loss: 0.1913 - acc: 0.9336 - val_loss: 1.4993 - val_acc: 0.6789\n",
            "Epoch 25/30\n",
            "312/312 [==============================] - 4s 11ms/step - loss: 0.1713 - acc: 0.9393 - val_loss: 1.5287 - val_acc: 0.6872\n",
            "Epoch 26/30\n",
            "312/312 [==============================] - 3s 11ms/step - loss: 0.1580 - acc: 0.9444 - val_loss: 1.5192 - val_acc: 0.6942\n",
            "Epoch 27/30\n",
            "312/312 [==============================] - 3s 11ms/step - loss: 0.1516 - acc: 0.9467 - val_loss: 1.6052 - val_acc: 0.6866\n",
            "Epoch 28/30\n",
            "312/312 [==============================] - 4s 11ms/step - loss: 0.1400 - acc: 0.9511 - val_loss: 1.6090 - val_acc: 0.6861\n",
            "Epoch 29/30\n",
            "312/312 [==============================] - 3s 11ms/step - loss: 0.1331 - acc: 0.9528 - val_loss: 1.6840 - val_acc: 0.6809\n",
            "Epoch 30/30\n",
            "312/312 [==============================] - 3s 11ms/step - loss: 0.1250 - acc: 0.9557 - val_loss: 1.7758 - val_acc: 0.6845\n"
          ]
        }
      ],
      "source": [
        "history = model.fit(\n",
        "      train_generator,\n",
        "      steps_per_epoch= x_train.shape[0] / 128 ,\n",
        "      epochs=30,\n",
        "      validation_data = validation_generator,\n",
        "      validation_steps= x_valid.shape[0] / 128 )"
      ]
    },
    {
      "cell_type": "code",
      "execution_count": null,
      "metadata": {
        "colab": {
          "base_uri": "https://localhost:8080/",
          "height": 545
        },
        "id": "JBL0wzZcjLuX",
        "outputId": "5878a8eb-be83-49d9-c8d1-52d76c3a45c2"
      },
      "outputs": [
        {
          "output_type": "display_data",
          "data": {
            "text/plain": [
              "<Figure size 432x288 with 1 Axes>"
            ],
            "image/png": "[encoded data removed]"
          },
          "metadata": {
            "needs_background": "light"
          }
        },
        {
          "output_type": "display_data",
          "data": {
            "text/plain": [
              "<Figure size 432x288 with 1 Axes>"
            ],
            "image/png": "[encoded data removed]"
          },
          "metadata": {
            "needs_background": "light"
          }
        }
      ],
      "source": [
        "import matplotlib.pyplot as plt\n",
        "\n",
        "acc = history.history['acc']\n",
        "val_acc = history.history['val_acc']\n",
        "loss = history.history['loss']\n",
        "val_loss = history.history['val_loss']\n",
        "\n",
        "epochs = range(len(acc))\n",
        "\n",
        "plt.plot(epochs, acc, 'bo', label='Training acc')\n",
        "plt.plot(epochs, val_acc, 'b', label='Validation acc')\n",
        "plt.title('Training and validation accuracy')\n",
        "plt.legend()\n",
        "\n",
        "plt.figure()\n",
        "\n",
        "plt.plot(epochs, loss, 'bo', label='Training loss')\n",
        "plt.plot(epochs, val_loss, 'b', label='Validation loss')\n",
        "plt.title('Training and validation loss')\n",
        "plt.legend()\n",
        "\n",
        "plt.show()"
      ]
    },
    {
      "cell_type": "markdown",
      "metadata": {
        "id": "hfbiwGrxPkQ8"
      },
      "source": [
        "## With Data Augmentation"
      ]
    },
    {
      "cell_type": "code",
      "execution_count": null,
      "metadata": {
        "id": "C8G-EZ8XgQpz"
      },
      "outputs": [],
      "source": [
        "train_datagen = ImageDataGenerator(\n",
        "    rescale=1./255,\n",
        "    rotation_range=40,\n",
        "    width_shift_range=0.2,\n",
        "    height_shift_range=0.2,\n",
        "    shear_range=0.2,\n",
        "    zoom_range=0.2,\n",
        "    horizontal_flip=True)\n",
        "\n",
        "# Note that the validation data should not be augmented!\n",
        "valid_datagen = ImageDataGenerator(rescale=1./255)\n",
        "\n",
        "train_datagen.fit(x_train)\n",
        "\n",
        "valid_datagen.fit(x_valid)\n",
        "\n",
        "\n",
        "train_generator = train_datagen.flow(\n",
        "        x = x_train,\n",
        "        y = y_train,\n",
        "        batch_size=128)\n",
        "\n",
        "validation_generator = valid_datagen.flow(x = x_valid, y = y_valid, batch_size=128)"
      ]
    },
    {
      "cell_type": "code",
      "execution_count": null,
      "metadata": {
        "id": "w_OVWvDtBuMw"
      },
      "outputs": [],
      "source": [
        "model = models.Sequential()\n",
        "model.add(layers.Conv2D(32, (3, 3), activation='relu',\n",
        "                        input_shape=(32, 32, 3)))\n",
        "model.add(layers.MaxPooling2D((2, 2)))\n",
        "model.add(layers.Conv2D(64, (3, 3), activation='relu'))\n",
        "model.add(layers.MaxPooling2D((2, 2)))\n",
        "model.add(layers.Conv2D(64, (3, 3), activation='relu'))\n",
        "model.add(layers.MaxPooling2D((2, 2)))\n",
        "\n",
        "model.add(layers.Flatten())\n",
        "model.add(layers.Dense(512, activation='relu'))\n",
        "model.add(layers.Dense(256, activation='relu'))\n",
        "model.add(layers.Dense(128, activation='relu'))\n",
        "model.add(layers.Dense(64, activation='relu'))\n",
        "model.add(layers.Dense(10, activation='softmax'))"
      ]
    },
    {
      "cell_type": "code",
      "execution_count": null,
      "metadata": {
        "id": "uK-YO-fQj4QV"
      },
      "outputs": [],
      "source": [
        "model.compile(loss='categorical_crossentropy', optimizer=optimizers.Adam(learning_rate=1e-3), metrics=['acc'])"
      ]
    },
    {
      "cell_type": "code",
      "execution_count": null,
      "metadata": {
        "colab": {
          "base_uri": "https://localhost:8080/"
        },
        "id": "d6EXoKs0jhxJ",
        "outputId": "07ac0536-8794-4386-8f4e-ecf676ffff01"
      },
      "outputs": [
        {
          "output_type": "stream",
          "name": "stdout",
          "text": [
            "Epoch 1/30\n",
            "312/312 [==============================] - 23s 70ms/step - loss: 1.9757 - acc: 0.2535 - val_loss: 1.7615 - val_acc: 0.3405\n",
            "Epoch 2/30\n",
            "312/312 [==============================] - 21s 68ms/step - loss: 1.7330 - acc: 0.3558 - val_loss: 1.5072 - val_acc: 0.4442\n",
            "Epoch 3/30\n",
            "312/312 [==============================] - 21s 69ms/step - loss: 1.6192 - acc: 0.4010 - val_loss: 1.3512 - val_acc: 0.5070\n",
            "Epoch 4/30\n",
            "312/312 [==============================] - 21s 68ms/step - loss: 1.5345 - acc: 0.4401 - val_loss: 1.3176 - val_acc: 0.5238\n",
            "Epoch 5/30\n",
            "312/312 [==============================] - 22s 72ms/step - loss: 1.4713 - acc: 0.4654 - val_loss: 1.2280 - val_acc: 0.5566\n",
            "Epoch 6/30\n",
            "312/312 [==============================] - 21s 68ms/step - loss: 1.4235 - acc: 0.4872 - val_loss: 1.2349 - val_acc: 0.5585\n",
            "Epoch 7/30\n",
            "312/312 [==============================] - 21s 68ms/step - loss: 1.3825 - acc: 0.5034 - val_loss: 1.3488 - val_acc: 0.5328\n",
            "Epoch 8/30\n",
            "312/312 [==============================] - 21s 67ms/step - loss: 1.3554 - acc: 0.5104 - val_loss: 1.1684 - val_acc: 0.5865\n",
            "Epoch 9/30\n",
            "312/312 [==============================] - 21s 67ms/step - loss: 1.3239 - acc: 0.5210 - val_loss: 1.1481 - val_acc: 0.5905\n",
            "Epoch 10/30\n",
            "312/312 [==============================] - 21s 67ms/step - loss: 1.3074 - acc: 0.5332 - val_loss: 1.1502 - val_acc: 0.5855\n",
            "Epoch 11/30\n",
            "312/312 [==============================] - 21s 68ms/step - loss: 1.2811 - acc: 0.5396 - val_loss: 1.1823 - val_acc: 0.5907\n",
            "Epoch 12/30\n",
            "312/312 [==============================] - 21s 67ms/step - loss: 1.2527 - acc: 0.5502 - val_loss: 1.1079 - val_acc: 0.6197\n",
            "Epoch 13/30\n",
            "312/312 [==============================] - 21s 67ms/step - loss: 1.2419 - acc: 0.5554 - val_loss: 1.1202 - val_acc: 0.6052\n",
            "Epoch 14/30\n",
            "312/312 [==============================] - 21s 68ms/step - loss: 1.2321 - acc: 0.5595 - val_loss: 1.0749 - val_acc: 0.6194\n",
            "Epoch 15/30\n",
            "312/312 [==============================] - 22s 71ms/step - loss: 1.2095 - acc: 0.5697 - val_loss: 1.0322 - val_acc: 0.6352\n",
            "Epoch 16/30\n",
            "312/312 [==============================] - 21s 68ms/step - loss: 1.1876 - acc: 0.5764 - val_loss: 1.0223 - val_acc: 0.6332\n",
            "Epoch 17/30\n",
            "312/312 [==============================] - 21s 67ms/step - loss: 1.1762 - acc: 0.5810 - val_loss: 1.0845 - val_acc: 0.6220\n",
            "Epoch 18/30\n",
            "312/312 [==============================] - 21s 68ms/step - loss: 1.1633 - acc: 0.5879 - val_loss: 1.0336 - val_acc: 0.6300\n",
            "Epoch 19/30\n",
            "312/312 [==============================] - 21s 68ms/step - loss: 1.1582 - acc: 0.5899 - val_loss: 1.0900 - val_acc: 0.6210\n",
            "Epoch 20/30\n",
            "312/312 [==============================] - 21s 67ms/step - loss: 1.1360 - acc: 0.5946 - val_loss: 1.0048 - val_acc: 0.6488\n",
            "Epoch 21/30\n",
            "312/312 [==============================] - 21s 67ms/step - loss: 1.1306 - acc: 0.5975 - val_loss: 0.9843 - val_acc: 0.6622\n",
            "Epoch 22/30\n",
            "312/312 [==============================] - 21s 68ms/step - loss: 1.1174 - acc: 0.6051 - val_loss: 0.9416 - val_acc: 0.6697\n",
            "Epoch 23/30\n",
            "312/312 [==============================] - 21s 67ms/step - loss: 1.1092 - acc: 0.6068 - val_loss: 0.9830 - val_acc: 0.6596\n",
            "Epoch 24/30\n",
            "312/312 [==============================] - 21s 67ms/step - loss: 1.1021 - acc: 0.6084 - val_loss: 0.9722 - val_acc: 0.6579\n",
            "Epoch 25/30\n",
            "312/312 [==============================] - 22s 69ms/step - loss: 1.0933 - acc: 0.6109 - val_loss: 0.9494 - val_acc: 0.6669\n",
            "Epoch 26/30\n",
            "312/312 [==============================] - 21s 67ms/step - loss: 1.0800 - acc: 0.6167 - val_loss: 0.9331 - val_acc: 0.6713\n",
            "Epoch 27/30\n",
            "312/312 [==============================] - 21s 68ms/step - loss: 1.0698 - acc: 0.6202 - val_loss: 0.9809 - val_acc: 0.6600\n",
            "Epoch 28/30\n",
            "312/312 [==============================] - 21s 66ms/step - loss: 1.0670 - acc: 0.6212 - val_loss: 0.8967 - val_acc: 0.6910\n",
            "Epoch 29/30\n",
            "312/312 [==============================] - 21s 68ms/step - loss: 1.0579 - acc: 0.6274 - val_loss: 0.9151 - val_acc: 0.6818\n",
            "Epoch 30/30\n",
            "312/312 [==============================] - 21s 67ms/step - loss: 1.0500 - acc: 0.6302 - val_loss: 1.0266 - val_acc: 0.6344\n"
          ]
        }
      ],
      "source": [
        "history = model.fit(\n",
        "      train_generator,\n",
        "      steps_per_epoch= x_train.shape[0] / 128,\n",
        "      epochs=30,\n",
        "      validation_data= validation_generator,\n",
        "      validation_steps= x_valid.shape[0] / 128)"
      ]
    },
    {
      "cell_type": "code",
      "execution_count": null,
      "metadata": {
        "colab": {
          "base_uri": "https://localhost:8080/",
          "height": 545
        },
        "id": "Q5f0HwFyhCS1",
        "outputId": "93edd8ab-45d5-4f54-860f-e319b543feb5"
      },
      "outputs": [
        {
          "output_type": "display_data",
          "data": {
            "text/plain": [
              "<Figure size 432x288 with 1 Axes>"
            ],
            "image/png": "[encoded data removed]"
          },
          "metadata": {
            "needs_background": "light"
          }
        },
        {
          "output_type": "display_data",
          "data": {
            "text/plain": [
              "<Figure size 432x288 with 1 Axes>"
            ],
            "image/png": "[encoded data removed]"
          },
          "metadata": {
            "needs_background": "light"
          }
        }
      ],
      "source": [
        "acc = history.history['acc']\n",
        "val_acc = history.history['val_acc']\n",
        "loss = history.history['loss']\n",
        "val_loss = history.history['val_loss']\n",
        "\n",
        "epochs = range(len(acc))\n",
        "\n",
        "plt.plot(epochs, acc, 'bo', label='Training accuracy')\n",
        "plt.plot(epochs, val_acc, 'b', label='Validation accuracy')\n",
        "plt.title('Training and validation accuracy')\n",
        "plt.legend()\n",
        "\n",
        "plt.figure()\n",
        "\n",
        "plt.plot(epochs, loss, 'bo', label='Training loss')\n",
        "plt.plot(epochs, val_loss, 'b', label='Validation loss')\n",
        "plt.title('Training and validation loss')\n",
        "plt.legend()\n",
        "\n",
        "plt.show()"
      ]
    },
    {
      "cell_type": "markdown",
      "metadata": {
        "id": "u7xhBBJDc7C5"
      },
      "source": [
        "## Transfer Learning part"
      ]
    },
    {
      "cell_type": "code",
      "execution_count": null,
      "metadata": {
        "id": "XU0Blfaec_Cr"
      },
      "outputs": [],
      "source": [
        "conv_base = VGG16(weights='imagenet',\n",
        "                  include_top=False,\n",
        "                  input_shape=(32, 32, 3))"
      ]
    },
    {
      "cell_type": "code",
      "execution_count": null,
      "metadata": {
        "colab": {
          "base_uri": "https://localhost:8080/"
        },
        "id": "18ouV6YAdeMe",
        "outputId": "4024bf45-7dea-4349-f512-6855ef72956e"
      },
      "outputs": [
        {
          "output_type": "stream",
          "name": "stdout",
          "text": [
            "Model: \"vgg16\"\n",
            "_________________________________________________________________\n",
            " Layer (type)                Output Shape              Param #   \n",
            "=================================================================\n",
            " input_1 (InputLayer)        [(None, 32, 32, 3)]       0         \n",
            "                                                                 \n",
            " block1_conv1 (Conv2D)       (None, 32, 32, 64)        1792      \n",
            "                                                                 \n",
            " block1_conv2 (Conv2D)       (None, 32, 32, 64)        36928     \n",
            "                                                                 \n",
            " block1_pool (MaxPooling2D)  (None, 16, 16, 64)        0         \n",
            "                                                                 \n",
            " block2_conv1 (Conv2D)       (None, 16, 16, 128)       73856     \n",
            "                                                                 \n",
            " block2_conv2 (Conv2D)       (None, 16, 16, 128)       147584    \n",
            "                                                                 \n",
            " block2_pool (MaxPooling2D)  (None, 8, 8, 128)         0         \n",
            "                                                                 \n",
            " block3_conv1 (Conv2D)       (None, 8, 8, 256)         295168    \n",
            "                                                                 \n",
            " block3_conv2 (Conv2D)       (None, 8, 8, 256)         590080    \n",
            "                                                                 \n",
            " block3_conv3 (Conv2D)       (None, 8, 8, 256)         590080    \n",
            "                                                                 \n",
            " block3_pool (MaxPooling2D)  (None, 4, 4, 256)         0         \n",
            "                                                                 \n",
            " block4_conv1 (Conv2D)       (None, 4, 4, 512)         1180160   \n",
            "                                                                 \n",
            " block4_conv2 (Conv2D)       (None, 4, 4, 512)         2359808   \n",
            "                                                                 \n",
            " block4_conv3 (Conv2D)       (None, 4, 4, 512)         2359808   \n",
            "                                                                 \n",
            " block4_pool (MaxPooling2D)  (None, 2, 2, 512)         0         \n",
            "                                                                 \n",
            " block5_conv1 (Conv2D)       (None, 2, 2, 512)         2359808   \n",
            "                                                                 \n",
            " block5_conv2 (Conv2D)       (None, 2, 2, 512)         2359808   \n",
            "                                                                 \n",
            " block5_conv3 (Conv2D)       (None, 2, 2, 512)         2359808   \n",
            "                                                                 \n",
            " block5_pool (MaxPooling2D)  (None, 1, 1, 512)         0         \n",
            "                                                                 \n",
            "=================================================================\n",
            "Total params: 14,714,688\n",
            "Trainable params: 14,714,688\n",
            "Non-trainable params: 0\n",
            "_________________________________________________________________\n"
          ]
        }
      ],
      "source": [
        "conv_base.summary()"
      ]
    },
    {
      "cell_type": "code",
      "execution_count": null,
      "metadata": {
        "id": "aOYs0dBKdeuU"
      },
      "outputs": [],
      "source": [
        "datagen = ImageDataGenerator(rescale= 1./255)\n",
        "batch_size = 32\n",
        "\n",
        "def extract_features(x, y, sample_count):\n",
        "    features = np.zeros(shape=(sample_count, 1, 1, 512))\n",
        "    labels = np.zeros(shape=(sample_count,10))\n",
        "    generator = datagen.flow(\n",
        "        x = x,\n",
        "        y = y,\n",
        "        batch_size=batch_size)\n",
        "    i = 0\n",
        "    for inputs_batch, labels_batch in generator:\n",
        "        features_batch = conv_base.predict(inputs_batch)\n",
        "        features[i * batch_size : (i + 1) * batch_size] = features_batch\n",
        "        labels[i * batch_size : (i + 1) * batch_size] = labels_batch\n",
        "        i += 1\n",
        "        if i * batch_size >= sample_count:\n",
        "            # Note that since generators yield data indefinitely in a loop,\n",
        "            # we must `break` after every image has been seen once.\n",
        "            break\n",
        "    return features, labels"
      ]
    },
    {
      "cell_type": "code",
      "execution_count": null,
      "metadata": {
        "id": "xpj2M1hDndS4"
      },
      "outputs": [],
      "source": [
        "train_features, train_labels = extract_features(x_train, y_train, 40000)\n",
        "valid_features, valid_labels = extract_features(x_valid, y_valid, 10000)"
      ]
    },
    {
      "cell_type": "code",
      "execution_count": null,
      "metadata": {
        "id": "Jp7KH3WfoFPN"
      },
      "outputs": [],
      "source": [
        "train_features = np.reshape(train_features, (40000, 1 * 1 * 512))\n",
        "valid_features = np.reshape(valid_features, (10000, 1 * 1 * 512))"
      ]
    },
    {
      "cell_type": "code",
      "execution_count": null,
      "metadata": {
        "id": "p-AjAowbqK9B"
      },
      "outputs": [],
      "source": [
        "model = models.Sequential()\n",
        "model.add(layers.Dense(512, activation='relu', input_dim= 1 * 1 * 512))\n",
        "model.add(layers.Dropout(0.5))\n",
        "model.add(layers.Dense(256, activation='relu'))\n",
        "model.add(layers.Dense(128, activation='relu'))\n",
        "model.add(layers.Dense(64, activation='relu'))\n",
        "model.add(layers.Dense(10, activation='softmax'))"
      ]
    },
    {
      "cell_type": "code",
      "execution_count": null,
      "metadata": {
        "colab": {
          "base_uri": "https://localhost:8080/"
        },
        "id": "TsJZumHhZCFE",
        "outputId": "4345c0e7-db65-4b8e-909e-debb017ca027"
      },
      "outputs": [
        {
          "output_type": "stream",
          "name": "stdout",
          "text": [
            "Epoch 1/30\n",
            "2000/2000 [==============================] - 7s 4ms/step - loss: 1.5370 - acc: 0.4529 - val_loss: 1.3093 - val_acc: 0.5454\n",
            "Epoch 2/30\n",
            "2000/2000 [==============================] - 6s 3ms/step - loss: 1.3463 - acc: 0.5294 - val_loss: 1.2345 - val_acc: 0.5755\n",
            "Epoch 3/30\n",
            "2000/2000 [==============================] - 8s 4ms/step - loss: 1.2947 - acc: 0.5459 - val_loss: 1.2185 - val_acc: 0.5779\n",
            "Epoch 4/30\n",
            "2000/2000 [==============================] - 6s 3ms/step - loss: 1.2536 - acc: 0.5641 - val_loss: 1.1843 - val_acc: 0.5914\n",
            "Epoch 5/30\n",
            "2000/2000 [==============================] - 7s 3ms/step - loss: 1.2222 - acc: 0.5735 - val_loss: 1.1850 - val_acc: 0.5911\n",
            "Epoch 6/30\n",
            "2000/2000 [==============================] - 7s 4ms/step - loss: 1.1968 - acc: 0.5810 - val_loss: 1.1710 - val_acc: 0.5999\n",
            "Epoch 7/30\n",
            "2000/2000 [==============================] - 8s 4ms/step - loss: 1.1689 - acc: 0.5914 - val_loss: 1.1798 - val_acc: 0.5945\n",
            "Epoch 8/30\n",
            "2000/2000 [==============================] - 7s 3ms/step - loss: 1.1508 - acc: 0.5987 - val_loss: 1.1477 - val_acc: 0.6025\n",
            "Epoch 9/30\n",
            "2000/2000 [==============================] - 6s 3ms/step - loss: 1.1346 - acc: 0.6039 - val_loss: 1.1499 - val_acc: 0.6089\n",
            "Epoch 10/30\n",
            "2000/2000 [==============================] - 7s 3ms/step - loss: 1.1175 - acc: 0.6074 - val_loss: 1.1413 - val_acc: 0.6036\n",
            "Epoch 11/30\n",
            "2000/2000 [==============================] - 6s 3ms/step - loss: 1.0998 - acc: 0.6154 - val_loss: 1.1276 - val_acc: 0.6146\n",
            "Epoch 12/30\n",
            "2000/2000 [==============================] - 6s 3ms/step - loss: 1.0863 - acc: 0.6181 - val_loss: 1.1160 - val_acc: 0.6178\n",
            "Epoch 13/30\n",
            "2000/2000 [==============================] - 7s 3ms/step - loss: 1.0740 - acc: 0.6270 - val_loss: 1.1353 - val_acc: 0.6103\n",
            "Epoch 14/30\n",
            "2000/2000 [==============================] - 6s 3ms/step - loss: 1.0617 - acc: 0.6288 - val_loss: 1.1185 - val_acc: 0.6157\n",
            "Epoch 15/30\n",
            "2000/2000 [==============================] - 7s 3ms/step - loss: 1.0468 - acc: 0.6324 - val_loss: 1.1226 - val_acc: 0.6168\n",
            "Epoch 16/30\n",
            "2000/2000 [==============================] - 6s 3ms/step - loss: 1.0378 - acc: 0.6358 - val_loss: 1.1317 - val_acc: 0.6123\n",
            "Epoch 17/30\n",
            "2000/2000 [==============================] - 6s 3ms/step - loss: 1.0341 - acc: 0.6359 - val_loss: 1.1248 - val_acc: 0.6120\n",
            "Epoch 18/30\n",
            "2000/2000 [==============================] - 6s 3ms/step - loss: 1.0136 - acc: 0.6442 - val_loss: 1.1208 - val_acc: 0.6115\n",
            "Epoch 19/30\n",
            "2000/2000 [==============================] - 6s 3ms/step - loss: 1.0035 - acc: 0.6470 - val_loss: 1.0986 - val_acc: 0.6206\n",
            "Epoch 20/30\n",
            "2000/2000 [==============================] - 7s 3ms/step - loss: 0.9981 - acc: 0.6486 - val_loss: 1.1205 - val_acc: 0.6193\n",
            "Epoch 21/30\n",
            "2000/2000 [==============================] - 7s 3ms/step - loss: 0.9805 - acc: 0.6547 - val_loss: 1.1024 - val_acc: 0.6214\n",
            "Epoch 22/30\n",
            "2000/2000 [==============================] - 6s 3ms/step - loss: 0.9767 - acc: 0.6552 - val_loss: 1.1114 - val_acc: 0.6203\n",
            "Epoch 23/30\n",
            "2000/2000 [==============================] - 6s 3ms/step - loss: 0.9694 - acc: 0.6573 - val_loss: 1.0916 - val_acc: 0.6242\n",
            "Epoch 24/30\n",
            "2000/2000 [==============================] - 7s 3ms/step - loss: 0.9555 - acc: 0.6620 - val_loss: 1.1064 - val_acc: 0.6247\n",
            "Epoch 25/30\n",
            "2000/2000 [==============================] - 7s 3ms/step - loss: 0.9517 - acc: 0.6633 - val_loss: 1.1138 - val_acc: 0.6196\n",
            "Epoch 26/30\n",
            "2000/2000 [==============================] - 7s 3ms/step - loss: 0.9365 - acc: 0.6683 - val_loss: 1.1049 - val_acc: 0.6268\n",
            "Epoch 27/30\n",
            "2000/2000 [==============================] - 6s 3ms/step - loss: 0.9350 - acc: 0.6705 - val_loss: 1.0954 - val_acc: 0.6245\n",
            "Epoch 28/30\n",
            "2000/2000 [==============================] - 6s 3ms/step - loss: 0.9285 - acc: 0.6708 - val_loss: 1.1016 - val_acc: 0.6277\n",
            "Epoch 29/30\n",
            "2000/2000 [==============================] - 6s 3ms/step - loss: 0.9167 - acc: 0.6731 - val_loss: 1.1099 - val_acc: 0.6274\n",
            "Epoch 30/30\n",
            "2000/2000 [==============================] - 7s 3ms/step - loss: 0.9049 - acc: 0.6800 - val_loss: 1.1001 - val_acc: 0.6300\n"
          ]
        }
      ],
      "source": [
        "model.compile(loss='categorical_crossentropy',\n",
        "              optimizer=optimizers.Adam(learning_rate=1e-3),\n",
        "              metrics=['acc'])\n",
        "\n",
        "history = model.fit(train_features, train_labels,\n",
        "                    epochs=30,\n",
        "                    batch_size=20,\n",
        "                    validation_data=(valid_features, valid_labels))"
      ]
    },
    {
      "cell_type": "code",
      "execution_count": null,
      "metadata": {
        "colab": {
          "base_uri": "https://localhost:8080/",
          "height": 545
        },
        "id": "s2jIXLMCqSEd",
        "outputId": "da056e72-0434-4b8d-cf0c-3b8ba154b541"
      },
      "outputs": [
        {
          "output_type": "display_data",
          "data": {
            "text/plain": [
              "<Figure size 432x288 with 1 Axes>"
            ],
            "image/png": "[encoded data removed]"
          },
          "metadata": {
            "needs_background": "light"
          }
        },
        {
          "output_type": "display_data",
          "data": {
            "text/plain": [
              "<Figure size 432x288 with 1 Axes>"
            ],
            "image/png": "[encoded data removed]"
          },
          "metadata": {
            "needs_background": "light"
          }
        }
      ],
      "source": [
        "acc = history.history['acc']\n",
        "val_acc = history.history['val_acc']\n",
        "loss = history.history['loss']\n",
        "val_loss = history.history['val_loss']\n",
        "\n",
        "epochs = range(len(acc))\n",
        "\n",
        "plt.plot(epochs, acc, 'bo', label='Training acc')\n",
        "plt.plot(epochs, val_acc, 'b', label='Validation acc')\n",
        "plt.title('Training and validation accuracy')\n",
        "plt.legend()\n",
        "\n",
        "plt.figure()\n",
        "\n",
        "plt.plot(epochs, loss, 'bo', label='Training loss')\n",
        "plt.plot(epochs, val_loss, 'b', label='Validation loss')\n",
        "plt.title('Training and validation loss')\n",
        "plt.legend()\n",
        "\n",
        "plt.show()"
      ]
    },
    {
      "cell_type": "code",
      "execution_count": null,
      "metadata": {
        "id": "R0MdDDeLTJz7"
      },
      "outputs": [],
      "source": [
        "model = models.Sequential()\n",
        "model.add(conv_base)\n",
        "model.add(layers.Flatten())\n",
        "model.add(layers.Dense(512, activation='relu', input_dim= 1 * 1 * 512))\n",
        "model.add(layers.Dropout(0.5))\n",
        "model.add(layers.Dense(512, activation='relu'))\n",
        "model.add(layers.Dense(256, activation='relu'))\n",
        "model.add(layers.Dense(128, activation='relu'))\n",
        "model.add(layers.Dense(64, activation='relu'))\n",
        "model.add(layers.Dense(10, activation='softmax'))"
      ]
    },
    {
      "cell_type": "code",
      "execution_count": null,
      "metadata": {
        "colab": {
          "base_uri": "https://localhost:8080/"
        },
        "id": "QdimZB-wWLMf",
        "outputId": "9a5c4611-b5a7-4f92-a55b-134d8de96776"
      },
      "outputs": [
        {
          "output_type": "stream",
          "name": "stdout",
          "text": [
            "Model: \"sequential_5\"\n",
            "_________________________________________________________________\n",
            " Layer (type)                Output Shape              Param #   \n",
            "=================================================================\n",
            " vgg16 (Functional)          (None, 1, 1, 512)         14714688  \n",
            "                                                                 \n",
            " flatten_4 (Flatten)         (None, 512)               0         \n",
            "                                                                 \n",
            " dense_25 (Dense)            (None, 512)               262656    \n",
            "                                                                 \n",
            " dropout_1 (Dropout)         (None, 512)               0         \n",
            "                                                                 \n",
            " dense_26 (Dense)            (None, 512)               262656    \n",
            "                                                                 \n",
            " dense_27 (Dense)            (None, 256)               131328    \n",
            "                                                                 \n",
            " dense_28 (Dense)            (None, 128)               32896     \n",
            "                                                                 \n",
            " dense_29 (Dense)            (None, 64)                8256      \n",
            "                                                                 \n",
            " dense_30 (Dense)            (None, 10)                650       \n",
            "                                                                 \n",
            "=================================================================\n",
            "Total params: 15,413,130\n",
            "Trainable params: 15,413,130\n",
            "Non-trainable params: 0\n",
            "_________________________________________________________________\n"
          ]
        }
      ],
      "source": [
        "model.summary()"
      ]
    },
    {
      "cell_type": "code",
      "execution_count": null,
      "metadata": {
        "colab": {
          "base_uri": "https://localhost:8080/"
        },
        "id": "aL0XtfraWN_J",
        "outputId": "ae08f26c-3947-4e02-e460-140a48822cee"
      },
      "outputs": [
        {
          "output_type": "stream",
          "name": "stdout",
          "text": [
            "This is the number of trainable weights before freezing the conv base: 38\n"
          ]
        }
      ],
      "source": [
        "print('This is the number of trainable weights before freezing the conv base:', len(model.trainable_weights))"
      ]
    },
    {
      "cell_type": "code",
      "execution_count": null,
      "metadata": {
        "id": "IYQIKHzCWsgt"
      },
      "outputs": [],
      "source": [
        "conv_base.trainable = False"
      ]
    },
    {
      "cell_type": "code",
      "execution_count": null,
      "metadata": {
        "colab": {
          "base_uri": "https://localhost:8080/"
        },
        "id": "_BE5vaFRa0Mw",
        "outputId": "d466806e-600c-486f-c052-a87b9779e093"
      },
      "outputs": [
        {
          "output_type": "stream",
          "name": "stdout",
          "text": [
            "This is the number of trainable weights after freezing the conv base: 12\n"
          ]
        }
      ],
      "source": [
        "print('This is the number of trainable weights '\n",
        "      'after freezing the conv base:', len(model.trainable_weights))"
      ]
    },
    {
      "cell_type": "code",
      "execution_count": null,
      "metadata": {
        "id": "1XZ-GpLqa3M9"
      },
      "outputs": [],
      "source": [
        "train_datagen = ImageDataGenerator(\n",
        "      rescale=1./255,\n",
        "      rotation_range=40,\n",
        "      width_shift_range=0.2,\n",
        "      height_shift_range=0.2,\n",
        "      shear_range=0.2,\n",
        "      zoom_range=0.2,\n",
        "      horizontal_flip=True,\n",
        "      fill_mode='nearest')\n",
        "\n",
        "# Note that the validation data should not be augmented!\n",
        "valid_datagen = ImageDataGenerator(rescale=1./255)\n",
        "\n",
        "train_generator = train_datagen.flow(\n",
        "        x= x_train,\n",
        "        y = y_train,\n",
        "        batch_size=32)\n",
        "\n",
        "validation_generator = valid_datagen.flow(\n",
        "        x= x_valid,\n",
        "        y= y_valid,\n",
        "        batch_size=32)\n",
        "\n",
        "model.compile(loss='categorical_crossentropy',\n",
        "              optimizer=optimizers.Adam(learning_rate=1e-3),\n",
        "              metrics=['acc'])"
      ]
    },
    {
      "cell_type": "code",
      "execution_count": null,
      "metadata": {
        "colab": {
          "base_uri": "https://localhost:8080/"
        },
        "id": "da-1utH2cgvL",
        "outputId": "b1db74bc-0be1-44d0-d3d0-fbd68c2465b8"
      },
      "outputs": [
        {
          "output_type": "stream",
          "name": "stdout",
          "text": [
            "Epoch 1/30\n",
            "1250/1250 - 29s - loss: 1.7892 - acc: 0.3521 - val_loss: 1.4665 - val_acc: 0.4763 - 29s/epoch - 23ms/step\n",
            "Epoch 2/30\n",
            "1250/1250 - 28s - loss: 1.6355 - acc: 0.4208 - val_loss: 1.4703 - val_acc: 0.4850 - 28s/epoch - 22ms/step\n",
            "Epoch 3/30\n",
            "1250/1250 - 28s - loss: 1.5876 - acc: 0.4407 - val_loss: 1.3917 - val_acc: 0.5084 - 28s/epoch - 22ms/step\n",
            "Epoch 4/30\n",
            "1250/1250 - 28s - loss: 1.5650 - acc: 0.4478 - val_loss: 1.3759 - val_acc: 0.5113 - 28s/epoch - 22ms/step\n",
            "Epoch 5/30\n",
            "1250/1250 - 27s - loss: 1.5407 - acc: 0.4586 - val_loss: 1.3623 - val_acc: 0.5138 - 27s/epoch - 22ms/step\n",
            "Epoch 6/30\n",
            "1250/1250 - 27s - loss: 1.5334 - acc: 0.4603 - val_loss: 1.3388 - val_acc: 0.5365 - 27s/epoch - 22ms/step\n",
            "Epoch 7/30\n",
            "1250/1250 - 27s - loss: 1.5151 - acc: 0.4670 - val_loss: 1.3057 - val_acc: 0.5469 - 27s/epoch - 22ms/step\n",
            "Epoch 8/30\n",
            "1250/1250 - 27s - loss: 1.5039 - acc: 0.4664 - val_loss: 1.2926 - val_acc: 0.5452 - 27s/epoch - 22ms/step\n",
            "Epoch 9/30\n",
            "1250/1250 - 27s - loss: 1.4954 - acc: 0.4728 - val_loss: 1.3233 - val_acc: 0.5303 - 27s/epoch - 22ms/step\n",
            "Epoch 10/30\n",
            "1250/1250 - 28s - loss: 1.4912 - acc: 0.4775 - val_loss: 1.2967 - val_acc: 0.5488 - 28s/epoch - 22ms/step\n",
            "Epoch 11/30\n",
            "1250/1250 - 27s - loss: 1.4841 - acc: 0.4818 - val_loss: 1.2966 - val_acc: 0.5441 - 27s/epoch - 22ms/step\n",
            "Epoch 12/30\n",
            "1250/1250 - 27s - loss: 1.4825 - acc: 0.4799 - val_loss: 1.2980 - val_acc: 0.5458 - 27s/epoch - 22ms/step\n",
            "Epoch 13/30\n",
            "1250/1250 - 27s - loss: 1.4656 - acc: 0.4869 - val_loss: 1.3075 - val_acc: 0.5446 - 27s/epoch - 22ms/step\n",
            "Epoch 14/30\n",
            "1250/1250 - 27s - loss: 1.4643 - acc: 0.4861 - val_loss: 1.2786 - val_acc: 0.5574 - 27s/epoch - 22ms/step\n",
            "Epoch 15/30\n",
            "1250/1250 - 27s - loss: 1.4571 - acc: 0.4901 - val_loss: 1.2998 - val_acc: 0.5434 - 27s/epoch - 22ms/step\n",
            "Epoch 16/30\n",
            "1250/1250 - 28s - loss: 1.4526 - acc: 0.4922 - val_loss: 1.2719 - val_acc: 0.5637 - 28s/epoch - 22ms/step\n",
            "Epoch 17/30\n",
            "1250/1250 - 28s - loss: 1.4412 - acc: 0.4932 - val_loss: 1.2792 - val_acc: 0.5509 - 28s/epoch - 22ms/step\n",
            "Epoch 18/30\n",
            "1250/1250 - 27s - loss: 1.4509 - acc: 0.4888 - val_loss: 1.2707 - val_acc: 0.5587 - 27s/epoch - 21ms/step\n",
            "Epoch 19/30\n",
            "1250/1250 - 27s - loss: 1.4393 - acc: 0.4963 - val_loss: 1.2764 - val_acc: 0.5560 - 27s/epoch - 22ms/step\n",
            "Epoch 20/30\n",
            "1250/1250 - 27s - loss: 1.4359 - acc: 0.4947 - val_loss: 1.2425 - val_acc: 0.5703 - 27s/epoch - 22ms/step\n",
            "Epoch 21/30\n",
            "1250/1250 - 27s - loss: 1.4406 - acc: 0.4937 - val_loss: 1.2407 - val_acc: 0.5739 - 27s/epoch - 22ms/step\n",
            "Epoch 22/30\n",
            "1250/1250 - 27s - loss: 1.4363 - acc: 0.4965 - val_loss: 1.2831 - val_acc: 0.5461 - 27s/epoch - 22ms/step\n",
            "Epoch 23/30\n",
            "1250/1250 - 27s - loss: 1.4350 - acc: 0.4982 - val_loss: 1.2658 - val_acc: 0.5568 - 27s/epoch - 22ms/step\n",
            "Epoch 24/30\n",
            "1250/1250 - 27s - loss: 1.4272 - acc: 0.4999 - val_loss: 1.2577 - val_acc: 0.5641 - 27s/epoch - 21ms/step\n",
            "Epoch 25/30\n",
            "1250/1250 - 27s - loss: 1.4278 - acc: 0.5025 - val_loss: 1.2445 - val_acc: 0.5663 - 27s/epoch - 22ms/step\n",
            "Epoch 26/30\n",
            "1250/1250 - 27s - loss: 1.4170 - acc: 0.5024 - val_loss: 1.2638 - val_acc: 0.5594 - 27s/epoch - 22ms/step\n",
            "Epoch 27/30\n",
            "1250/1250 - 27s - loss: 1.4210 - acc: 0.5027 - val_loss: 1.2727 - val_acc: 0.5524 - 27s/epoch - 22ms/step\n",
            "Epoch 28/30\n",
            "1250/1250 - 27s - loss: 1.4143 - acc: 0.5043 - val_loss: 1.2531 - val_acc: 0.5689 - 27s/epoch - 22ms/step\n",
            "Epoch 29/30\n",
            "1250/1250 - 27s - loss: 1.4202 - acc: 0.5014 - val_loss: 1.2550 - val_acc: 0.5650 - 27s/epoch - 22ms/step\n",
            "Epoch 30/30\n",
            "1250/1250 - 27s - loss: 1.4092 - acc: 0.5077 - val_loss: 1.2217 - val_acc: 0.5823 - 27s/epoch - 22ms/step\n"
          ]
        }
      ],
      "source": [
        "history = model.fit(\n",
        "      train_generator,\n",
        "      steps_per_epoch= x_train.shape[0]/ 32,\n",
        "      epochs=30,\n",
        "      validation_data=validation_generator,\n",
        "      validation_steps= x_valid.shape[0]/ 32,\n",
        "      verbose=2)"
      ]
    },
    {
      "cell_type": "code",
      "execution_count": null,
      "metadata": {
        "id": "AIStLSJHc3vk"
      },
      "outputs": [],
      "source": [
        "model.save('cifar10_model.h5')"
      ]
    },
    {
      "cell_type": "code",
      "execution_count": null,
      "metadata": {
        "colab": {
          "base_uri": "https://localhost:8080/",
          "height": 545
        },
        "id": "0UpNzCXTf6EZ",
        "outputId": "a0262ef4-6462-4ebc-e0f5-a5b4bf2ff48c"
      },
      "outputs": [
        {
          "output_type": "display_data",
          "data": {
            "text/plain": [
              "<Figure size 432x288 with 1 Axes>"
            ],
            "image/png": "[encoded data removed]"
          },
          "metadata": {
            "needs_background": "light"
          }
        },
        {
          "output_type": "display_data",
          "data": {
            "text/plain": [
              "<Figure size 432x288 with 1 Axes>"
            ],
            "image/png": "[encoded data removed]"
          },
          "metadata": {
            "needs_background": "light"
          }
        }
      ],
      "source": [
        "acc = history.history['acc']\n",
        "val_acc = history.history['val_acc']\n",
        "loss = history.history['loss']\n",
        "val_loss = history.history['val_loss']\n",
        "\n",
        "epochs = range(len(acc))\n",
        "\n",
        "plt.plot(epochs, acc, 'bo', label='Training acc')\n",
        "plt.plot(epochs, val_acc, 'b', label='Validation acc')\n",
        "plt.title('Training and validation accuracy')\n",
        "plt.legend()\n",
        "\n",
        "plt.figure()\n",
        "\n",
        "plt.plot(epochs, loss, 'bo', label='Training loss')\n",
        "plt.plot(epochs, val_loss, 'b', label='Validation loss')\n",
        "plt.title('Training and validation loss')\n",
        "plt.legend()\n",
        "\n",
        "plt.show()"
      ]
    },
    {
      "cell_type": "code",
      "execution_count": null,
      "metadata": {
        "colab": {
          "base_uri": "https://localhost:8080/"
        },
        "id": "XJGRAjYBf_NF",
        "outputId": "6d14a76b-b91b-4248-dc79-6859c27ff9e3"
      },
      "outputs": [
        {
          "output_type": "stream",
          "name": "stdout",
          "text": [
            "Model: \"vgg16\"\n",
            "_________________________________________________________________\n",
            " Layer (type)                Output Shape              Param #   \n",
            "=================================================================\n",
            " input_1 (InputLayer)        [(None, 32, 32, 3)]       0         \n",
            "                                                                 \n",
            " block1_conv1 (Conv2D)       (None, 32, 32, 64)        1792      \n",
            "                                                                 \n",
            " block1_conv2 (Conv2D)       (None, 32, 32, 64)        36928     \n",
            "                                                                 \n",
            " block1_pool (MaxPooling2D)  (None, 16, 16, 64)        0         \n",
            "                                                                 \n",
            " block2_conv1 (Conv2D)       (None, 16, 16, 128)       73856     \n",
            "                                                                 \n",
            " block2_conv2 (Conv2D)       (None, 16, 16, 128)       147584    \n",
            "                                                                 \n",
            " block2_pool (MaxPooling2D)  (None, 8, 8, 128)         0         \n",
            "                                                                 \n",
            " block3_conv1 (Conv2D)       (None, 8, 8, 256)         295168    \n",
            "                                                                 \n",
            " block3_conv2 (Conv2D)       (None, 8, 8, 256)         590080    \n",
            "                                                                 \n",
            " block3_conv3 (Conv2D)       (None, 8, 8, 256)         590080    \n",
            "                                                                 \n",
            " block3_pool (MaxPooling2D)  (None, 4, 4, 256)         0         \n",
            "                                                                 \n",
            " block4_conv1 (Conv2D)       (None, 4, 4, 512)         1180160   \n",
            "                                                                 \n",
            " block4_conv2 (Conv2D)       (None, 4, 4, 512)         2359808   \n",
            "                                                                 \n",
            " block4_conv3 (Conv2D)       (None, 4, 4, 512)         2359808   \n",
            "                                                                 \n",
            " block4_pool (MaxPooling2D)  (None, 2, 2, 512)         0         \n",
            "                                                                 \n",
            " block5_conv1 (Conv2D)       (None, 2, 2, 512)         2359808   \n",
            "                                                                 \n",
            " block5_conv2 (Conv2D)       (None, 2, 2, 512)         2359808   \n",
            "                                                                 \n",
            " block5_conv3 (Conv2D)       (None, 2, 2, 512)         2359808   \n",
            "                                                                 \n",
            " block5_pool (MaxPooling2D)  (None, 1, 1, 512)         0         \n",
            "                                                                 \n",
            "=================================================================\n",
            "Total params: 14,714,688\n",
            "Trainable params: 0\n",
            "Non-trainable params: 14,714,688\n",
            "_________________________________________________________________\n"
          ]
        }
      ],
      "source": [
        "conv_base.summary()"
      ]
    },
    {
      "cell_type": "code",
      "execution_count": null,
      "metadata": {
        "id": "b2m6qBaEgqFQ"
      },
      "outputs": [],
      "source": [
        "conv_base.trainable = True\n",
        "\n",
        "set_trainable = False\n",
        "for layer in conv_base.layers:\n",
        "    if layer.name == 'block5_conv1':\n",
        "        set_trainable = True\n",
        "    if set_trainable:\n",
        "        layer.trainable = True\n",
        "    else:\n",
        "        layer.trainable = False"
      ]
    },
    {
      "cell_type": "code",
      "execution_count": null,
      "metadata": {
        "colab": {
          "base_uri": "https://localhost:8080/"
        },
        "id": "kvUpcb_5gxM8",
        "outputId": "63ff88fe-1506-4a58-86be-b2ec7a8bbb04"
      },
      "outputs": [
        {
          "output_type": "stream",
          "name": "stdout",
          "text": [
            "Epoch 1/30\n",
            "1250/1250 - 32s - loss: 1.7772 - acc: 0.3575 - val_loss: 1.2870 - val_acc: 0.5574 - 32s/epoch - 25ms/step\n",
            "Epoch 2/30\n",
            "1250/1250 - 32s - loss: 1.4351 - acc: 0.5014 - val_loss: 1.1599 - val_acc: 0.5969 - 32s/epoch - 25ms/step\n",
            "Epoch 3/30\n",
            "1250/1250 - 31s - loss: 1.3580 - acc: 0.5349 - val_loss: 1.1045 - val_acc: 0.6166 - 31s/epoch - 25ms/step\n",
            "Epoch 4/30\n",
            "1250/1250 - 31s - loss: 1.3092 - acc: 0.5596 - val_loss: 1.1428 - val_acc: 0.6162 - 31s/epoch - 25ms/step\n",
            "Epoch 5/30\n",
            "1250/1250 - 31s - loss: 1.2841 - acc: 0.5657 - val_loss: 1.0976 - val_acc: 0.6309 - 31s/epoch - 25ms/step\n",
            "Epoch 6/30\n",
            "1250/1250 - 31s - loss: 1.2463 - acc: 0.5770 - val_loss: 1.0750 - val_acc: 0.6353 - 31s/epoch - 25ms/step\n",
            "Epoch 7/30\n",
            "1250/1250 - 31s - loss: 1.2376 - acc: 0.5796 - val_loss: 1.0827 - val_acc: 0.6314 - 31s/epoch - 25ms/step\n",
            "Epoch 8/30\n",
            "1250/1250 - 31s - loss: 1.2204 - acc: 0.5870 - val_loss: 1.0005 - val_acc: 0.6616 - 31s/epoch - 25ms/step\n",
            "Epoch 9/30\n",
            "1250/1250 - 31s - loss: 1.2181 - acc: 0.5903 - val_loss: 1.0182 - val_acc: 0.6550 - 31s/epoch - 25ms/step\n",
            "Epoch 10/30\n",
            "1250/1250 - 31s - loss: 1.1997 - acc: 0.5961 - val_loss: 1.0357 - val_acc: 0.6517 - 31s/epoch - 25ms/step\n",
            "Epoch 11/30\n",
            "1250/1250 - 31s - loss: 1.1844 - acc: 0.5997 - val_loss: 1.0518 - val_acc: 0.6381 - 31s/epoch - 25ms/step\n",
            "Epoch 12/30\n",
            "1250/1250 - 31s - loss: 1.1752 - acc: 0.6045 - val_loss: 0.9849 - val_acc: 0.6719 - 31s/epoch - 25ms/step\n",
            "Epoch 13/30\n",
            "1250/1250 - 31s - loss: 1.1671 - acc: 0.6077 - val_loss: 0.9866 - val_acc: 0.6640 - 31s/epoch - 25ms/step\n",
            "Epoch 14/30\n",
            "1250/1250 - 31s - loss: 1.1615 - acc: 0.6085 - val_loss: 1.0682 - val_acc: 0.6467 - 31s/epoch - 25ms/step\n",
            "Epoch 15/30\n",
            "1250/1250 - 31s - loss: 1.1614 - acc: 0.6077 - val_loss: 0.9421 - val_acc: 0.6819 - 31s/epoch - 25ms/step\n",
            "Epoch 16/30\n",
            "1250/1250 - 31s - loss: 1.1383 - acc: 0.6191 - val_loss: 0.9836 - val_acc: 0.6816 - 31s/epoch - 24ms/step\n",
            "Epoch 17/30\n",
            "1250/1250 - 31s - loss: 1.1520 - acc: 0.6153 - val_loss: 0.9767 - val_acc: 0.6773 - 31s/epoch - 25ms/step\n",
            "Epoch 18/30\n",
            "1250/1250 - 31s - loss: 1.1438 - acc: 0.6162 - val_loss: 0.9264 - val_acc: 0.6883 - 31s/epoch - 25ms/step\n",
            "Epoch 19/30\n",
            "1250/1250 - 31s - loss: 1.1255 - acc: 0.6203 - val_loss: 0.9808 - val_acc: 0.6678 - 31s/epoch - 25ms/step\n",
            "Epoch 20/30\n",
            "1250/1250 - 31s - loss: 1.1276 - acc: 0.6183 - val_loss: 0.9627 - val_acc: 0.6788 - 31s/epoch - 25ms/step\n",
            "Epoch 21/30\n",
            "1250/1250 - 31s - loss: 1.1183 - acc: 0.6245 - val_loss: 0.9434 - val_acc: 0.6850 - 31s/epoch - 25ms/step\n",
            "Epoch 22/30\n",
            "1250/1250 - 31s - loss: 1.1211 - acc: 0.6234 - val_loss: 0.9335 - val_acc: 0.6874 - 31s/epoch - 25ms/step\n",
            "Epoch 23/30\n",
            "1250/1250 - 31s - loss: 1.1097 - acc: 0.6285 - val_loss: 0.9761 - val_acc: 0.6667 - 31s/epoch - 25ms/step\n",
            "Epoch 24/30\n",
            "1250/1250 - 31s - loss: 1.1093 - acc: 0.6277 - val_loss: 0.9246 - val_acc: 0.6929 - 31s/epoch - 24ms/step\n",
            "Epoch 25/30\n",
            "1250/1250 - 30s - loss: 1.1010 - acc: 0.6287 - val_loss: 0.9342 - val_acc: 0.6882 - 30s/epoch - 24ms/step\n",
            "Epoch 26/30\n",
            "1250/1250 - 30s - loss: 1.0973 - acc: 0.6315 - val_loss: 0.9468 - val_acc: 0.6848 - 30s/epoch - 24ms/step\n",
            "Epoch 27/30\n",
            "1250/1250 - 31s - loss: 1.0955 - acc: 0.6323 - val_loss: 0.9364 - val_acc: 0.6831 - 31s/epoch - 25ms/step\n",
            "Epoch 28/30\n",
            "1250/1250 - 31s - loss: 1.0899 - acc: 0.6339 - val_loss: 0.9142 - val_acc: 0.6938 - 31s/epoch - 25ms/step\n",
            "Epoch 29/30\n",
            "1250/1250 - 30s - loss: 1.0846 - acc: 0.6350 - val_loss: 0.9508 - val_acc: 0.6788 - 30s/epoch - 24ms/step\n",
            "Epoch 30/30\n",
            "1250/1250 - 31s - loss: 1.0733 - acc: 0.6384 - val_loss: 0.9044 - val_acc: 0.6959 - 31s/epoch - 25ms/step\n"
          ]
        }
      ],
      "source": [
        "model.compile(loss='categorical_crossentropy',\n",
        "              optimizer=optimizers.Adam(learning_rate=1e-3),\n",
        "              metrics=['acc'])\n",
        "history = model.fit(\n",
        "      train_generator,\n",
        "      steps_per_epoch= x_train.shape[0]/ 32,\n",
        "      epochs=30,\n",
        "      validation_data=validation_generator,\n",
        "      validation_steps= x_valid.shape[0]/ 32,\n",
        "      verbose=2)"
      ]
    },
    {
      "cell_type": "code",
      "execution_count": null,
      "metadata": {
        "id": "LWup-CLgg8wT"
      },
      "outputs": [],
      "source": [
        "model.save('cifar10_2.h5')"
      ]
    },
    {
      "cell_type": "code",
      "execution_count": null,
      "metadata": {
        "colab": {
          "base_uri": "https://localhost:8080/",
          "height": 545
        },
        "id": "Zrq1_8KyhMS7",
        "outputId": "f64e5b8c-4cf3-4076-8339-23c5beae79aa"
      },
      "outputs": [
        {
          "output_type": "display_data",
          "data": {
            "text/plain": [
              "<Figure size 432x288 with 1 Axes>"
            ],
            "image/png": "[encoded data removed]"
          },
          "metadata": {
            "needs_background": "light"
          }
        },
        {
          "output_type": "display_data",
          "data": {
            "text/plain": [
              "<Figure size 432x288 with 1 Axes>"
            ],
            "image/png": "[encoded data removed]"
          },
          "metadata": {
            "needs_background": "light"
          }
        }
      ],
      "source": [
        "acc = history.history['acc']\n",
        "val_acc = history.history['val_acc']\n",
        "loss = history.history['loss']\n",
        "val_loss = history.history['val_loss']\n",
        "\n",
        "epochs = range(len(acc))\n",
        "\n",
        "plt.plot(epochs, acc, 'bo', label='Training acc')\n",
        "plt.plot(epochs, val_acc, 'b', label='Validation acc')\n",
        "plt.title('Training and validation accuracy')\n",
        "plt.legend()\n",
        "\n",
        "plt.figure()\n",
        "\n",
        "plt.plot(epochs, loss, 'bo', label='Training loss')\n",
        "plt.plot(epochs, val_loss, 'b', label='Validation loss')\n",
        "plt.title('Training and validation loss')\n",
        "plt.legend()\n",
        "\n",
        "plt.show()"
      ]
    },
    {
      "cell_type": "code",
      "execution_count": null,
      "metadata": {
        "colab": {
          "base_uri": "https://localhost:8080/",
          "height": 545
        },
        "id": "DG-7Zp31hPMq",
        "outputId": "dcacfa26-1a9b-41de-964b-148e23ea4957"
      },
      "outputs": [
        {
          "output_type": "display_data",
          "data": {
            "text/plain": [
              "<Figure size 432x288 with 1 Axes>"
            ],
            "image/png": "[encoded data removed]"
          },
          "metadata": {
            "needs_background": "light"
          }
        },
        {
          "output_type": "display_data",
          "data": {
            "text/plain": [
              "<Figure size 432x288 with 1 Axes>"
            ],
            "image/png": "[encoded data removed]"
          },
          "metadata": {
            "needs_background": "light"
          }
        }
      ],
      "source": [
        "def smooth_curve(points, factor=0.8):\n",
        "  smoothed_points = []\n",
        "  for point in points:\n",
        "    if smoothed_points:\n",
        "      previous = smoothed_points[-1]\n",
        "      smoothed_points.append(previous * factor + point * (1 - factor))\n",
        "    else:\n",
        "      smoothed_points.append(point)\n",
        "  return smoothed_points\n",
        "\n",
        "plt.plot(epochs,\n",
        "         smooth_curve(acc), 'bo', label='Smoothed training acc')\n",
        "plt.plot(epochs,\n",
        "         smooth_curve(val_acc), 'b', label='Smoothed validation acc')\n",
        "plt.title('Training and validation accuracy')\n",
        "plt.legend()\n",
        "\n",
        "plt.figure()\n",
        "\n",
        "plt.plot(epochs,\n",
        "         smooth_curve(loss), 'bo', label='Smoothed training loss')\n",
        "plt.plot(epochs,\n",
        "         smooth_curve(val_loss), 'b', label='Smoothed validation loss')\n",
        "plt.title('Training and validation loss')\n",
        "plt.legend()\n",
        "\n",
        "plt.show()"
      ]
    },
    {
      "cell_type": "code",
      "source": [
        ""
      ],
      "metadata": {
        "id": "hX2UAR8iROCy"
      },
      "execution_count": null,
      "outputs": []
    }
  ],
  "metadata": {
    "accelerator": "GPU",
    "colab": {
      "collapsed_sections": [],
      "name": "Assignment_3___Abddallah_Mohammed_Ahmed (2).ipynb",
      "provenance": [],
      "include_colab_link": true
    },
    "gpuClass": "standard",
    "kernelspec": {
      "display_name": "Python 3",
      "name": "python3"
    },
    "language_info": {
      "name": "python"
    }
  },
  "nbformat": 4,
  "nbformat_minor": 0
}